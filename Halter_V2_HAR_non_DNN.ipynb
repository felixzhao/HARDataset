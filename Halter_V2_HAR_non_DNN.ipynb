{
  "nbformat": 4,
  "nbformat_minor": 0,
  "metadata": {
    "colab": {
      "provenance": [],
      "authorship_tag": "ABX9TyPUDDc/Q61OwRY1IRgCadyo",
      "include_colab_link": true
    },
    "kernelspec": {
      "name": "python3",
      "display_name": "Python 3"
    },
    "language_info": {
      "name": "python"
    }
  },
  "cells": [
    {
      "cell_type": "markdown",
      "metadata": {
        "id": "view-in-github",
        "colab_type": "text"
      },
      "source": [
        "<a href=\"https://colab.research.google.com/github/felixzhao/HARDataset/blob/main/Halter_V2_HAR_non_DNN.ipynb\" target=\"_parent\"><img src=\"https://colab.research.google.com/assets/colab-badge.svg\" alt=\"Open In Colab\"/></a>"
      ]
    },
    {
      "cell_type": "code",
      "execution_count": 53,
      "metadata": {
        "id": "DTSPb-5MRxjD"
      },
      "outputs": [],
      "source": [
        "import numpy as np\n",
        "import pandas as pd\n",
        "import itertools\n",
        "import matplotlib.pyplot as plt\n",
        "from sklearn.metrics import confusion_matrix\n",
        "from datetime import datetime\n",
        "\n",
        "from sklearn import linear_model\n",
        "from sklearn import metrics\n",
        "\n",
        "from sklearn.model_selection import GridSearchCV\n",
        "from xgboost import XGBClassifier"
      ]
    },
    {
      "cell_type": "code",
      "source": [
        "import warnings\n",
        "warnings.filterwarnings('ignore')\n",
        "\n",
        "pd.set_option('display.max_columns', None)\n",
        "pd.options.display.float_format = '{:.2f}'.format"
      ],
      "metadata": {
        "id": "3s7hD0CeSOKQ"
      },
      "execution_count": 54,
      "outputs": []
    },
    {
      "cell_type": "markdown",
      "source": [
        "# load data"
      ],
      "metadata": {
        "id": "nP8PYZS7SZM5"
      }
    },
    {
      "cell_type": "code",
      "source": [
        "from google.colab import drive\n",
        "drive.mount('/content/drive')"
      ],
      "metadata": {
        "colab": {
          "base_uri": "https://localhost:8080/"
        },
        "id": "nyckbzG8SPxu",
        "outputId": "0a4725d7-b3f3-468c-8239-3472e0fed11b"
      },
      "execution_count": 55,
      "outputs": [
        {
          "output_type": "stream",
          "name": "stdout",
          "text": [
            "Drive already mounted at /content/drive; to attempt to forcibly remount, call drive.mount(\"/content/drive\", force_remount=True).\n"
          ]
        }
      ]
    },
    {
      "cell_type": "code",
      "source": [
        "prefix_path = \"drive/MyDrive/UCI_HAR_Dataset\""
      ],
      "metadata": {
        "id": "xM0-ocKDSRX6"
      },
      "execution_count": 56,
      "outputs": []
    },
    {
      "cell_type": "markdown",
      "source": [
        "## train data"
      ],
      "metadata": {
        "id": "ECBU4zINXBnt"
      }
    },
    {
      "cell_type": "code",
      "source": [
        "class HARFeatureLoader:\n",
        "    def __init__(self, root_path):\n",
        "        self.root = root_path\n",
        "        features_path = f'{prefix_path}/features.txt'\n",
        "        self.x_train_path = f'{prefix_path}/train/X_train.txt'\n",
        "        self.subject_train_path = f'{prefix_path}/train/subject_train.txt'\n",
        "        self.label_dict = {\n",
        "            1: 'WALKING', \n",
        "            2:'WALKING_UPSTAIRS',\n",
        "            3:'WALKING_DOWNSTAIRS',\n",
        "            4:'SITTING', \n",
        "            5:'STANDING',\n",
        "            6:'LAYING'\n",
        "            }\n",
        "        self.feature_names = self._load_features_names(features_path)\n",
        "        self.train_df = None\n",
        "        self.test_df = None\n",
        "\n",
        "    def _load_features_names(self, path:str):\n",
        "        feature_names = []\n",
        "        with open(path) as f:\n",
        "            feature_names = [line.split()[1] for line in f.readlines()]\n",
        "        return feature_names\n",
        "\n",
        "    def _generate_path(self, split_type:str):\n",
        "        x_path = f'{prefix_path}/{split_type}/X_{split_type}.txt'\n",
        "        subject_path = f'{prefix_path}/{split_type}/subject_{split_type}.txt'\n",
        "        y_path = f'{prefix_path}/{split_type}/y_{split_type}.txt'\n",
        "        return x_path, subject_path, y_path\n",
        "\n",
        "    def _remove_duplicate_columns(self, df):\n",
        "        df_copy = df.copy()\n",
        "\n",
        "        # find duplicate column names\n",
        "        duplicate_cols = df_copy.columns.duplicated()\n",
        "\n",
        "        # drop duplicate columns\n",
        "        return df_copy.drop(df_copy.columns[duplicate_cols], axis=1)\n",
        "\n",
        "    def _load(self, x_path, subject_path, y_path):\n",
        "        x = pd.read_csv(x_path, delim_whitespace=True, header=None)\n",
        "        x.columns = [self.feature_names]\n",
        "        x['subject'] = pd.read_csv(subject_path, header=None, squeeze=True)\n",
        "        y = pd.read_csv(y_path, names=['Activity'], squeeze=True)\n",
        "        y_labels = y.map(self.label_dict)\n",
        "        df = x\n",
        "        df['Activity'] = y\n",
        "        df['ActivityName'] = y_labels\n",
        "        return df\n",
        "\n",
        "    def _load_features(self, df):\n",
        "        raw_df = self._remove_duplicate_columns(df)\n",
        "        columns = raw_df.columns \\\n",
        "                        .get_level_values(0) \\\n",
        "                        .str.replace('[()]','') \\\n",
        "                        .str.replace('[-]', '') \\\n",
        "                        .str.replace('[,]','')\n",
        "        raw_df.columns = columns\n",
        "        x = raw_df.drop(['subject', 'Activity', 'ActivityName'], axis=1)\n",
        "        y = raw_df.ActivityName\n",
        "        print(f'{x.shape=}, {y.shape=}')\n",
        "        return x, y\n",
        "\n",
        "\n",
        "    def load_train(self):\n",
        "        print('load train data.')\n",
        "        x_path, subject_path, y_path = self._generate_path('train')\n",
        "        self.train_df = self._load(x_path, subject_path, y_path)\n",
        "        return self._load_features(self.train_df)\n",
        "\n",
        "    def load_test(self):\n",
        "        print('load test data.')\n",
        "        x_path, subject_path, y_path = self._generate_path('test')\n",
        "        self.train_df = self._load(x_path, subject_path, y_path)\n",
        "        return self._load_features(self.train_df)\n",
        "  "
      ],
      "metadata": {
        "id": "e0ebom1jjNXr"
      },
      "execution_count": 57,
      "outputs": []
    },
    {
      "cell_type": "markdown",
      "source": [
        "# load data by loader"
      ],
      "metadata": {
        "id": "r2oZVuuzRJGJ"
      }
    },
    {
      "cell_type": "code",
      "source": [
        "loader = HARFeatureLoader(prefix_path)\n",
        "X_train, y_train = loader.load_train()\n",
        "X_test, y_test = loader.load_test()"
      ],
      "metadata": {
        "colab": {
          "base_uri": "https://localhost:8080/"
        },
        "id": "UxtBkhskRIbX",
        "outputId": "888a839e-76ca-4be6-9eac-072d70fd4944"
      },
      "execution_count": 73,
      "outputs": [
        {
          "output_type": "stream",
          "name": "stdout",
          "text": [
            "load train data.\n",
            "x.shape=(7352, 435), y.shape=(7352,)\n",
            "load test data.\n",
            "x.shape=(2947, 435), y.shape=(2947,)\n"
          ]
        }
      ]
    },
    {
      "cell_type": "code",
      "source": [
        "labels=list(loader.label_dict.values())"
      ],
      "metadata": {
        "id": "aDaGvCTvRazz"
      },
      "execution_count": 74,
      "outputs": []
    },
    {
      "cell_type": "markdown",
      "source": [
        "## XGBoots"
      ],
      "metadata": {
        "id": "MmbKhbj0gIxB"
      }
    },
    {
      "cell_type": "code",
      "source": [
        "param_grid = {'n_estimators':np.arange(2)}\n",
        "gbdt = XGBClassifier()\n",
        "# model = GridSearchCV(gbdt, param_grid=param_grid, n_jobs=-1)"
      ],
      "metadata": {
        "id": "i47qSLAxgIGT"
      },
      "execution_count": 75,
      "outputs": []
    },
    {
      "cell_type": "code",
      "source": [
        "gbdt.fit(X_train, y_train)"
      ],
      "metadata": {
        "colab": {
          "base_uri": "https://localhost:8080/"
        },
        "id": "ZTkp2C9QbyIa",
        "outputId": "9f55a39a-ef9e-452e-9a3f-d5302057618c"
      },
      "execution_count": 76,
      "outputs": [
        {
          "output_type": "execute_result",
          "data": {
            "text/plain": [
              "XGBClassifier(objective='multi:softprob')"
            ]
          },
          "metadata": {},
          "execution_count": 76
        }
      ]
    },
    {
      "cell_type": "code",
      "source": [
        "y_pred = gbdt.predict(X_test)\n",
        "accuracy = metrics.accuracy_score(y_true=y_test, y_pred=y_pred)\n",
        "print(accuracy)"
      ],
      "metadata": {
        "colab": {
          "base_uri": "https://localhost:8080/"
        },
        "id": "mn4YXMQZnvHQ",
        "outputId": "489ac60d-0310-413c-d14c-38915aa98766"
      },
      "execution_count": 77,
      "outputs": [
        {
          "output_type": "stream",
          "name": "stdout",
          "text": [
            "0.9382422802850356\n"
          ]
        }
      ]
    },
    {
      "cell_type": "code",
      "source": [
        "from sklearn.metrics import confusion_matrix\n",
        "import seaborn as sns\n",
        "import matplotlib.pyplot as plt\n",
        "\n",
        "fig, ax = plt.subplots(figsize=(15,15))\n",
        "# make predictions on the test set\n",
        "y_pred = gbdt.predict(X_test)\n",
        "\n",
        "# create the confusion matrix\n",
        "cm = confusion_matrix(y_test, y_pred, labels=labels)\n",
        "\n",
        "# plot the confusion matrix using seaborn\n",
        "sns.heatmap(cm, annot=True, fmt='d', cmap='Blues', xticklabels=labels, yticklabels=labels)\n",
        "plt.xlabel('Predicted')\n",
        "plt.ylabel('True')"
      ],
      "metadata": {
        "colab": {
          "base_uri": "https://localhost:8080/",
          "height": 896
        },
        "id": "UFyWk1YShe5r",
        "outputId": "066332a0-f375-495f-9568-7483e22a9594"
      },
      "execution_count": 78,
      "outputs": [
        {
          "output_type": "execute_result",
          "data": {
            "text/plain": [
              "Text(113.09375, 0.5, 'True')"
            ]
          },
          "metadata": {},
          "execution_count": 78
        },
        {
          "output_type": "display_data",
          "data": {
            "text/plain": [
              "<Figure size 1080x1080 with 2 Axes>"
            ],
            "image/png": "[encoded data removed]"
          },
          "metadata": {
            "needs_background": "light"
          }
        }
      ]
    },
    {
      "cell_type": "code",
      "source": [],
      "metadata": {
        "id": "_-UPZCXUmCf0"
      },
      "execution_count": null,
      "outputs": []
    }
  ]
}