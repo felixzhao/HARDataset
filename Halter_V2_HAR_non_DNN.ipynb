{
  "cells": [
    {
      "cell_type": "markdown",
      "metadata": {
        "id": "view-in-github",
        "colab_type": "text"
      },
      "source": [
        "<a href=\"https://colab.research.google.com/github/felixzhao/HARDataset/blob/main/Halter_V2_HAR_non_DNN.ipynb\" target=\"_parent\"><img src=\"https://colab.research.google.com/assets/colab-badge.svg\" alt=\"Open In Colab\"/></a>"
      ]
    },
    {
      "cell_type": "code",
      "execution_count": null,
      "metadata": {
        "id": "DTSPb-5MRxjD"
      },
      "outputs": [],
      "source": [
        "import numpy as np\n",
        "import pandas as pd\n",
        "# import itertools\n",
        "\n",
        "from sklearn.metrics import confusion_matrix\n",
        "from datetime import datetime\n",
        "from sklearn.metrics import accuracy_score\n",
        "\n",
        "\n",
        "# from sklearn import metrics\n",
        "\n",
        "from sklearn.model_selection import GridSearchCV\n",
        "\n",
        "import xgboost as xgb\n",
        "import matplotlib.pyplot as plt"
      ]
    },
    {
      "cell_type": "code",
      "execution_count": null,
      "metadata": {
        "id": "3s7hD0CeSOKQ"
      },
      "outputs": [],
      "source": [
        "import warnings\n",
        "warnings.filterwarnings('ignore')\n",
        "\n",
        "pd.set_option('display.max_columns', None)\n",
        "pd.options.display.float_format = '{:.2f}'.format"
      ]
    },
    {
      "cell_type": "markdown",
      "metadata": {
        "id": "nP8PYZS7SZM5"
      },
      "source": [
        "# load data"
      ]
    },
    {
      "cell_type": "code",
      "execution_count": null,
      "metadata": {
        "colab": {
          "base_uri": "https://localhost:8080/"
        },
        "id": "nyckbzG8SPxu",
        "outputId": "92c78044-5a36-49cc-d316-c67f2c7e2292"
      },
      "outputs": [
        {
          "name": "stdout",
          "output_type": "stream",
          "text": [
            "Drive already mounted at /content/drive; to attempt to forcibly remount, call drive.mount(\"/content/drive\", force_remount=True).\n"
          ]
        }
      ],
      "source": [
        "from google.colab import drive\n",
        "drive.mount('/content/drive')"
      ]
    },
    {
      "cell_type": "code",
      "execution_count": null,
      "metadata": {
        "id": "xM0-ocKDSRX6"
      },
      "outputs": [],
      "source": [
        "prefix_path = \"drive/MyDrive/UCI_HAR_Dataset\""
      ]
    },
    {
      "cell_type": "markdown",
      "metadata": {
        "id": "ECBU4zINXBnt"
      },
      "source": [
        "## train data"
      ]
    },
    {
      "cell_type": "code",
      "execution_count": null,
      "metadata": {
        "id": "e0ebom1jjNXr"
      },
      "outputs": [],
      "source": [
        "class HARFeatureLoader:\n",
        "    def __init__(self, root_path):\n",
        "        self.root = root_path\n",
        "        features_path = f'{prefix_path}/features.txt'\n",
        "        self.x_train_path = f'{prefix_path}/train/X_train.txt'\n",
        "        self.subject_train_path = f'{prefix_path}/train/subject_train.txt'\n",
        "        self.label_dict = {\n",
        "            1: 'WALKING', \n",
        "            2:'WALKING_UPSTAIRS',\n",
        "            3:'WALKING_DOWNSTAIRS',\n",
        "            4:'SITTING', \n",
        "            5:'STANDING',\n",
        "            6:'LAYING'\n",
        "            }\n",
        "        self.feature_names = self._load_features_names(features_path)\n",
        "        self.train_df = None\n",
        "        self.test_df = None\n",
        "\n",
        "    def _load_features_names(self, path:str):\n",
        "        feature_names = []\n",
        "        with open(path) as f:\n",
        "            feature_names = [line.split()[1] for line in f.readlines()]\n",
        "        return feature_names\n",
        "\n",
        "    def _generate_path(self, split_type:str):\n",
        "        x_path = f'{prefix_path}/{split_type}/X_{split_type}.txt'\n",
        "        subject_path = f'{prefix_path}/{split_type}/subject_{split_type}.txt'\n",
        "        y_path = f'{prefix_path}/{split_type}/y_{split_type}.txt'\n",
        "        return x_path, subject_path, y_path\n",
        "\n",
        "    def _remove_duplicate_columns(self, df):\n",
        "        df_copy = df.copy()\n",
        "\n",
        "        # find duplicate column names\n",
        "        duplicate_cols = df_copy.columns.duplicated()\n",
        "\n",
        "        # drop duplicate columns\n",
        "        return df_copy.drop(df_copy.columns[duplicate_cols], axis=1)\n",
        "\n",
        "    def _load(self, x_path, subject_path, y_path):\n",
        "        x = pd.read_csv(x_path, delim_whitespace=True, header=None)\n",
        "        x.columns = [self.feature_names]\n",
        "        x['subject'] = pd.read_csv(subject_path, header=None, squeeze=True)\n",
        "        y = pd.read_csv(y_path, names=['Activity'], squeeze=True)\n",
        "        y_labels = y.map(self.label_dict)\n",
        "        df = x\n",
        "        df['Activity'] = y\n",
        "        df['ActivityName'] = y_labels\n",
        "        return df\n",
        "\n",
        "    def _load_features(self, df):\n",
        "        raw_df = self._remove_duplicate_columns(df)\n",
        "        columns = raw_df.columns \\\n",
        "                        .get_level_values(0) \\\n",
        "                        .str.replace('[()]','') \\\n",
        "                        .str.replace('[-]', '') \\\n",
        "                        .str.replace('[,]','')\n",
        "        raw_df.columns = columns\n",
        "        x = raw_df.drop(['subject', 'Activity', 'ActivityName'], axis=1)\n",
        "        y = raw_df.ActivityName\n",
        "        print(f'{x.shape=}, {y.shape=}')\n",
        "        return x, y\n",
        "\n",
        "\n",
        "    def load_train(self):\n",
        "        print('load train data.')\n",
        "        x_path, subject_path, y_path = self._generate_path('train')\n",
        "        self.train_df = self._load(x_path, subject_path, y_path)\n",
        "        return self._load_features(self.train_df)\n",
        "\n",
        "    def load_test(self):\n",
        "        print('load test data.')\n",
        "        x_path, subject_path, y_path = self._generate_path('test')\n",
        "        self.train_df = self._load(x_path, subject_path, y_path)\n",
        "        return self._load_features(self.train_df)\n",
        "  "
      ]
    },
    {
      "cell_type": "markdown",
      "metadata": {
        "id": "r2oZVuuzRJGJ"
      },
      "source": [
        "# load data by loader"
      ]
    },
    {
      "cell_type": "code",
      "execution_count": null,
      "metadata": {
        "colab": {
          "base_uri": "https://localhost:8080/"
        },
        "id": "UxtBkhskRIbX",
        "outputId": "26397813-56eb-44d8-eb89-c45992b28ff7"
      },
      "outputs": [
        {
          "name": "stdout",
          "output_type": "stream",
          "text": [
            "load train data.\n",
            "x.shape=(7352, 435), y.shape=(7352,)\n",
            "load test data.\n",
            "x.shape=(2947, 435), y.shape=(2947,)\n"
          ]
        }
      ],
      "source": [
        "loader = HARFeatureLoader(prefix_path)\n",
        "X_train, y_train = loader.load_train()\n",
        "X_val, y_val = loader.load_test()"
      ]
    },
    {
      "cell_type": "code",
      "execution_count": null,
      "metadata": {
        "id": "aDaGvCTvRazz"
      },
      "outputs": [],
      "source": [
        "labels=list(loader.label_dict.values())"
      ]
    },
    {
      "cell_type": "markdown",
      "metadata": {
        "id": "MmbKhbj0gIxB"
      },
      "source": [
        "## XGBoots"
      ]
    },
    {
      "cell_type": "markdown",
      "metadata": {
        "id": "FU4mQHeiVO2s"
      },
      "source": [
        "XGBoost (eXtreme Gradient Boosting) is a powerful machine learning algorithm that can be used for multi-class classification problem. Here are some pros and cons of using XGBoost for multi-class classification:\n",
        "\n",
        "Pros:\n",
        "\n",
        "- XGBoost is a highly efficient and scalable algorithm that can handle large datasets with millions of examples and features.\n",
        "It can handle missing values and categorical variables, which can be transformed into numerical values using one-hot encoding.\n",
        "- XGBoost uses a technique called \"boosting\" which combines the predictions of multiple weak models to produce a strong final prediction. This makes the model robust to overfitting and improves its generalization performance.\n",
        "- XGBoost provides several regularization options such as L1 and L2 regularization which can help prevent overfitting.\n",
        "It has built-in support for parallel processing which can speed up the training process.\n",
        "- XGBoost has a built-in feature importance analysis mechanism, which allows you to understand which features are most important in determining the output of the model.\n",
        "- XGBoost can handle imbalanced datasets where some classes have much fewer examples than others\n",
        "\n",
        "\n",
        "Cons:\n",
        "\n",
        "- XGBoost requires careful tuning of its many hyperparameters, such as the learning rate, number of trees, and regularization parameters. This can be time-consuming and requires a good understanding of the algorithm.\n",
        "- XGBoost can be sensitive to the initial conditions of the data, and in some cases, it may not converge or produce poor results if the data is not properly preprocessed.\n",
        "- It can be memory-intensive and may require a powerful machine to handle large datasets.\n",
        "- The interpretability of the model can be difficult as it's a complex ensemble of decision trees.\n",
        "- It may take longer time to train a model than other algorithms such as Random Forest or Logistic Regression.\n",
        "\n",
        "\n",
        "Some multi-class classification algorithms may not perform well on datasets with highly correlated classes, resulting in poor generalization performance.\n",
        "In general, XGBoost is a powerful machine learning algorithm that can achieve high performance in many multi-class classification tasks, but it requires careful tuning and a good understanding of the algorithm to obtain the best results."
      ]
    },
    {
      "cell_type": "code",
      "execution_count": null,
      "metadata": {
        "id": "4MwWu8SdW5lS"
      },
      "outputs": [],
      "source": []
    },
    {
      "cell_type": "code",
      "execution_count": null,
      "metadata": {
        "colab": {
          "base_uri": "https://localhost:8080/"
        },
        "id": "wVatRGTVWA3J",
        "outputId": "2b78a5c7-54a5-41c8-a9ba-a772da0c7434"
      },
      "outputs": [
        {
          "name": "stdout",
          "output_type": "stream",
          "text": [
            "[0]\tvalidation_0-merror:0.07685\tvalidation_1-merror:0.177808\n",
            "Multiple eval metrics have been passed: 'validation_1-merror' will be used for early stopping.\n",
            "\n",
            "Will train until validation_1-merror hasn't improved in 10 rounds.\n",
            "[1]\tvalidation_0-merror:0.069097\tvalidation_1-merror:0.142518\n",
            "[2]\tvalidation_0-merror:0.065288\tvalidation_1-merror:0.14659\n",
            "[3]\tvalidation_0-merror:0.061072\tvalidation_1-merror:0.130302\n",
            "[4]\tvalidation_0-merror:0.061208\tvalidation_1-merror:0.136749\n",
            "[5]\tvalidation_0-merror:0.058487\tvalidation_1-merror:0.129963\n",
            "[6]\tvalidation_0-merror:0.053047\tvalidation_1-merror:0.122837\n",
            "[7]\tvalidation_0-merror:0.051551\tvalidation_1-merror:0.118765\n",
            "[8]\tvalidation_0-merror:0.048966\tvalidation_1-merror:0.113336\n",
            "[9]\tvalidation_0-merror:0.046926\tvalidation_1-merror:0.109942\n",
            "[10]\tvalidation_0-merror:0.046518\tvalidation_1-merror:0.109942\n",
            "[11]\tvalidation_0-merror:0.044614\tvalidation_1-merror:0.107906\n",
            "[12]\tvalidation_0-merror:0.044614\tvalidation_1-merror:0.109264\n",
            "[13]\tvalidation_0-merror:0.043662\tvalidation_1-merror:0.106888\n",
            "[14]\tvalidation_0-merror:0.042301\tvalidation_1-merror:0.104852\n",
            "[15]\tvalidation_0-merror:0.040941\tvalidation_1-merror:0.102138\n",
            "[16]\tvalidation_0-merror:0.039581\tvalidation_1-merror:0.103495\n",
            "[17]\tvalidation_0-merror:0.039309\tvalidation_1-merror:0.10112\n",
            "[18]\tvalidation_0-merror:0.039717\tvalidation_1-merror:0.099762\n",
            "[19]\tvalidation_0-merror:0.038357\tvalidation_1-merror:0.10078\n",
            "[20]\tvalidation_0-merror:0.037813\tvalidation_1-merror:0.100102\n",
            "[21]\tvalidation_0-merror:0.036997\tvalidation_1-merror:0.099762\n",
            "[22]\tvalidation_0-merror:0.036725\tvalidation_1-merror:0.097387\n",
            "[23]\tvalidation_0-merror:0.035909\tvalidation_1-merror:0.098066\n",
            "[24]\tvalidation_0-merror:0.035365\tvalidation_1-merror:0.097387\n",
            "[25]\tvalidation_0-merror:0.03482\tvalidation_1-merror:0.097048\n",
            "[26]\tvalidation_0-merror:0.034548\tvalidation_1-merror:0.097048\n",
            "[27]\tvalidation_0-merror:0.03346\tvalidation_1-merror:0.094673\n",
            "[28]\tvalidation_0-merror:0.031284\tvalidation_1-merror:0.096369\n",
            "[29]\tvalidation_0-merror:0.030876\tvalidation_1-merror:0.093994\n",
            "[30]\tvalidation_0-merror:0.029652\tvalidation_1-merror:0.093994\n",
            "[31]\tvalidation_0-merror:0.028836\tvalidation_1-merror:0.091958\n",
            "[32]\tvalidation_0-merror:0.027476\tvalidation_1-merror:0.090601\n",
            "[33]\tvalidation_0-merror:0.026659\tvalidation_1-merror:0.091279\n",
            "[34]\tvalidation_0-merror:0.025843\tvalidation_1-merror:0.089922\n",
            "[35]\tvalidation_0-merror:0.025163\tvalidation_1-merror:0.090261\n",
            "[36]\tvalidation_0-merror:0.023259\tvalidation_1-merror:0.087886\n",
            "[37]\tvalidation_0-merror:0.022307\tvalidation_1-merror:0.087207\n",
            "[38]\tvalidation_0-merror:0.021219\tvalidation_1-merror:0.087207\n",
            "[39]\tvalidation_0-merror:0.01945\tvalidation_1-merror:0.08585\n",
            "[40]\tvalidation_0-merror:0.018634\tvalidation_1-merror:0.085511\n",
            "[41]\tvalidation_0-merror:0.017818\tvalidation_1-merror:0.083475\n",
            "[42]\tvalidation_0-merror:0.016866\tvalidation_1-merror:0.083475\n",
            "[43]\tvalidation_0-merror:0.016458\tvalidation_1-merror:0.081778\n",
            "[44]\tvalidation_0-merror:0.015914\tvalidation_1-merror:0.081439\n",
            "[45]\tvalidation_0-merror:0.014418\tvalidation_1-merror:0.081099\n",
            "[46]\tvalidation_0-merror:0.013738\tvalidation_1-merror:0.081439\n",
            "[47]\tvalidation_0-merror:0.013466\tvalidation_1-merror:0.079742\n",
            "[48]\tvalidation_0-merror:0.013058\tvalidation_1-merror:0.079403\n",
            "[49]\tvalidation_0-merror:0.012514\tvalidation_1-merror:0.079742\n",
            "[50]\tvalidation_0-merror:0.011834\tvalidation_1-merror:0.079063\n",
            "[51]\tvalidation_0-merror:0.011697\tvalidation_1-merror:0.077027\n",
            "[52]\tvalidation_0-merror:0.011017\tvalidation_1-merror:0.077027\n",
            "[53]\tvalidation_0-merror:0.010881\tvalidation_1-merror:0.077367\n",
            "[54]\tvalidation_0-merror:0.010473\tvalidation_1-merror:0.076349\n",
            "[55]\tvalidation_0-merror:0.010065\tvalidation_1-merror:0.075331\n",
            "[56]\tvalidation_0-merror:0.009657\tvalidation_1-merror:0.075331\n",
            "[57]\tvalidation_0-merror:0.009249\tvalidation_1-merror:0.073974\n",
            "[58]\tvalidation_0-merror:0.008841\tvalidation_1-merror:0.072616\n",
            "[59]\tvalidation_0-merror:0.008433\tvalidation_1-merror:0.073634\n",
            "[60]\tvalidation_0-merror:0.007753\tvalidation_1-merror:0.072956\n",
            "[61]\tvalidation_0-merror:0.006937\tvalidation_1-merror:0.071259\n",
            "[62]\tvalidation_0-merror:0.006937\tvalidation_1-merror:0.071259\n",
            "[63]\tvalidation_0-merror:0.006257\tvalidation_1-merror:0.07092\n",
            "[64]\tvalidation_0-merror:0.005713\tvalidation_1-merror:0.070241\n",
            "[65]\tvalidation_0-merror:0.005441\tvalidation_1-merror:0.069902\n",
            "[66]\tvalidation_0-merror:0.004897\tvalidation_1-merror:0.069902\n",
            "[67]\tvalidation_0-merror:0.004489\tvalidation_1-merror:0.069902\n",
            "[68]\tvalidation_0-merror:0.003945\tvalidation_1-merror:0.068205\n",
            "[69]\tvalidation_0-merror:0.004081\tvalidation_1-merror:0.068884\n",
            "[70]\tvalidation_0-merror:0.003672\tvalidation_1-merror:0.068544\n",
            "[71]\tvalidation_0-merror:0.003672\tvalidation_1-merror:0.067526\n",
            "[72]\tvalidation_0-merror:0.0034\tvalidation_1-merror:0.067866\n",
            "[73]\tvalidation_0-merror:0.003264\tvalidation_1-merror:0.068544\n",
            "[74]\tvalidation_0-merror:0.002992\tvalidation_1-merror:0.068205\n",
            "[75]\tvalidation_0-merror:0.00272\tvalidation_1-merror:0.067866\n",
            "[76]\tvalidation_0-merror:0.00272\tvalidation_1-merror:0.067526\n",
            "[77]\tvalidation_0-merror:0.002448\tvalidation_1-merror:0.068205\n",
            "[78]\tvalidation_0-merror:0.002312\tvalidation_1-merror:0.067866\n",
            "[79]\tvalidation_0-merror:0.002176\tvalidation_1-merror:0.067866\n",
            "[80]\tvalidation_0-merror:0.00204\tvalidation_1-merror:0.067187\n",
            "[81]\tvalidation_0-merror:0.00204\tvalidation_1-merror:0.06549\n",
            "[82]\tvalidation_0-merror:0.00204\tvalidation_1-merror:0.06583\n",
            "[83]\tvalidation_0-merror:0.00204\tvalidation_1-merror:0.06583\n",
            "[84]\tvalidation_0-merror:0.001904\tvalidation_1-merror:0.06583\n",
            "[85]\tvalidation_0-merror:0.001768\tvalidation_1-merror:0.066169\n",
            "[86]\tvalidation_0-merror:0.001904\tvalidation_1-merror:0.064812\n",
            "[87]\tvalidation_0-merror:0.001768\tvalidation_1-merror:0.06549\n",
            "[88]\tvalidation_0-merror:0.001632\tvalidation_1-merror:0.064812\n",
            "[89]\tvalidation_0-merror:0.001496\tvalidation_1-merror:0.065151\n",
            "[90]\tvalidation_0-merror:0.001496\tvalidation_1-merror:0.063794\n",
            "[91]\tvalidation_0-merror:0.001496\tvalidation_1-merror:0.063794\n",
            "[92]\tvalidation_0-merror:0.001224\tvalidation_1-merror:0.063115\n",
            "[93]\tvalidation_0-merror:0.001224\tvalidation_1-merror:0.062097\n",
            "[94]\tvalidation_0-merror:0.001224\tvalidation_1-merror:0.061418\n",
            "[95]\tvalidation_0-merror:0.000408\tvalidation_1-merror:0.061079\n",
            "[96]\tvalidation_0-merror:0.000408\tvalidation_1-merror:0.061079\n",
            "[97]\tvalidation_0-merror:0.000408\tvalidation_1-merror:0.061758\n",
            "[98]\tvalidation_0-merror:0.000408\tvalidation_1-merror:0.061418\n",
            "[99]\tvalidation_0-merror:0.000408\tvalidation_1-merror:0.061758\n"
          ]
        }
      ],
      "source": [
        "\n",
        "\n",
        "# Create the XGBoost model\n",
        "model = xgb.XGBClassifier()\n",
        "\n",
        "# Fit the model to the training data\n",
        "eval_set = [(X_train, y_train), (X_val, y_val)]\n",
        "model.fit(X_train, y_train, eval_set=eval_set, eval_metric=\"merror\", early_stopping_rounds=10)\n",
        "\n",
        "# Make predictions on the training and validation sets\n",
        "train_predictions = model.predict(X_train)\n",
        "val_predictions = model.predict(X_val)\n",
        "\n",
        "# Evaluate the model's accuracy on the training and validation sets\n",
        "train_accuracy = accuracy_score(y_train, train_predictions)\n",
        "val_accuracy = accuracy_score(y_val, val_predictions)"
      ]
    },
    {
      "cell_type": "code",
      "execution_count": null,
      "metadata": {
        "id": "elt0S88fWGss"
      },
      "outputs": [],
      "source": [
        "# Create a list of the number of rounds\n",
        "rounds = list(range(1, len(model.evals_result()['validation_0']['merror'])+1))\n",
        "\n",
        "# Create a list of the training and validation set accuracy\n",
        "train_performance = [1-x for x in model.evals_result()['validation_0']['merror']]\n",
        "val_performance = [1-x for x in model.evals_result()['validation_1']['merror']]\n",
        "\n"
      ]
    },
    {
      "cell_type": "markdown",
      "metadata": {
        "id": "UhMhoIDMbMPS"
      },
      "source": [
        "Plotting the training and validation set performance\n",
        "\n",
        "Check for overfitting is to plot the performance of the model on the training set and validation set over time (i.e. as the number of rounds increases). If the performance on the training set continues to improve while the performance on the validation set plateaus or decreases, it suggests that the model is overfitting.\n",
        "\n",
        "in the following plot, it no show that."
      ]
    },
    {
      "cell_type": "code",
      "execution_count": null,
      "metadata": {
        "colab": {
          "base_uri": "https://localhost:8080/",
          "height": 297
        },
        "id": "3GWFHhywX7U7",
        "outputId": "b4d3db39-2dba-4f60-8402-167f48a058c8"
      },
      "outputs": [
        {
          "data": {
            "text/plain": [
              "<matplotlib.legend.Legend at 0x7f3b69a41940>"
            ]
          },
          "execution_count": 116,
          "metadata": {},
          "output_type": "execute_result"
        },
        {
          "data": {
            "image/png": "[encoded data removed]",
            "text/plain": [
              "<Figure size 432x288 with 1 Axes>"
            ]
          },
          "metadata": {},
          "output_type": "display_data"
        }
      ],
      "source": [
        "# Plot the training and validation set performance over time\n",
        "plt.plot(rounds, train_performance, label=\"Training Set\")\n",
        "plt.plot(rounds, val_performance, label=\"Validation Set\")\n",
        "plt.xlabel(\"Rounds\")\n",
        "plt.ylabel(\"Accuracy\")\n",
        "plt.legend()"
      ]
    },
    {
      "cell_type": "markdown",
      "metadata": {
        "id": "tYmj6_twa2ax"
      },
      "source": [
        "xgb.plot_importance()  \n",
        "\n",
        "This function can be used to visualize the feature importance and it can help you to identify which features are the most important for the model. If a feature has a high importance, it means that it contributes more to the model's predictions. If the feature importance of some features is too high, it may indicate overfitting because the model is too dependent on them.\n",
        "\n",
        "based on the plot result, we can not say any feature has significant larger than others"
      ]
    },
    {
      "cell_type": "code",
      "execution_count": null,
      "metadata": {
        "colab": {
          "base_uri": "https://localhost:8080/",
          "height": 911
        },
        "id": "7idg83fTZSwJ",
        "outputId": "7d14485d-4a67-4169-9d3e-16b939463d8a"
      },
      "outputs": [
        {
          "data": {
            "text/plain": [
              "<matplotlib.axes._subplots.AxesSubplot at 0x7f3b69991310>"
            ]
          },
          "execution_count": 117,
          "metadata": {},
          "output_type": "execute_result"
        },
        {
          "data": {
            "image/png": "[encoded data removed]",
            "text/plain": [
              "<Figure size 1080x1080 with 1 Axes>"
            ]
          },
          "metadata": {},
          "output_type": "display_data"
        }
      ],
      "source": [
        "fig, ax = plt.subplots(figsize=(15,15))\n",
        "xgb.plot_importance(model, ax=ax, max_num_features=20)"
      ]
    },
    {
      "cell_type": "code",
      "execution_count": null,
      "metadata": {
        "colab": {
          "base_uri": "https://localhost:8080/"
        },
        "id": "yYy5Y73ZYw_E",
        "outputId": "37415bff-b2fa-44e6-9d82-806247e911b4"
      },
      "outputs": [
        {
          "name": "stdout",
          "output_type": "stream",
          "text": [
            "0.9389209365456397\n"
          ]
        }
      ],
      "source": [
        "y_pred = model.predict(X_test)\n",
        "accuracy = metrics.accuracy_score(y_true=y_test, y_pred=y_pred)\n",
        "print(accuracy)"
      ]
    },
    {
      "cell_type": "code",
      "execution_count": null,
      "metadata": {
        "colab": {
          "base_uri": "https://localhost:8080/",
          "height": 896
        },
        "id": "kd5lpXAZYw_F",
        "outputId": "f91a9217-1604-4a0e-c267-23ce02260bfb"
      },
      "outputs": [
        {
          "data": {
            "text/plain": [
              "Text(113.09375, 0.5, 'True')"
            ]
          },
          "execution_count": 119,
          "metadata": {},
          "output_type": "execute_result"
        },
        {
          "data": {
            "image/png": "[encoded data removed]",
            "text/plain": [
              "<Figure size 1080x1080 with 2 Axes>"
            ]
          },
          "metadata": {},
          "output_type": "display_data"
        }
      ],
      "source": [
        "from sklearn.metrics import confusion_matrix\n",
        "import seaborn as sns\n",
        "import matplotlib.pyplot as plt\n",
        "\n",
        "fig, ax = plt.subplots(figsize=(15,15))\n",
        "# make predictions on the test set\n",
        "y_pred = model.predict(X_test)\n",
        "\n",
        "# create the confusion matrix\n",
        "cm = confusion_matrix(y_test, y_pred, labels=labels)\n",
        "\n",
        "# plot the confusion matrix using seaborn\n",
        "sns.heatmap(cm, annot=True, fmt='d', cmap='Blues', xticklabels=labels, yticklabels=labels)\n",
        "plt.xlabel('Predicted')\n",
        "plt.ylabel('True')"
      ]
    },
    {
      "cell_type": "code",
      "execution_count": null,
      "metadata": {
        "id": "_rsr9XGHY2J1"
      },
      "outputs": [],
      "source": []
    },
    {
      "cell_type": "markdown",
      "metadata": {
        "id": "pyGx977piLgT"
      },
      "source": [
        "## Regularization and tuning by GridSearchCV"
      ]
    },
    {
      "cell_type": "markdown",
      "source": [
        "We can use Grid Search CV to tuning the parameters of model. for example, tunning the regulariztion rate.\n",
        "\n",
        "It takes too long to run thus here is the sample code,"
      ],
      "metadata": {
        "id": "iu6rzNXLDx76"
      }
    },
    {
      "cell_type": "code",
      "execution_count": null,
      "metadata": {
        "id": "q9JMXeQWiPB_"
      },
      "outputs": [],
      "source": [
        "model = xgb.XGBClassifier(reg_lambda=0.1, early_stopping_rounds=10, eval_set=[(X_val, y_val)])"
      ]
    },
    {
      "cell_type": "code",
      "execution_count": null,
      "metadata": {
        "id": "unaI1DD9iaNG"
      },
      "outputs": [],
      "source": [
        "from sklearn.model_selection import GridSearchCV, RandomizedSearchCV\n",
        "param_grid = {'reg_lambda':[0.01, 0.001]}#[0, 0.001, 0.01, 0.1, 1, 10, 100]}\n",
        "clf = RandomizedSearchCV(model, param_grid, cv=5)"
      ]
    },
    {
      "cell_type": "code",
      "execution_count": null,
      "metadata": {
        "colab": {
          "background_save": true
        },
        "id": "1W8zLq42i6Sk",
        "outputId": "dc6d2ba2-7e41-4dd1-a2fd-e47cd1cce1b4"
      },
      "outputs": [
        {
          "data": {
            "text/plain": [
              "RandomizedSearchCV(cv=5,\n",
              "                   estimator=XGBClassifier(early_stopping_rounds=10,\n",
              "                                           eval_set=[(      tBodyAccmeanX  tBodyAccmeanY  tBodyAccmeanZ  tBodyAccstdX  tBodyAccstdY  \\\n",
              "0              0.26          -0.02          -0.01         -0.94         -0.92   \n",
              "1              0.29          -0.01          -0.12         -0.98         -0.97   \n",
              "2              0.28          -0.03          -0.12         -0.99         -0.97   \n",
              "3              0.27          -0.03          -0.12         -0.99         -0.97   \n",
              "4              0.27          -0.03          -0.13         -0.99         -0.97   \n",
              "...             ...            ...            ...           ...           ...   \n",
              "2942           0.31          -0.05          -0.10         -0.29         -0.14   \n",
              "2943           0.36          -0.04          -0.11         -0.31          0.03   \n",
              "2944...\n",
              "2942              -0.65               0.27               0.18  \n",
              "2943              -0.66               0.27               0.18  \n",
              "2944              -0.66               0.27               0.18  \n",
              "2945              -0.66               0.26               0.19  \n",
              "2946              -0.66               0.26               0.19  \n",
              "\n",
              "[2947 rows x 435 columns],\n",
              "                                                      0               STANDING\n",
              "1               STANDING\n",
              "2               STANDING\n",
              "3               STANDING\n",
              "4               STANDING\n",
              "              ...       \n",
              "2942    WALKING_UPSTAIRS\n",
              "2943    WALKING_UPSTAIRS\n",
              "2944    WALKING_UPSTAIRS\n",
              "2945    WALKING_UPSTAIRS\n",
              "2946    WALKING_UPSTAIRS\n",
              "Name: ActivityName, Length: 2947, dtype: object)],\n",
              "                                           reg_lambda=0.1),\n",
              "                   param_distributions={'reg_lambda': [0.01, 0.001]})"
            ]
          },
          "execution_count": 127,
          "metadata": {},
          "output_type": "execute_result"
        }
      ],
      "source": [
        "# Fit the model to the training data\n",
        "clf.fit(X_train, y_train, eval_metric=\"merror\")"
      ]
    },
    {
      "cell_type": "code",
      "execution_count": 131,
      "metadata": {
        "id": "F_D5AH4fis-i"
      },
      "outputs": [],
      "source": [
        "# Make predictions on the training and validation sets\n",
        "train_predictions = clf.predict(X_train)"
      ]
    },
    {
      "cell_type": "code",
      "execution_count": 132,
      "metadata": {
        "id": "MHMkuLwdit-K"
      },
      "outputs": [],
      "source": [
        "\n",
        "val_predictions = clf.predict(X_val)"
      ]
    },
    {
      "cell_type": "code",
      "execution_count": 133,
      "metadata": {
        "id": "Y5bcptKXiiWF"
      },
      "outputs": [],
      "source": [
        "# Evaluate the model's accuracy on the training and validation sets\n",
        "train_accuracy = accuracy_score(y_train, train_predictions)\n",
        "val_accuracy = accuracy_score(y_val, val_predictions)"
      ]
    },
    {
      "cell_type": "code",
      "execution_count": 134,
      "metadata": {
        "id": "yOOaqae6on7h",
        "colab": {
          "base_uri": "https://localhost:8080/"
        },
        "outputId": "c72dd6ff-e812-4a56-9421-7126473fdd3a"
      },
      "outputs": [
        {
          "output_type": "stream",
          "name": "stdout",
          "text": [
            "train_accuracy=0.999455930359086, val_accuracy=0.9399389209365456\n"
          ]
        }
      ],
      "source": [
        "print(f'{train_accuracy=}, {val_accuracy=}')"
      ]
    },
    {
      "cell_type": "code",
      "source": [],
      "metadata": {
        "id": "e_3M2eC5BnvE"
      },
      "execution_count": null,
      "outputs": []
    }
  ],
  "metadata": {
    "colab": {
      "provenance": [],
      "authorship_tag": "ABX9TyNwNvQy2/MEitbx7vZ1td8g",
      "include_colab_link": true
    },
    "kernelspec": {
      "display_name": "Python 3",
      "name": "python3"
    },
    "language_info": {
      "name": "python"
    }
  },
  "nbformat": 4,
  "nbformat_minor": 0
}