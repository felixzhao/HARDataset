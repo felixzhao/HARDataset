{
  "nbformat": 4,
  "nbformat_minor": 0,
  "metadata": {
    "colab": {
      "provenance": [],
      "toc_visible": true,
      "authorship_tag": "ABX9TyPgtI/lMRgluIPMGk1uX9gx",
      "include_colab_link": true
    },
    "kernelspec": {
      "name": "python3",
      "display_name": "Python 3"
    },
    "language_info": {
      "name": "python"
    }
  },
  "cells": [
    {
      "cell_type": "markdown",
      "metadata": {
        "id": "view-in-github",
        "colab_type": "text"
      },
      "source": [
        "<a href=\"https://colab.research.google.com/github/felixzhao/HARDataset/blob/main/Halter_V1_final_report.ipynb\" target=\"_parent\"><img src=\"https://colab.research.google.com/assets/colab-badge.svg\" alt=\"Open In Colab\"/></a>"
      ]
    },
    {
      "cell_type": "markdown",
      "source": [
        "# packages"
      ],
      "metadata": {
        "id": "XS0iDnqxri1Q"
      }
    },
    {
      "cell_type": "code",
      "source": [
        "from datetime import datetime\n",
        "import numpy as np\n",
        "import pandas as pd\n",
        "import seaborn as sns\n",
        "import matplotlib as mpl\n",
        "import matplotlib.pyplot as plt"
      ],
      "metadata": {
        "id": "-fzajK4Orw5z"
      },
      "execution_count": 7,
      "outputs": []
    },
    {
      "cell_type": "code",
      "execution_count": 14,
      "metadata": {
        "id": "MQnAJPdlpooE"
      },
      "outputs": [],
      "source": [
        "import plotly.express as px\n",
        "import statsmodels.api as sm\n",
        "import statsmodels.tsa.api as smt\n",
        "\n",
        "import tensorflow as tf\n",
        "\n",
        "from sklearn.metrics import confusion_matrix\n",
        "from sklearn.metrics import accuracy_score\n",
        "from sklearn import metrics\n",
        "from sklearn.model_selection import GridSearchCV\n",
        "\n",
        "import xgboost as xgb"
      ]
    },
    {
      "cell_type": "code",
      "source": [
        "import warnings\n",
        "warnings.filterwarnings('ignore')\n",
        "\n",
        "pd.set_option('display.max_columns', None)\n",
        "pd.options.display.float_format = '{:.2f}'.format"
      ],
      "metadata": {
        "id": "wzSypwbxrtgq"
      },
      "execution_count": 9,
      "outputs": []
    },
    {
      "cell_type": "markdown",
      "source": [
        "# Introduction"
      ],
      "metadata": {
        "id": "4V6fXSsTqYaP"
      }
    },
    {
      "cell_type": "markdown",
      "source": [
        "In this report, we will discuss the pre-processing, model selection (compare with train a DNN model and a non-DNN model), and results of our recent data analysis project.\n",
        "The objective of the project was to analyze a dataset and make predictions based on the information provided.\n",
        "\n",
        "We define this work as a multi-classes classification probelm."
      ],
      "metadata": {
        "id": "j3A7TZLrsJID"
      }
    },
    {
      "cell_type": "markdown",
      "source": [
        "# Load Data & Pre-processing"
      ],
      "metadata": {
        "id": "8USRivCtqbPw"
      }
    },
    {
      "cell_type": "markdown",
      "source": [
        "set up root path, please update it to the right path."
      ],
      "metadata": {
        "id": "tcNMbCtmu2Eg"
      }
    },
    {
      "cell_type": "code",
      "source": [
        "root_path = \"drive/MyDrive/UCI_HAR_Dataset/\""
      ],
      "metadata": {
        "id": "Ss6QhPSquvCR"
      },
      "execution_count": 5,
      "outputs": []
    },
    {
      "cell_type": "markdown",
      "source": [
        "[optional] if use local path please ignore this\n",
        "\n",
        "setup colab access to google drive\n",
        "\n",
        "run the following code to mount the google drive in colab.\n",
        "\n",
        "You can follow the guide, if have any question.\n",
        "https://towardsdatascience.com/different-ways-to-connect-google-drive-to-a-google-colab-notebook-pt-1-de03433d2f7a"
      ],
      "metadata": {
        "id": "uVWZ3xnSuNnD"
      }
    },
    {
      "cell_type": "code",
      "source": [
        "from google.colab import drive\n",
        "drive.mount('/content/drive')"
      ],
      "metadata": {
        "colab": {
          "base_uri": "https://localhost:8080/"
        },
        "id": "4g5G7jWauM0d",
        "outputId": "f8cd2792-6cf2-427b-83ea-794172e0009b"
      },
      "execution_count": 4,
      "outputs": [
        {
          "output_type": "stream",
          "name": "stdout",
          "text": [
            "Mounted at /content/drive\n"
          ]
        }
      ]
    },
    {
      "cell_type": "markdown",
      "source": [
        "We implement two data loader classes.\n",
        "\n",
        "1.  HARDataSetLoader\n",
        "\n",
        "    - load Interial Signals, which will be used in DNN model training as required.\n",
        "    - in this class, we pre-processed label data to transfer it to category.\n",
        "\n",
        "2. HARFeatureLoader\n",
        "\n",
        "    - load features data, which will be used in non-DNN model training.\n",
        "    - in this class, we pre-processed features by remove duplicate features\n",
        "\n",
        "\n"
      ],
      "metadata": {
        "id": "8GoRvg39svg1"
      }
    },
    {
      "cell_type": "code",
      "source": [
        "\"\"\"\n",
        "A python class which load Interial Signals data from HAR data set\n",
        "\"\"\"\n",
        "class HARDataSetLoader:\n",
        "    def __init__(self, root_path):\n",
        "        self.root = root_path\n",
        "        self.file_dir = '/Inertial Signals/'\n",
        "        self.file_prefix = ['total_acc_', 'body_acc_', 'body_gyro_']\n",
        "        self.feature_type = ['x_', 'y_', 'z_']\n",
        "        self.file_type = '.txt'\n",
        "        self.num_classes = None\n",
        "\n",
        "    def _get_feature_files_full_path(self, file_type:str):\n",
        "        feature_files = []\n",
        "        for prefix in self.file_prefix:\n",
        "            for f_type in self.feature_type:\n",
        "                full_path = f\"{self.root}{file_type}{self.file_dir}\" \\\n",
        "                            + f\"{prefix}{f_type}{file_type}{self.file_type}\"\n",
        "                feature_files.append(full_path)\n",
        "        return feature_files\n",
        "\n",
        "    def _get_label_file_full_path(self, file_type:str):\n",
        "        return f'{self.root}{file_type}/y_{file_type}.txt'\n",
        "\n",
        "    def __load_file(self, file_path:str):\n",
        "        return pd.read_csv(file_path, header=None, delim_whitespace=True).values\n",
        "\n",
        "    def _load_feature(self, feature_files):\n",
        "        features = np.dstack(\n",
        "            [\n",
        "                self.__load_file(f) for f in feature_files\n",
        "            ]\n",
        "        )\n",
        "        return features\n",
        "\n",
        "    def _load_label(self, label_file):\n",
        "        \"\"\"\n",
        "        load label y from file,\n",
        "        decrease 1 label number, as tensorflow categorical start from 0.\n",
        "        then generate keras categorical of labels as output \n",
        "        \"\"\"\n",
        "        labels = self.__load_file(label_file)\n",
        "        self.num_classes = len(np.unique(labels))\n",
        "        labels = labels - 1\n",
        "        return tf.keras.utils.to_categorical(labels)\n",
        "\n",
        "    def _load(self, split_type:str):\n",
        "        feature_file_names = self._get_feature_files_full_path(split_type)\n",
        "        label_file_name = self._get_label_file_full_path(split_type)\n",
        "        print(feature_file_names)\n",
        "        print(label_file_name)\n",
        "        X = self._load_feature(feature_file_names)\n",
        "        y = self._load_label(label_file_name)\n",
        "        print(X.shape, y.shape)\n",
        "        return X, y\n",
        "\n",
        "    def load_train(self):\n",
        "        print('load train data.')\n",
        "        return self._load('train')\n",
        "\n",
        "    def load_test(self):\n",
        "        print('load test data.')\n",
        "        return self._load('test')"
      ],
      "metadata": {
        "id": "QfKhRuy3qeL1"
      },
      "execution_count": 1,
      "outputs": []
    },
    {
      "cell_type": "code",
      "source": [
        "\"\"\"\n",
        "A python class which load Features data from HAR data set\n",
        "\"\"\"\n",
        "class HARFeatureLoader:\n",
        "    def __init__(self, root_path):\n",
        "        self.root = root_path\n",
        "        features_path = f'{root_path}/features.txt'\n",
        "        self.x_train_path = f'{root_path}/train/X_train.txt'\n",
        "        self.subject_train_path = f'{root_path}/train/subject_train.txt'\n",
        "        self.label_dict = {\n",
        "            1: 'WALKING', \n",
        "            2:'WALKING_UPSTAIRS',\n",
        "            3:'WALKING_DOWNSTAIRS',\n",
        "            4:'SITTING', \n",
        "            5:'STANDING',\n",
        "            6:'LAYING'\n",
        "            }\n",
        "        self.feature_names = self._load_features_names(features_path)\n",
        "        self.train_df = None\n",
        "        self.test_df = None\n",
        "\n",
        "    def _load_features_names(self, path:str):\n",
        "        feature_names = []\n",
        "        with open(path) as f:\n",
        "            feature_names = [line.split()[1] for line in f.readlines()]\n",
        "        return feature_names\n",
        "\n",
        "    def _generate_path(self, split_type:str):\n",
        "        x_path = f'{self.root}/{split_type}/X_{split_type}.txt'\n",
        "        subject_path = f'{self.root}/{split_type}/subject_{split_type}.txt'\n",
        "        y_path = f'{self.root}/{split_type}/y_{split_type}.txt'\n",
        "        return x_path, subject_path, y_path\n",
        "\n",
        "    def _remove_duplicate_columns(self, df):\n",
        "        df_copy = df.copy()\n",
        "\n",
        "        # find duplicate column names\n",
        "        duplicate_cols = df_copy.columns.duplicated()\n",
        "\n",
        "        # drop duplicate columns\n",
        "        return df_copy.drop(df_copy.columns[duplicate_cols], axis=1)\n",
        "\n",
        "    def _load(self, x_path, subject_path, y_path):\n",
        "        x = pd.read_csv(x_path, delim_whitespace=True, header=None)\n",
        "        x.columns = [self.feature_names]\n",
        "        x['subject'] = pd.read_csv(subject_path, header=None, squeeze=True)\n",
        "        y = pd.read_csv(y_path, names=['Activity'], squeeze=True)\n",
        "        y_labels = y.map(self.label_dict)\n",
        "        df = x\n",
        "        df['Activity'] = y\n",
        "        df['ActivityName'] = y_labels\n",
        "        return df\n",
        "\n",
        "    def _load_features(self, df):\n",
        "        raw_df = self._remove_duplicate_columns(df)\n",
        "        columns = raw_df.columns \\\n",
        "                        .get_level_values(0) \\\n",
        "                        .str.replace('[()]','') \\\n",
        "                        .str.replace('[-]', '') \\\n",
        "                        .str.replace('[,]','')\n",
        "        raw_df.columns = columns\n",
        "        x = raw_df.drop(['subject', 'Activity', 'ActivityName'], axis=1)\n",
        "        y = raw_df.ActivityName\n",
        "        print(f'{x.shape=}, {y.shape=}')\n",
        "        return x, y\n",
        "\n",
        "\n",
        "    def load_train(self):\n",
        "        print('load train data.')\n",
        "        x_path, subject_path, y_path = self._generate_path('train')\n",
        "        self.train_df = self._load(x_path, subject_path, y_path)\n",
        "        return self._load_features(self.train_df)\n",
        "\n",
        "    def load_test(self):\n",
        "        print('load test data.')\n",
        "        x_path, subject_path, y_path = self._generate_path('test')\n",
        "        self.train_df = self._load(x_path, subject_path, y_path)\n",
        "        return self._load_features(self.train_df)"
      ],
      "metadata": {
        "id": "4JfArwTIsiwi"
      },
      "execution_count": 3,
      "outputs": []
    },
    {
      "cell_type": "markdown",
      "source": [
        "# Model Selection"
      ],
      "metadata": {
        "id": "JijrFOPbqm79"
      }
    },
    {
      "cell_type": "markdown",
      "source": [
        "Once the data was pre-processed, we moved on to selecting the appropriate models for our analysis. We evaluated multiple models, including one DNN model and one non-DNN model which is CNN + LSTM and XGBoost. We chose these models because they are commonly used for regression and classification tasks and have shown to perform well on similar datasets."
      ],
      "metadata": {
        "id": "bSs0Ey-exk8I"
      }
    },
    {
      "cell_type": "markdown",
      "source": [
        "## Regularization"
      ],
      "metadata": {
        "id": "T6yr9rUh2UG4"
      }
    },
    {
      "cell_type": "markdown",
      "source": [
        "Regularization is a technique used to prevent overfitting in deep neural networks (DNNs). Some common regularization methods include:\n",
        "\n",
        "- L1 regularization: Also known as Lasso regularization, this method adds a penalty term to the loss function that is proportional to the absolute value of the weights. This results in some weights being set to zero, effectively removing those features from the model.\n",
        "\n",
        "- L2 regularization: Also known as Ridge regularization, this method adds a penalty term to the loss function that is proportional to the square of the weights. This results in small, non-zero weights, which can help prevent overfitting.\n",
        "\n",
        "- Dropout: This is a form of regularization that randomly drops out neurons during training, forcing the remaining neurons to learn more robust features.\n",
        "\n",
        "- Early stopping: This method stops training the model before it reaches convergence, in order to prevent overfitting.\n",
        "\n",
        "- Data augmentation: This method artificially increases the size of the training dataset by applying random transformations to the existing data, such as flipping images or adding noise. This can help the model generalize better.\n",
        "\n",
        "- Batch normalization: This method normalizes the activations of the neurons in a batch, which helps to speed up training and reduce the effects of internal covariate shift.\n",
        "\n",
        "- Max norm regularization: This method constrains the weights of the network such that the maximum L2 norm of the weights of a layer is less than a fixed value.\n",
        "\n",
        "- Weight decay: This method is similar to L2 regularization, but instead of adding the penalty term to the loss function, it modifies the learning rate so that the optimizer takes smaller steps when the gradients are high.\n",
        "\n"
      ],
      "metadata": {
        "id": "V5dYuuL1qBGq"
      }
    },
    {
      "cell_type": "markdown",
      "source": [
        "As we known, in this problem the data is not sparse data. \n",
        "\n",
        "Thus, for DNN model L2 may the better way than L1, as L1 could removing features. And we will try Dropout and early stopping as well.\n",
        "\n",
        "But for XGboosts L1 is more popular, thus we will use L1 for it."
      ],
      "metadata": {
        "id": "F5P7aR6d2gWR"
      }
    },
    {
      "cell_type": "markdown",
      "source": [
        "## DNN model"
      ],
      "metadata": {
        "id": "eMlp5hpzuCkw"
      }
    },
    {
      "cell_type": "markdown",
      "source": [
        "Train CNN + LSTM model"
      ],
      "metadata": {
        "id": "YGTYnu_cUAkd"
      }
    },
    {
      "cell_type": "markdown",
      "source": [
        "Here we use an CNN + LSTM solution.\n",
        "\n",
        "Convolutional neural networks (CNNs) are commonly used in image and video processing tasks, but they can also be applied to time series data. In particular, a 1D convolutional layer (Conv1D) can be used to extract features from a time series by sliding a kernel (a small matrix of weights) along the sequence, performing a dot product at each position, and applying a non-linear activation function. This allows the model to learn local patterns in the data, such as trends or periodicity, that may be useful for classification. Additionally, Conv1D can also be used in combination with pooling layers to reduce the dimensionality of the data and make the model more robust to noise."
      ],
      "metadata": {
        "id": "kY2aL2DOtDAz"
      }
    },
    {
      "cell_type": "code",
      "source": [
        "loader = HARDataSetLoader(root_path=root_path)\n",
        "X_train, y_train = loader.load_train()\n",
        "X_test, y_test = loader.load_test()\n",
        "print(f'{loader.num_classes=}')"
      ],
      "metadata": {
        "colab": {
          "base_uri": "https://localhost:8080/"
        },
        "id": "76vQOwOrqni1",
        "outputId": "3a3e7bbc-14cc-4358-9300-20c7e347565b"
      },
      "execution_count": 10,
      "outputs": [
        {
          "output_type": "stream",
          "name": "stdout",
          "text": [
            "load train data.\n",
            "['drive/MyDrive/UCI_HAR_Dataset/train/Inertial Signals/total_acc_x_train.txt', 'drive/MyDrive/UCI_HAR_Dataset/train/Inertial Signals/total_acc_y_train.txt', 'drive/MyDrive/UCI_HAR_Dataset/train/Inertial Signals/total_acc_z_train.txt', 'drive/MyDrive/UCI_HAR_Dataset/train/Inertial Signals/body_acc_x_train.txt', 'drive/MyDrive/UCI_HAR_Dataset/train/Inertial Signals/body_acc_y_train.txt', 'drive/MyDrive/UCI_HAR_Dataset/train/Inertial Signals/body_acc_z_train.txt', 'drive/MyDrive/UCI_HAR_Dataset/train/Inertial Signals/body_gyro_x_train.txt', 'drive/MyDrive/UCI_HAR_Dataset/train/Inertial Signals/body_gyro_y_train.txt', 'drive/MyDrive/UCI_HAR_Dataset/train/Inertial Signals/body_gyro_z_train.txt']\n",
            "drive/MyDrive/UCI_HAR_Dataset/train/y_train.txt\n",
            "(7352, 128, 9) (7352, 6)\n",
            "load test data.\n",
            "['drive/MyDrive/UCI_HAR_Dataset/test/Inertial Signals/total_acc_x_test.txt', 'drive/MyDrive/UCI_HAR_Dataset/test/Inertial Signals/total_acc_y_test.txt', 'drive/MyDrive/UCI_HAR_Dataset/test/Inertial Signals/total_acc_z_test.txt', 'drive/MyDrive/UCI_HAR_Dataset/test/Inertial Signals/body_acc_x_test.txt', 'drive/MyDrive/UCI_HAR_Dataset/test/Inertial Signals/body_acc_y_test.txt', 'drive/MyDrive/UCI_HAR_Dataset/test/Inertial Signals/body_acc_z_test.txt', 'drive/MyDrive/UCI_HAR_Dataset/test/Inertial Signals/body_gyro_x_test.txt', 'drive/MyDrive/UCI_HAR_Dataset/test/Inertial Signals/body_gyro_y_test.txt', 'drive/MyDrive/UCI_HAR_Dataset/test/Inertial Signals/body_gyro_z_test.txt']\n",
            "drive/MyDrive/UCI_HAR_Dataset/test/y_test.txt\n",
            "(2947, 128, 9) (2947, 6)\n",
            "loader.num_classes=6\n"
          ]
        }
      ]
    },
    {
      "cell_type": "code",
      "source": [
        "train_shape = X_train.shape\n",
        "batch_size = train_shape[0]\n",
        "sequence_length = train_shape[1]\n",
        "number_of_features = train_shape[2]\n",
        "num_classes = loader.num_classes\n",
        "print(f\"{batch_size=}, {sequence_length=}, {number_of_features=}, {num_classes=} \")"
      ],
      "metadata": {
        "colab": {
          "base_uri": "https://localhost:8080/"
        },
        "id": "avtZyMuJvSaU",
        "outputId": "34f8a7cd-9393-43c1-cf71-6f203deeef4d"
      },
      "execution_count": 11,
      "outputs": [
        {
          "output_type": "stream",
          "name": "stdout",
          "text": [
            "batch_size=7352, sequence_length=128, number_of_features=9, num_classes=6 \n"
          ]
        }
      ]
    },
    {
      "cell_type": "code",
      "source": [
        "learning_rate = 0.01\n",
        "n_hidden = 32\n",
        "batch_size = 64\n",
        "shuffle_buffer_size = 1000\n",
        "epochs = 30"
      ],
      "metadata": {
        "id": "_3S6Q2e-vVDV"
      },
      "execution_count": 12,
      "outputs": []
    },
    {
      "cell_type": "markdown",
      "source": [
        "Long Short-Term Memory (LSTM) networks are a type of recurrent neural network (RNN) that can be used for time series classification tasks. Unlike traditional RNNs, LSTMs have a memory cell that can store information from previous time steps, allowing them to better handle long-term dependencies in the data. This is especially useful for time series data, where patterns may be spread out over a long period of time and traditional RNNs may struggle to capture these dependencies. Additionally, LSTMs have gates (input, output and forget gates) that can selectively choose which information to keep, discard or update in the memory, which helps to prevent the vanishing and exploding gradient problem commonly faced by RNNs. LSTM can learn to recognize patterns, trends and anomalies in sequential data, which is useful in time series classification tasks."
      ],
      "metadata": {
        "id": "TbEpDaKkugSm"
      }
    },
    {
      "cell_type": "markdown",
      "source": [
        "Softmax is a common choice for the final activation function in a neural network when the task is multi-class classification. The function maps the output of the network to a probability distribution over the different classes, allowing the model to make predictions about the most likely class for a given input.\n",
        "\n",
        "\n",
        "\n",
        "\n"
      ],
      "metadata": {
        "id": "o5IQdOO8vZcY"
      }
    },
    {
      "cell_type": "code",
      "source": [
        "\"\"\"\n",
        "padding='causal', \n",
        "    the input tensor is only padded on the left side, \n",
        "    and the output at time t only depends on past observations \n",
        "    and not on future observations. \n",
        "    This is useful in time series analysis.\n",
        "\n",
        "strides=1, \n",
        "    the filter moves one step at a time along the width dimension, \n",
        "    and the output will have the same width as the input. \n",
        "    This means that the filter will be applied to every element of the input tensor, \n",
        "    resulting in the most detailed representation of the input. \n",
        "\n",
        "kernel_regularizer=tf.keras.regularizers.l2(0.001),\n",
        "    the L2 regularizer is being used with a regularization rate of 0.001. \n",
        "    This means that for every weight in the weight matrix, \n",
        "    the square of its value will be multiplied by 0.001 \n",
        "    and added to the overall loss during training, \n",
        "    encouraging the weights to be small and reducing overfitting.\n",
        "\"\"\"\n",
        "model = tf.keras.models.Sequential([\n",
        "  tf.keras.layers.Conv1D(\n",
        "      filters=32, \n",
        "      kernel_size=4,\n",
        "      strides=1,\n",
        "      activation=\"relu\",\n",
        "      padding='causal',\n",
        "      input_shape=(sequence_length, number_of_features),\n",
        "      kernel_regularizer=tf.keras.regularizers.l2(0.001),\n",
        "      ),\n",
        "  tf.keras.layers.LSTM(32),\n",
        "  tf.keras.layers.Dropout(0.5),\n",
        "  tf.keras.layers.Dense(64, activation=\"relu\"),\n",
        "  tf.keras.layers.Dense(num_classes, activation=\"softmax\")\n",
        "])\n",
        "\n",
        "model.compile(\n",
        "    loss='categorical_crossentropy', \n",
        "    optimizer=tf.keras.optimizers.Adam(learning_rate=learning_rate), \n",
        "    metrics=['accuracy']\n",
        "    )\n",
        "\n",
        "#Print the model summary \n",
        "model.summary()"
      ],
      "metadata": {
        "colab": {
          "base_uri": "https://localhost:8080/"
        },
        "outputId": "7e039d14-9184-47e7-a4b1-98cc7e0660d2",
        "id": "P4YSsMiTV7Zf"
      },
      "execution_count": null,
      "outputs": [
        {
          "output_type": "stream",
          "name": "stdout",
          "text": [
            "Model: \"sequential_3\"\n",
            "_________________________________________________________________\n",
            " Layer (type)                Output Shape              Param #   \n",
            "=================================================================\n",
            " conv1d_3 (Conv1D)           (None, 128, 32)           1184      \n",
            "                                                                 \n",
            " lstm_3 (LSTM)               (None, 32)                8320      \n",
            "                                                                 \n",
            " dropout_3 (Dropout)         (None, 32)                0         \n",
            "                                                                 \n",
            " dense_6 (Dense)             (None, 64)                2112      \n",
            "                                                                 \n",
            " dense_7 (Dense)             (None, 6)                 390       \n",
            "                                                                 \n",
            "=================================================================\n",
            "Total params: 12,006\n",
            "Trainable params: 12,006\n",
            "Non-trainable params: 0\n",
            "_________________________________________________________________\n"
          ]
        }
      ]
    },
    {
      "cell_type": "code",
      "source": [
        "# early_stop_loss = tf.keras.callbacks.EarlyStopping(monitor='val_loss', patience=10, restore_best_weights=True, mode='min')\n",
        "early_stop_acc = tf.keras.callbacks.EarlyStopping(monitor='val_accuracy', patience=10, restore_best_weights=True, mode='max')\n",
        "reduce_lr = tf.keras.callbacks.ReduceLROnPlateau(monitor='val_loss', patience=10, factor=0.5, min_lr=1e-8, verbose=1)\n",
        "\n",
        "\n",
        "# Train the model\n",
        "history = model.fit(X_train, y_train ,validation_data=(X_test, y_test) ,epochs=50, callbacks=[early_stop_acc, reduce_lr])"
      ],
      "metadata": {
        "colab": {
          "base_uri": "https://localhost:8080/"
        },
        "outputId": "e8422d75-2a2d-468b-b7b3-0edfd13f6fce",
        "id": "jWxGI8RrV7Zg"
      },
      "execution_count": null,
      "outputs": [
        {
          "output_type": "stream",
          "name": "stdout",
          "text": [
            "Epoch 1/50\n",
            "230/230 [==============================] - 11s 39ms/step - loss: 0.8454 - accuracy: 0.6133 - val_loss: 0.6273 - val_accuracy: 0.7211 - lr: 0.0100\n",
            "Epoch 2/50\n",
            "230/230 [==============================] - 9s 37ms/step - loss: 0.5256 - accuracy: 0.7734 - val_loss: 0.5194 - val_accuracy: 0.8310 - lr: 0.0100\n",
            "Epoch 3/50\n",
            "230/230 [==============================] - 9s 38ms/step - loss: 0.3852 - accuracy: 0.8702 - val_loss: 0.7166 - val_accuracy: 0.7391 - lr: 0.0100\n",
            "Epoch 4/50\n",
            "230/230 [==============================] - 10s 42ms/step - loss: 0.3364 - accuracy: 0.8961 - val_loss: 0.6705 - val_accuracy: 0.8493 - lr: 0.0100\n",
            "Epoch 5/50\n",
            "230/230 [==============================] - 9s 37ms/step - loss: 0.3680 - accuracy: 0.9026 - val_loss: 0.5444 - val_accuracy: 0.8748 - lr: 0.0100\n",
            "Epoch 6/50\n",
            "230/230 [==============================] - 9s 38ms/step - loss: 0.2737 - accuracy: 0.9289 - val_loss: 0.4759 - val_accuracy: 0.8904 - lr: 0.0100\n",
            "Epoch 7/50\n",
            "230/230 [==============================] - 9s 38ms/step - loss: 0.2487 - accuracy: 0.9340 - val_loss: 0.4517 - val_accuracy: 0.8856 - lr: 0.0100\n",
            "Epoch 8/50\n",
            "230/230 [==============================] - 9s 38ms/step - loss: 0.2147 - accuracy: 0.9406 - val_loss: 0.4512 - val_accuracy: 0.8778 - lr: 0.0100\n",
            "Epoch 9/50\n",
            "230/230 [==============================] - 9s 38ms/step - loss: 0.2165 - accuracy: 0.9397 - val_loss: 0.3876 - val_accuracy: 0.9114 - lr: 0.0100\n",
            "Epoch 10/50\n",
            "230/230 [==============================] - 9s 37ms/step - loss: 0.2588 - accuracy: 0.9295 - val_loss: 0.5477 - val_accuracy: 0.8802 - lr: 0.0100\n",
            "Epoch 11/50\n",
            "230/230 [==============================] - 9s 37ms/step - loss: 0.2306 - accuracy: 0.9410 - val_loss: 0.3749 - val_accuracy: 0.9118 - lr: 0.0100\n",
            "Epoch 12/50\n",
            "230/230 [==============================] - 9s 38ms/step - loss: 0.1959 - accuracy: 0.9476 - val_loss: 0.6301 - val_accuracy: 0.8663 - lr: 0.0100\n",
            "Epoch 13/50\n",
            "230/230 [==============================] - 9s 38ms/step - loss: 0.2963 - accuracy: 0.9108 - val_loss: 0.4652 - val_accuracy: 0.8775 - lr: 0.0100\n",
            "Epoch 14/50\n",
            "230/230 [==============================] - 9s 37ms/step - loss: 0.2047 - accuracy: 0.9412 - val_loss: 0.5278 - val_accuracy: 0.8619 - lr: 0.0100\n",
            "Epoch 15/50\n",
            "230/230 [==============================] - 8s 37ms/step - loss: 0.1927 - accuracy: 0.9456 - val_loss: 0.4339 - val_accuracy: 0.9104 - lr: 0.0100\n",
            "Epoch 16/50\n",
            "230/230 [==============================] - 9s 37ms/step - loss: 0.2003 - accuracy: 0.9392 - val_loss: 0.4006 - val_accuracy: 0.9046 - lr: 0.0100\n",
            "Epoch 17/50\n",
            "230/230 [==============================] - 9s 37ms/step - loss: 0.1838 - accuracy: 0.9463 - val_loss: 0.4122 - val_accuracy: 0.8982 - lr: 0.0100\n",
            "Epoch 18/50\n",
            "230/230 [==============================] - 9s 38ms/step - loss: 0.2180 - accuracy: 0.9403 - val_loss: 0.3256 - val_accuracy: 0.9108 - lr: 0.0100\n",
            "Epoch 19/50\n",
            "230/230 [==============================] - 10s 43ms/step - loss: 0.2061 - accuracy: 0.9422 - val_loss: 0.3882 - val_accuracy: 0.9091 - lr: 0.0100\n",
            "Epoch 20/50\n",
            "230/230 [==============================] - 9s 37ms/step - loss: 0.1776 - accuracy: 0.9498 - val_loss: 0.4282 - val_accuracy: 0.8979 - lr: 0.0100\n",
            "Epoch 21/50\n",
            "230/230 [==============================] - 9s 38ms/step - loss: 0.1550 - accuracy: 0.9509 - val_loss: 0.4898 - val_accuracy: 0.8955 - lr: 0.0100\n"
          ]
        }
      ]
    },
    {
      "cell_type": "code",
      "source": [
        "fig = plt.figure(figsize=(15, 10))\n",
        "\n",
        "plt.plot(history.history['accuracy'])\n",
        "plt.plot(history.history['val_accuracy'])\n",
        "plt.title('Model accuracy')\n",
        "plt.ylabel('Accuracy')\n",
        "plt.xlabel('Epoch')\n",
        "plt.legend(['Train', 'Test'], loc='upper left')\n",
        "plt.show()"
      ],
      "metadata": {
        "colab": {
          "base_uri": "https://localhost:8080/",
          "height": 621
        },
        "outputId": "ef0cca39-66b3-4e31-ed69-9f3920778f2b",
        "id": "ROagne-8h0SV"
      },
      "execution_count": null,
      "outputs": [
        {
          "output_type": "display_data",
          "data": {
            "text/plain": [
              "<Figure size 1080x720 with 1 Axes>"
            ],
            "image/png": "[encoded data removed]"
          },
          "metadata": {
            "needs_background": "light"
          }
        }
      ]
    },
    {
      "cell_type": "markdown",
      "source": [
        "## Non-DNN model"
      ],
      "metadata": {
        "id": "MhhcnPdaxygQ"
      }
    },
    {
      "cell_type": "markdown",
      "source": [
        "XGBoosts model training"
      ],
      "metadata": {
        "id": "AilwQQ7Ex-s-"
      }
    },
    {
      "cell_type": "markdown",
      "metadata": {
        "id": "FU4mQHeiVO2s"
      },
      "source": [
        "XGBoost is a powerful and widely-used library for gradient boosting, which is a technique for building ensemble models by iteratively training weak models and combining them to form a stronger model. XGBoost is particularly useful in multi-class classification problems because it can handle large datasets, missing data, and categorical variables, and it has many built-in features to improve model performance, such as regularization and feature selection.\n",
        "\n"
      ]
    },
    {
      "cell_type": "code",
      "execution_count": null,
      "metadata": {
        "colab": {
          "base_uri": "https://localhost:8080/"
        },
        "id": "UxtBkhskRIbX",
        "outputId": "4248a7d5-70b0-4584-feed-63a14cdf5474"
      },
      "outputs": [
        {
          "output_type": "stream",
          "name": "stdout",
          "text": [
            "load train data.\n",
            "x.shape=(7352, 435), y.shape=(7352,)\n",
            "load test data.\n",
            "x.shape=(2947, 435), y.shape=(2947,)\n"
          ]
        }
      ],
      "source": [
        "loader = HARFeatureLoader(prefix_path)\n",
        "X_train, y_train = loader.load_train()\n",
        "X_val, y_val = loader.load_test()"
      ]
    },
    {
      "cell_type": "code",
      "execution_count": null,
      "metadata": {
        "id": "aDaGvCTvRazz"
      },
      "outputs": [],
      "source": [
        "labels=list(loader.label_dict.values())"
      ]
    },
    {
      "cell_type": "code",
      "execution_count": null,
      "metadata": {
        "colab": {
          "base_uri": "https://localhost:8080/"
        },
        "id": "wVatRGTVWA3J",
        "outputId": "aee7b18b-9e27-4b0a-ca47-dd7239927d01"
      },
      "outputs": [
        {
          "output_type": "stream",
          "name": "stdout",
          "text": [
            "[0]\tvalidation_0-merror:0.07685\tvalidation_1-merror:0.183916\n",
            "Multiple eval metrics have been passed: 'validation_1-merror' will be used for early stopping.\n",
            "\n",
            "Will train until validation_1-merror hasn't improved in 5 rounds.\n",
            "[1]\tvalidation_0-merror:0.068689\tvalidation_1-merror:0.144554\n",
            "[2]\tvalidation_0-merror:0.065016\tvalidation_1-merror:0.143196\n",
            "[3]\tvalidation_0-merror:0.063248\tvalidation_1-merror:0.139803\n",
            "[4]\tvalidation_0-merror:0.060664\tvalidation_1-merror:0.138785\n",
            "[5]\tvalidation_0-merror:0.058487\tvalidation_1-merror:0.135731\n",
            "[6]\tvalidation_0-merror:0.053455\tvalidation_1-merror:0.128266\n",
            "[7]\tvalidation_0-merror:0.052775\tvalidation_1-merror:0.125212\n",
            "[8]\tvalidation_0-merror:0.049374\tvalidation_1-merror:0.118765\n",
            "[9]\tvalidation_0-merror:0.047062\tvalidation_1-merror:0.114014\n",
            "[10]\tvalidation_0-merror:0.045838\tvalidation_1-merror:0.111639\n",
            "[11]\tvalidation_0-merror:0.044886\tvalidation_1-merror:0.109603\n",
            "[12]\tvalidation_0-merror:0.045294\tvalidation_1-merror:0.109264\n",
            "[13]\tvalidation_0-merror:0.044478\tvalidation_1-merror:0.109264\n",
            "[14]\tvalidation_0-merror:0.041893\tvalidation_1-merror:0.108924\n",
            "[15]\tvalidation_0-merror:0.040397\tvalidation_1-merror:0.10587\n",
            "[16]\tvalidation_0-merror:0.040669\tvalidation_1-merror:0.104174\n",
            "[17]\tvalidation_0-merror:0.039581\tvalidation_1-merror:0.103156\n",
            "[18]\tvalidation_0-merror:0.038357\tvalidation_1-merror:0.101798\n",
            "[19]\tvalidation_0-merror:0.037813\tvalidation_1-merror:0.099423\n",
            "[20]\tvalidation_0-merror:0.037405\tvalidation_1-merror:0.10112\n",
            "[21]\tvalidation_0-merror:0.036997\tvalidation_1-merror:0.099423\n",
            "[22]\tvalidation_0-merror:0.036589\tvalidation_1-merror:0.098066\n",
            "[23]\tvalidation_0-merror:0.036045\tvalidation_1-merror:0.097727\n",
            "[24]\tvalidation_0-merror:0.034956\tvalidation_1-merror:0.098405\n",
            "[25]\tvalidation_0-merror:0.03414\tvalidation_1-merror:0.097387\n",
            "[26]\tvalidation_0-merror:0.033868\tvalidation_1-merror:0.096369\n",
            "[27]\tvalidation_0-merror:0.033052\tvalidation_1-merror:0.09603\n",
            "[28]\tvalidation_0-merror:0.032644\tvalidation_1-merror:0.09603\n",
            "[29]\tvalidation_0-merror:0.031692\tvalidation_1-merror:0.095012\n",
            "[30]\tvalidation_0-merror:0.029652\tvalidation_1-merror:0.093655\n",
            "[31]\tvalidation_0-merror:0.028972\tvalidation_1-merror:0.093655\n",
            "[32]\tvalidation_0-merror:0.027884\tvalidation_1-merror:0.092297\n",
            "[33]\tvalidation_0-merror:0.026387\tvalidation_1-merror:0.092637\n",
            "[34]\tvalidation_0-merror:0.025435\tvalidation_1-merror:0.091279\n",
            "[35]\tvalidation_0-merror:0.024211\tvalidation_1-merror:0.091279\n",
            "[36]\tvalidation_0-merror:0.023667\tvalidation_1-merror:0.091279\n",
            "[37]\tvalidation_0-merror:0.021219\tvalidation_1-merror:0.089243\n",
            "[38]\tvalidation_0-merror:0.021083\tvalidation_1-merror:0.08585\n",
            "[39]\tvalidation_0-merror:0.019178\tvalidation_1-merror:0.085171\n",
            "[40]\tvalidation_0-merror:0.017954\tvalidation_1-merror:0.083135\n",
            "[41]\tvalidation_0-merror:0.017274\tvalidation_1-merror:0.083475\n",
            "[42]\tvalidation_0-merror:0.016322\tvalidation_1-merror:0.082796\n",
            "[43]\tvalidation_0-merror:0.014962\tvalidation_1-merror:0.083814\n",
            "[44]\tvalidation_0-merror:0.014146\tvalidation_1-merror:0.081439\n",
            "[45]\tvalidation_0-merror:0.013874\tvalidation_1-merror:0.080081\n",
            "[46]\tvalidation_0-merror:0.013466\tvalidation_1-merror:0.08076\n",
            "[47]\tvalidation_0-merror:0.013194\tvalidation_1-merror:0.08076\n",
            "[48]\tvalidation_0-merror:0.012786\tvalidation_1-merror:0.079742\n",
            "[49]\tvalidation_0-merror:0.012378\tvalidation_1-merror:0.079403\n",
            "[50]\tvalidation_0-merror:0.012106\tvalidation_1-merror:0.077706\n",
            "[51]\tvalidation_0-merror:0.011153\tvalidation_1-merror:0.078045\n",
            "[52]\tvalidation_0-merror:0.010337\tvalidation_1-merror:0.076349\n",
            "[53]\tvalidation_0-merror:0.010065\tvalidation_1-merror:0.07601\n",
            "[54]\tvalidation_0-merror:0.009385\tvalidation_1-merror:0.073634\n",
            "[55]\tvalidation_0-merror:0.008841\tvalidation_1-merror:0.074652\n",
            "[56]\tvalidation_0-merror:0.008433\tvalidation_1-merror:0.073974\n",
            "[57]\tvalidation_0-merror:0.008161\tvalidation_1-merror:0.072616\n",
            "[58]\tvalidation_0-merror:0.007753\tvalidation_1-merror:0.071598\n",
            "[59]\tvalidation_0-merror:0.007209\tvalidation_1-merror:0.071938\n",
            "[60]\tvalidation_0-merror:0.006801\tvalidation_1-merror:0.070241\n",
            "[61]\tvalidation_0-merror:0.006393\tvalidation_1-merror:0.070241\n",
            "[62]\tvalidation_0-merror:0.005985\tvalidation_1-merror:0.069902\n",
            "[63]\tvalidation_0-merror:0.005305\tvalidation_1-merror:0.067866\n",
            "[64]\tvalidation_0-merror:0.005305\tvalidation_1-merror:0.067526\n",
            "[65]\tvalidation_0-merror:0.004897\tvalidation_1-merror:0.067866\n",
            "[66]\tvalidation_0-merror:0.004489\tvalidation_1-merror:0.067187\n",
            "[67]\tvalidation_0-merror:0.003808\tvalidation_1-merror:0.066848\n",
            "[68]\tvalidation_0-merror:0.003672\tvalidation_1-merror:0.066508\n",
            "[69]\tvalidation_0-merror:0.0034\tvalidation_1-merror:0.066169\n",
            "[70]\tvalidation_0-merror:0.003264\tvalidation_1-merror:0.066508\n",
            "[71]\tvalidation_0-merror:0.002992\tvalidation_1-merror:0.06583\n",
            "[72]\tvalidation_0-merror:0.002856\tvalidation_1-merror:0.065151\n",
            "[73]\tvalidation_0-merror:0.00272\tvalidation_1-merror:0.064812\n",
            "[74]\tvalidation_0-merror:0.002584\tvalidation_1-merror:0.064812\n",
            "[75]\tvalidation_0-merror:0.002584\tvalidation_1-merror:0.064472\n",
            "[76]\tvalidation_0-merror:0.002312\tvalidation_1-merror:0.063115\n",
            "[77]\tvalidation_0-merror:0.00204\tvalidation_1-merror:0.062776\n",
            "[78]\tvalidation_0-merror:0.00204\tvalidation_1-merror:0.062436\n",
            "[79]\tvalidation_0-merror:0.001768\tvalidation_1-merror:0.062436\n",
            "[80]\tvalidation_0-merror:0.001768\tvalidation_1-merror:0.062436\n",
            "[81]\tvalidation_0-merror:0.001496\tvalidation_1-merror:0.061418\n",
            "[82]\tvalidation_0-merror:0.00136\tvalidation_1-merror:0.061758\n",
            "[83]\tvalidation_0-merror:0.00136\tvalidation_1-merror:0.061079\n",
            "[84]\tvalidation_0-merror:0.001088\tvalidation_1-merror:0.061418\n",
            "[85]\tvalidation_0-merror:0.001088\tvalidation_1-merror:0.061079\n",
            "[86]\tvalidation_0-merror:0.001088\tvalidation_1-merror:0.061079\n",
            "[87]\tvalidation_0-merror:0.001088\tvalidation_1-merror:0.06074\n",
            "[88]\tvalidation_0-merror:0.001088\tvalidation_1-merror:0.060061\n",
            "[89]\tvalidation_0-merror:0.001088\tvalidation_1-merror:0.0604\n",
            "[90]\tvalidation_0-merror:0.000952\tvalidation_1-merror:0.0604\n",
            "[91]\tvalidation_0-merror:0.000952\tvalidation_1-merror:0.060061\n",
            "[92]\tvalidation_0-merror:0.000952\tvalidation_1-merror:0.060061\n",
            "[93]\tvalidation_0-merror:0.000952\tvalidation_1-merror:0.059382\n",
            "[94]\tvalidation_0-merror:0.000952\tvalidation_1-merror:0.058704\n",
            "[95]\tvalidation_0-merror:0.000952\tvalidation_1-merror:0.058704\n",
            "[96]\tvalidation_0-merror:0.000816\tvalidation_1-merror:0.058704\n",
            "[97]\tvalidation_0-merror:0.00068\tvalidation_1-merror:0.059043\n",
            "[98]\tvalidation_0-merror:0.000408\tvalidation_1-merror:0.059043\n",
            "[99]\tvalidation_0-merror:0.000408\tvalidation_1-merror:0.058704\n",
            "Stopping. Best iteration:\n",
            "[94]\tvalidation_0-merror:0.000952\tvalidation_1-merror:0.058704\n",
            "\n"
          ]
        }
      ],
      "source": [
        "\n",
        "\n",
        "# Create the XGBoost model\n",
        "model = xgb.XGBClassifier(reg_lambda=0.1)\n",
        "\n",
        "# Fit the model to the training data\n",
        "eval_set = [(X_train, y_train), (X_val, y_val)]\n",
        "model.fit(X_train, y_train, eval_set=eval_set, eval_metric=\"merror\", early_stopping_rounds=5)\n",
        "\n",
        "# Make predictions on the training and validation sets\n",
        "train_predictions = model.predict(X_train)\n",
        "val_predictions = model.predict(X_val)\n",
        "\n",
        "# Evaluate the model's accuracy on the training and validation sets\n",
        "train_accuracy = accuracy_score(y_train, train_predictions)\n",
        "val_accuracy = accuracy_score(y_val, val_predictions)"
      ]
    },
    {
      "cell_type": "code",
      "source": [
        "print(f'{val_accuracy=}')"
      ],
      "metadata": {
        "colab": {
          "base_uri": "https://localhost:8080/"
        },
        "id": "NTtIAiJjlURb",
        "outputId": "e42fc635-5c08-4a8c-f79a-87d15c43ce43"
      },
      "execution_count": null,
      "outputs": [
        {
          "output_type": "stream",
          "name": "stdout",
          "text": [
            "val_accuracy=0.9412962334577536\n"
          ]
        }
      ]
    },
    {
      "cell_type": "code",
      "execution_count": null,
      "metadata": {
        "id": "elt0S88fWGss"
      },
      "outputs": [],
      "source": [
        "# Create a list of the number of rounds\n",
        "rounds = list(range(1, len(model.evals_result()['validation_0']['merror'])+1))\n",
        "\n",
        "# Create a list of the training and validation set accuracy\n",
        "train_performance = [1-x for x in model.evals_result()['validation_0']['merror']]\n",
        "val_performance = [1-x for x in model.evals_result()['validation_1']['merror']]"
      ]
    },
    {
      "cell_type": "markdown",
      "metadata": {
        "id": "UhMhoIDMbMPS"
      },
      "source": [
        "Plotting the training and validation set performance\n",
        "\n",
        "Check for overfitting is to plot the performance of the model on the training set and validation set over time (i.e. as the number of rounds increases). If the performance on the training set continues to improve while the performance on the validation set plateaus or decreases, it suggests that the model is overfitting.\n",
        "\n",
        "in the following plot, it no show that."
      ]
    },
    {
      "cell_type": "code",
      "execution_count": null,
      "metadata": {
        "colab": {
          "base_uri": "https://localhost:8080/",
          "height": 624
        },
        "id": "3GWFHhywX7U7",
        "outputId": "20d7fd8a-3a4a-4074-822b-9fae5ab8b8d2"
      },
      "outputs": [
        {
          "output_type": "execute_result",
          "data": {
            "text/plain": [
              "<matplotlib.legend.Legend at 0x7fb3a13e4430>"
            ]
          },
          "metadata": {},
          "execution_count": 30
        },
        {
          "output_type": "display_data",
          "data": {
            "text/plain": [
              "<Figure size 1080x720 with 1 Axes>"
            ],
            "image/png": "[encoded data removed]"
          },
          "metadata": {
            "needs_background": "light"
          }
        }
      ],
      "source": [
        "# Plot the training and validation set performance over time\n",
        "fig, ax = plt.subplots(figsize=(15,10))\n",
        "plt.plot(rounds, train_performance, label=\"Training Set\")\n",
        "plt.plot(rounds, val_performance, label=\"Validation Set\")\n",
        "plt.xlabel(\"Rounds\")\n",
        "plt.ylabel(\"Accuracy\")\n",
        "plt.ax = ax\n",
        "plt.legend()"
      ]
    },
    {
      "cell_type": "markdown",
      "source": [
        "### Feature Importance"
      ],
      "metadata": {
        "id": "Pb4TKsNR2-r-"
      }
    },
    {
      "cell_type": "markdown",
      "metadata": {
        "id": "tYmj6_twa2ax"
      },
      "source": [
        "\n",
        "\n",
        "XGBoots provide function to plot feature importance and it can help to identify which features are the most important for the model. If a feature has a high importance, it means that it contributes more to the model's predictions. If the feature importance of some features is too high, it may indicate overfitting because the model is too dependent on them.\n",
        "\n",
        "based on the plot result, we can not say any feature has significant larger than others"
      ]
    },
    {
      "cell_type": "code",
      "execution_count": null,
      "metadata": {
        "colab": {
          "base_uri": "https://localhost:8080/",
          "height": 911
        },
        "id": "7idg83fTZSwJ",
        "outputId": "2ec23649-c395-419b-f5cf-33af8117523f"
      },
      "outputs": [
        {
          "output_type": "execute_result",
          "data": {
            "text/plain": [
              "<matplotlib.axes._subplots.AxesSubplot at 0x7fb3a192ec40>"
            ]
          },
          "metadata": {},
          "execution_count": 26
        },
        {
          "output_type": "display_data",
          "data": {
            "text/plain": [
              "<Figure size 1080x1080 with 1 Axes>"
            ],
            "image/png": "[encoded data removed]"
          },
          "metadata": {
            "needs_background": "light"
          }
        }
      ],
      "source": [
        "fig, ax = plt.subplots(figsize=(15,15))\n",
        "xgb.plot_importance(model, ax=ax, max_num_features=20)"
      ]
    },
    {
      "cell_type": "markdown",
      "source": [
        "# Model Comparison"
      ],
      "metadata": {
        "id": "LUfTayCUqp5k"
      }
    },
    {
      "cell_type": "markdown",
      "source": [
        "## DNN model - CNN + LSTM"
      ],
      "metadata": {
        "id": "iOVRiA1-wtLJ"
      }
    },
    {
      "cell_type": "markdown",
      "source": [
        "CNN\n",
        "\n"
      ],
      "metadata": {
        "id": "T_ndZ2_Mv-KO"
      }
    },
    {
      "cell_type": "markdown",
      "source": [
        "Pros\n",
        "- They are able to learn features from the input data automatically, without the need for manual feature engineering.\n",
        "\n",
        "Cons\n",
        "- CNNs require a large amount of data and computational resources to train.\n",
        "- They are sensitive to the quality and annotation of the training data, which can lead to overfitting if the data is not diverse or representative enough.\n",
        "- They can be difficult to interpret, as the learned features are often abstract and not directly related to the input data."
      ],
      "metadata": {
        "id": "6tjK0Kdhw8Xf"
      }
    },
    {
      "cell_type": "markdown",
      "source": [
        "LSTM\n"
      ],
      "metadata": {
        "id": "uRh8EzdPJMsn"
      }
    },
    {
      "cell_type": "markdown",
      "source": [
        "Pros\n",
        "\n",
        "- LSTMs are well suited for time series classification tasks as they are able to effectively capture long-term dependencies in sequential data.\n",
        "- LSTMs are able to handle input sequences of varying lengths, which is useful for handling variable-length time series data.\n",
        "- LSTMs are able to learn the underlying patterns and trends in the time series data, which can be useful for making accurate predictions.\n",
        "\n",
        "\n",
        "Cons\n",
        "\n",
        "- LSTMs can be computationally expensive to train and run, particularly when dealing with large input sequences or large amounts of data.\n",
        "- LSTMs can be difficult to interpret and understand, as they are a complex model with many internal components.\n",
        "- LSTMs can be prone to overfitting if not properly regularized, as they have a large number of parameters that can be adjusted.\n",
        "- LSTMs may not be suitable for time series data with high frequency, as the model might not be able to capture the high-frequency patterns.\n",
        "- LSTMs may not be suitable for time series data with a high degree of noise, as the model might not be able to differentiate between noise and signal."
      ],
      "metadata": {
        "id": "fHQaAIrbw5h9"
      }
    },
    {
      "cell_type": "code",
      "source": [],
      "metadata": {
        "id": "H1O1oXUyqqcW"
      },
      "execution_count": null,
      "outputs": []
    },
    {
      "cell_type": "markdown",
      "source": [
        "## Non-DNN"
      ],
      "metadata": {
        "id": "gs2PWrT6zGkY"
      }
    },
    {
      "cell_type": "markdown",
      "source": [
        "XGBoosts"
      ],
      "metadata": {
        "id": "ON1vnyi8zR-u"
      }
    },
    {
      "cell_type": "markdown",
      "source": [
        "Pros:\n",
        "\n",
        "\n",
        "\n",
        "\n"
      ],
      "metadata": {
        "id": "tR3znwtozBsZ"
      }
    },
    {
      "cell_type": "markdown",
      "source": [
        "- XGBoost is a highly efficient and scalable algorithm that can handle large datasets with millions of examples and features.\n",
        "It can handle missing values and categorical variables, which can be transformed into numerical values using one-hot encoding.\n",
        "- XGBoost uses a technique called \"boosting\" which combines the predictions of multiple weak models to produce a strong final prediction. This makes the model robust to overfitting and improves its generalization performance.\n",
        "- XGBoost provides several regularization options such as L1 and L2 regularization which can help prevent overfitting.\n",
        "It has built-in support for parallel processing which can speed up the training process.\n",
        "- XGBoost has a built-in feature importance analysis mechanism, which allows you to understand which features are most important in determining the output of the model.\n",
        "- XGBoost can handle imbalanced datasets where some classes have much fewer examples than others"
      ],
      "metadata": {
        "id": "uHPU80lEz5_q"
      }
    },
    {
      "cell_type": "markdown",
      "source": [
        "Cons:\n",
        "\n"
      ],
      "metadata": {
        "id": "8gsa3jeoz8m8"
      }
    },
    {
      "cell_type": "markdown",
      "source": [
        "- XGBoost requires careful tuning of its many hyperparameters, such as the learning rate, number of trees, and regularization parameters. This can be time-consuming and requires a good understanding of the algorithm.\n",
        "- XGBoost can be sensitive to the initial conditions of the data, and in some cases, it may not converge or produce poor results if the data is not properly preprocessed.\n",
        "- It can be memory-intensive and may require a powerful machine to handle large datasets.\n",
        "- The interpretability of the model can be difficult as it's a complex ensemble of decision trees.\n",
        "- It may take longer time to train a model than other algorithms such as Random Forest or Logistic Regression."
      ],
      "metadata": {
        "id": "vsblrvepz-H4"
      }
    },
    {
      "cell_type": "markdown",
      "source": [
        "# Results"
      ],
      "metadata": {
        "id": "D2_lpXYDqzRR"
      }
    },
    {
      "cell_type": "markdown",
      "source": [
        "## Results of DNN model"
      ],
      "metadata": {
        "id": "J3aeL_1UsP4F"
      }
    },
    {
      "cell_type": "markdown",
      "source": [
        "In the work CNN + LSTM, test accuracy reach to 91.2%.\n",
        "\n",
        "Based on the Confusion matrix most of the classes are correct.\n",
        "\n",
        "Except \"Standing\" and \"sitting\", which we can do more analysis in future work."
      ],
      "metadata": {
        "id": "6bPj24Srw1o-"
      }
    },
    {
      "cell_type": "code",
      "source": [
        "test_loss, test_acc = model.evaluate(X_test, y_test, verbose=2)\n",
        "print('Test accuracy:', test_acc)"
      ],
      "metadata": {
        "colab": {
          "base_uri": "https://localhost:8080/"
        },
        "id": "ZRuoiiJs7pEc",
        "outputId": "b9fe0b3f-7571-472f-875a-7ed9d0ea451a"
      },
      "execution_count": null,
      "outputs": [
        {
          "output_type": "stream",
          "name": "stdout",
          "text": [
            "93/93 - 1s - loss: 0.3749 - accuracy: 0.9118 - 707ms/epoch - 8ms/step\n",
            "Test accuracy: 0.9117746949195862\n"
          ]
        }
      ]
    },
    {
      "cell_type": "code",
      "source": [
        "y_pred = model.predict(X_test)"
      ],
      "metadata": {
        "colab": {
          "base_uri": "https://localhost:8080/"
        },
        "id": "ZSQ3tkxIeTN2",
        "outputId": "f61277bc-e432-46a8-9cf5-843a7ced4a11"
      },
      "execution_count": null,
      "outputs": [
        {
          "output_type": "stream",
          "name": "stdout",
          "text": [
            "93/93 [==============================] - 1s 9ms/step\n"
          ]
        }
      ]
    },
    {
      "cell_type": "code",
      "source": [
        "y_pred_res = tf.argmax(y_pred, axis=1)\n",
        "y_test_res = tf.argmax(y_test, axis=1)"
      ],
      "metadata": {
        "id": "mJT0sFkhwXaH"
      },
      "execution_count": null,
      "outputs": []
    },
    {
      "cell_type": "code",
      "source": [
        "cm = tf.math.confusion_matrix(y_test_res, y_pred_res, num_classes=num_classes)"
      ],
      "metadata": {
        "id": "X5Vod_6ywXdB"
      },
      "execution_count": null,
      "outputs": []
    },
    {
      "cell_type": "code",
      "source": [
        "class_names = [ 'WALKING',\n",
        "    'WALKING_UPSTAIRS',\n",
        "     'WALKING_DOWNSTAIRS',\n",
        "     'SITTING',\n",
        "     'STANDING',\n",
        "     'LAYING',\n",
        "]"
      ],
      "metadata": {
        "id": "hlPoixna5Al-"
      },
      "execution_count": null,
      "outputs": []
    },
    {
      "cell_type": "code",
      "source": [
        "cm = np.array(cm)\n",
        "\n",
        "fig, ax = plt.subplots(figsize=(15,15))\n",
        "im = ax.imshow(cm, interpolation='nearest', cmap=plt.cm.Blues)\n",
        "ax.figure.colorbar(im, ax=ax)\n",
        "ax.set(xticks=np.arange(cm.shape[1]),\n",
        "       yticks=np.arange(cm.shape[0]),\n",
        "       xticklabels=class_names, yticklabels=class_names,\n",
        "       ylabel='True label',\n",
        "       xlabel='Predicted label')\n",
        "\n",
        "# Loop over data dimensions and create text annotations\n",
        "for i in range(cm.shape[0]):\n",
        "    for j in range(cm.shape[1]):\n",
        "        ax.text(j, i, cm[i, j], ha=\"center\", va=\"center\", color=\"black\")"
      ],
      "metadata": {
        "colab": {
          "base_uri": "https://localhost:8080/",
          "height": 852
        },
        "id": "h9Nij5CowXf7",
        "outputId": "6f4b4c2b-3b4a-423a-dc33-758733abb282"
      },
      "execution_count": null,
      "outputs": [
        {
          "output_type": "display_data",
          "data": {
            "text/plain": [
              "<Figure size 1080x1080 with 2 Axes>"
            ],
            "image/png": "[encoded data removed]"
          },
          "metadata": {
            "needs_background": "light"
          }
        }
      ]
    },
    {
      "cell_type": "markdown",
      "source": [
        "## Results of XGboosts model"
      ],
      "metadata": {
        "id": "ZGs0L_TjotZW"
      }
    },
    {
      "cell_type": "markdown",
      "source": [
        "In the work XGBoosts, given us 94.13% acccuracy in test set.\n",
        "\n",
        "Based on the Confusion matrix most of the classes are correct.\n",
        "\n",
        "Except \"Standing\" and \"sitting\", which we can do more analysis in future work."
      ],
      "metadata": {
        "id": "jXGu7CwSorRf"
      }
    },
    {
      "cell_type": "code",
      "execution_count": null,
      "metadata": {
        "colab": {
          "base_uri": "https://localhost:8080/"
        },
        "id": "yYy5Y73ZYw_E",
        "outputId": "54bd7fde-ff48-4da9-b294-9e7935082225"
      },
      "outputs": [
        {
          "output_type": "stream",
          "name": "stdout",
          "text": [
            "0.9412962334577536\n"
          ]
        }
      ],
      "source": [
        "y_pred = model.predict(X_val)\n",
        "accuracy = metrics.accuracy_score(y_true=y_val, y_pred=y_pred)\n",
        "print(accuracy)"
      ]
    },
    {
      "cell_type": "code",
      "execution_count": null,
      "metadata": {
        "colab": {
          "base_uri": "https://localhost:8080/",
          "height": 896
        },
        "id": "kd5lpXAZYw_F",
        "outputId": "047ef13f-4e59-4d4a-f9ac-ba6dccd248fb"
      },
      "outputs": [
        {
          "output_type": "execute_result",
          "data": {
            "text/plain": [
              "Text(113.09375, 0.5, 'True')"
            ]
          },
          "metadata": {},
          "execution_count": 21
        },
        {
          "output_type": "display_data",
          "data": {
            "text/plain": [
              "<Figure size 1080x1080 with 2 Axes>"
            ],
            "image/png": "[encoded data removed]"
          },
          "metadata": {
            "needs_background": "light"
          }
        }
      ],
      "source": [
        "from sklearn.metrics import confusion_matrix\n",
        "import seaborn as sns\n",
        "import matplotlib.pyplot as plt\n",
        "\n",
        "fig, ax = plt.subplots(figsize=(15,15))\n",
        "# make predictions on the test set\n",
        "y_pred = model.predict(X_val)\n",
        "\n",
        "# create the confusion matrix\n",
        "cm = confusion_matrix(y_val, y_pred, labels=labels)\n",
        "\n",
        "# plot the confusion matrix using seaborn\n",
        "sns.heatmap(cm, annot=True, fmt='d', cmap='Blues', xticklabels=labels, yticklabels=labels)\n",
        "plt.xlabel('Predicted')\n",
        "plt.ylabel('True')"
      ]
    },
    {
      "cell_type": "markdown",
      "source": [
        "# Conclusion"
      ],
      "metadata": {
        "id": "rDulUgfZq38t"
      }
    },
    {
      "cell_type": "markdown",
      "source": [
        "In this work, we found DNN model is much easier overfitting than non-DNN model in this problem."
      ],
      "metadata": {
        "id": "iupSTTJmxM_E"
      }
    },
    {
      "cell_type": "markdown",
      "source": [
        "In conclusion, we pre-processed the data by cleaning and formatting it. \n",
        "\n",
        "We then evaluated multiple models and found that XGBoost performed the best with an accuracy of 94%. It better than DNN model 91% accuracy. \n",
        "\n",
        "The feature importance of top 20 features were also identified. Overall, this analysis provides valuable insights that can be used to make predictions and inform decision-making."
      ],
      "metadata": {
        "id": "_yVZQ34ArIfX"
      }
    },
    {
      "cell_type": "markdown",
      "source": [
        "# Additional"
      ],
      "metadata": {
        "id": "EVyH0dty0os2"
      }
    },
    {
      "cell_type": "markdown",
      "source": [
        "GridSearchCV is a scikit-learn function that can be used to perform an exhaustive search over a specified parameter grid for an estimator. It is used to find the best combination of hyperparameters for a model, by training the model on the training data using different combinations of hyperparameters, and evaluating the performance of each combination on the validation data.\n",
        "\n",
        "In time series multi-class classification, GridSearchCV can be used to find the optimal parameters for the model such as the window size, stride size, and other hyperparameters that are specific to the model being used for classification. By using GridSearchCV, we can tune the model's hyperparameters to achieve the best performance on the validation data, which can improve the model's performance when applied to new, unseen data."
      ],
      "metadata": {
        "id": "odFMsK360xY_"
      }
    },
    {
      "cell_type": "markdown",
      "source": [
        "## GSV for DNN"
      ],
      "metadata": {
        "id": "JP_GvCoE06kL"
      }
    },
    {
      "cell_type": "markdown",
      "source": [
        "We can use Grid Search CV to tuning the parameters of model. for example, tunning the regulariztion rate or dropout rate.\n",
        "\n",
        "\n",
        "It takes too long to run thus here is the sample code, "
      ],
      "metadata": {
        "id": "8KcZJq8lmTHy"
      }
    },
    {
      "cell_type": "code",
      "source": [
        "from sklearn.model_selection import GridSearchCV\n",
        "from tensorflow.keras.wrappers.scikit_learn import KerasClassifier\n",
        "from datetime import datetime"
      ],
      "metadata": {
        "id": "MeZUtu9xQLy3"
      },
      "execution_count": null,
      "outputs": []
    },
    {
      "cell_type": "code",
      "source": [
        "def create_model(l2_rate=0.0):\n",
        "    model = tf.keras.models.Sequential([\n",
        "      tf.keras.layers.Conv1D(filters=32, kernel_size=4,\n",
        "                          strides=1,\n",
        "                          activation=\"relu\",\n",
        "                          padding='causal',\n",
        "                          input_shape=(sequence_length, number_of_features)),\n",
        "      tf.keras.layers.LSTM(32),\n",
        "      tf.keras.layers.Dropout(0.5),\n",
        "      tf.keras.layers.Dense(64, activation=\"relu\", kernel_regularizer=tf.keras.regularizers.l2(l2_rate)),\n",
        "      tf.keras.layers.Dense(number_of_classes, activation=\"softmax\")\n",
        "    ])\n",
        "    model.compile(\n",
        "    loss='categorical_crossentropy', \n",
        "    optimizer=tf.keras.optimizers.Adam(learning_rate=learning_rate), \n",
        "    metrics=['accuracy']\n",
        "    )\n",
        "    return model\n",
        "\n",
        "# create the model\n",
        "model_cv = KerasClassifier(build_fn=create_model, epochs=20, batch_size=32, verbose=0)"
      ],
      "metadata": {
        "colab": {
          "base_uri": "https://localhost:8080/"
        },
        "id": "CFMX8iwkc4Vu",
        "outputId": "9f9dcac9-4253-4ce6-d532-65c2c309fb43"
      },
      "execution_count": null,
      "outputs": [
        {
          "output_type": "stream",
          "name": "stderr",
          "text": [
            "<ipython-input-59-86912c2ff979>:21: DeprecationWarning: KerasClassifier is deprecated, use Sci-Keras (https://github.com/adriangb/scikeras) instead. See https://www.adriangb.com/scikeras/stable/migration.html for help migrating.\n",
            "  model = KerasClassifier(build_fn=create_model, epochs=20, batch_size=32, verbose=0)\n"
          ]
        }
      ]
    },
    {
      "cell_type": "code",
      "source": [
        "# define the grid search parameters\n",
        "l2_rate = [0.0, 0.001, 0.01, 0.1]\n",
        "param_grid = dict(l2_rate=l2_rate)\n",
        "grid = GridSearchCV(estimator=model_cv, param_grid=param_grid, cv=3)"
      ],
      "metadata": {
        "id": "SLxQmiaafCIu"
      },
      "execution_count": null,
      "outputs": []
    },
    {
      "cell_type": "code",
      "source": [
        "start_time = datetime.now()"
      ],
      "metadata": {
        "id": "v-s2sIDbPoUN"
      },
      "execution_count": null,
      "outputs": []
    },
    {
      "cell_type": "code",
      "source": [
        "grid_result = grid.fit(X_train, y_train)"
      ],
      "metadata": {
        "id": "dxq5h-qgfHOo"
      },
      "execution_count": null,
      "outputs": []
    },
    {
      "cell_type": "code",
      "source": [
        "print(f'time cost: {datetime.now()-start_time}')"
      ],
      "metadata": {
        "id": "6hLmRlQRPsQl"
      },
      "execution_count": null,
      "outputs": []
    },
    {
      "cell_type": "code",
      "source": [
        "# summarize results\n",
        "print(\"Best: %f using %s\" % (grid_result.best_score_, grid_result.best_params_))\n",
        "means = grid_result.cv_results_['mean_test_score']\n",
        "stds = grid_result.cv_results_['std_test_score']\n",
        "params = grid_result.cv_results_['params']\n",
        "for mean, stdev, param in zip(means, stds, params):\n",
        "    print(\"%f (%f) with: %r\" % (mean, stdev, param))"
      ],
      "metadata": {
        "id": "KSf6f8cMdPkO"
      },
      "execution_count": null,
      "outputs": []
    },
    {
      "cell_type": "markdown",
      "source": [
        "## GSV for XGBoosts"
      ],
      "metadata": {
        "id": "LGb4_V7z0-u7"
      }
    },
    {
      "cell_type": "markdown",
      "metadata": {
        "id": "pyGx977piLgT"
      },
      "source": [
        "Regularization and tuning by GridSearchCV"
      ]
    },
    {
      "cell_type": "markdown",
      "source": [
        "We can use Grid Search CV to tuning the parameters of model. for example, tunning the regulariztion rate.\n",
        "\n",
        "It takes too long to run thus here is the sample code,"
      ],
      "metadata": {
        "id": "iu6rzNXLDx76"
      }
    },
    {
      "cell_type": "code",
      "execution_count": null,
      "metadata": {
        "id": "q9JMXeQWiPB_"
      },
      "outputs": [],
      "source": [
        "model = xgb.XGBClassifier(reg_lambda=0.1, early_stopping_rounds=10, eval_set=[(X_val, y_val)])"
      ]
    },
    {
      "cell_type": "code",
      "execution_count": null,
      "metadata": {
        "id": "unaI1DD9iaNG"
      },
      "outputs": [],
      "source": [
        "from sklearn.model_selection import GridSearchCV, RandomizedSearchCV\n",
        "param_grid = {'reg_lambda':[0.01, 0.001]}#[0, 0.001, 0.01, 0.1, 1, 10, 100]}\n",
        "clf = RandomizedSearchCV(model, param_grid, cv=5)"
      ]
    },
    {
      "cell_type": "code",
      "execution_count": null,
      "metadata": {
        "colab": {
          "background_save": true
        },
        "id": "1W8zLq42i6Sk",
        "outputId": "dc6d2ba2-7e41-4dd1-a2fd-e47cd1cce1b4"
      },
      "outputs": [
        {
          "data": {
            "text/plain": [
              "RandomizedSearchCV(cv=5,\n",
              "                   estimator=XGBClassifier(early_stopping_rounds=10,\n",
              "                                           eval_set=[(      tBodyAccmeanX  tBodyAccmeanY  tBodyAccmeanZ  tBodyAccstdX  tBodyAccstdY  \\\n",
              "0              0.26          -0.02          -0.01         -0.94         -0.92   \n",
              "1              0.29          -0.01          -0.12         -0.98         -0.97   \n",
              "2              0.28          -0.03          -0.12         -0.99         -0.97   \n",
              "3              0.27          -0.03          -0.12         -0.99         -0.97   \n",
              "4              0.27          -0.03          -0.13         -0.99         -0.97   \n",
              "...             ...            ...            ...           ...           ...   \n",
              "2942           0.31          -0.05          -0.10         -0.29         -0.14   \n",
              "2943           0.36          -0.04          -0.11         -0.31          0.03   \n",
              "2944...\n",
              "2942              -0.65               0.27               0.18  \n",
              "2943              -0.66               0.27               0.18  \n",
              "2944              -0.66               0.27               0.18  \n",
              "2945              -0.66               0.26               0.19  \n",
              "2946              -0.66               0.26               0.19  \n",
              "\n",
              "[2947 rows x 435 columns],\n",
              "                                                      0               STANDING\n",
              "1               STANDING\n",
              "2               STANDING\n",
              "3               STANDING\n",
              "4               STANDING\n",
              "              ...       \n",
              "2942    WALKING_UPSTAIRS\n",
              "2943    WALKING_UPSTAIRS\n",
              "2944    WALKING_UPSTAIRS\n",
              "2945    WALKING_UPSTAIRS\n",
              "2946    WALKING_UPSTAIRS\n",
              "Name: ActivityName, Length: 2947, dtype: object)],\n",
              "                                           reg_lambda=0.1),\n",
              "                   param_distributions={'reg_lambda': [0.01, 0.001]})"
            ]
          },
          "execution_count": 127,
          "metadata": {},
          "output_type": "execute_result"
        }
      ],
      "source": [
        "# Fit the model to the training data\n",
        "clf.fit(X_train, y_train, eval_metric=\"merror\")"
      ]
    },
    {
      "cell_type": "code",
      "execution_count": null,
      "metadata": {
        "id": "F_D5AH4fis-i"
      },
      "outputs": [],
      "source": [
        "# Make predictions on the training and validation sets\n",
        "train_predictions = clf.predict(X_train)"
      ]
    },
    {
      "cell_type": "code",
      "execution_count": null,
      "metadata": {
        "id": "MHMkuLwdit-K"
      },
      "outputs": [],
      "source": [
        "\n",
        "val_predictions = clf.predict(X_val)"
      ]
    },
    {
      "cell_type": "code",
      "execution_count": null,
      "metadata": {
        "id": "Y5bcptKXiiWF"
      },
      "outputs": [],
      "source": [
        "# Evaluate the model's accuracy on the training and validation sets\n",
        "train_accuracy = accuracy_score(y_train, train_predictions)\n",
        "val_accuracy = accuracy_score(y_val, val_predictions)"
      ]
    },
    {
      "cell_type": "code",
      "execution_count": null,
      "metadata": {
        "id": "yOOaqae6on7h",
        "colab": {
          "base_uri": "https://localhost:8080/"
        },
        "outputId": "c72dd6ff-e812-4a56-9421-7126473fdd3a"
      },
      "outputs": [
        {
          "output_type": "stream",
          "name": "stdout",
          "text": [
            "train_accuracy=0.999455930359086, val_accuracy=0.9399389209365456\n"
          ]
        }
      ],
      "source": [
        "print(f'{train_accuracy=}, {val_accuracy=}')"
      ]
    }
  ]
}