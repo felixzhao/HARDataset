{
  "nbformat": 4,
  "nbformat_minor": 0,
  "metadata": {
    "colab": {
      "provenance": [],
      "collapsed_sections": [
        "9t57XO7NGyRb"
      ],
      "authorship_tag": "ABX9TyOJrIPXdRJSVM85+PK9tQE3",
      "include_colab_link": true
    },
    "kernelspec": {
      "name": "python3",
      "display_name": "Python 3"
    },
    "language_info": {
      "name": "python"
    }
  },
  "cells": [
    {
      "cell_type": "markdown",
      "metadata": {
        "id": "view-in-github",
        "colab_type": "text"
      },
      "source": [
        "<a href=\"https://colab.research.google.com/github/felixzhao/HARDataset/blob/main/Halter_V1_HAR_DNN.ipynb\" target=\"_parent\"><img src=\"https://colab.research.google.com/assets/colab-badge.svg\" alt=\"Open In Colab\"/></a>"
      ]
    },
    {
      "cell_type": "code",
      "execution_count": 15,
      "metadata": {
        "id": "fHRzGf4UCCx2"
      },
      "outputs": [],
      "source": [
        "import seaborn as sns\n",
        "import numpy as np\n",
        "import matplotlib.pyplot as plt\n",
        "import plotly.express as px\n",
        "import pandas as pd\n",
        "import statsmodels.api as sm\n",
        "import statsmodels.tsa.api as smt\n",
        "import matplotlib as mpl"
      ]
    },
    {
      "cell_type": "code",
      "source": [
        "import tensorflow as tf"
      ],
      "metadata": {
        "id": "7Tk_xkl8Xn93"
      },
      "execution_count": 2,
      "outputs": []
    },
    {
      "cell_type": "code",
      "source": [
        "pd.set_option('display.max_columns', None)\n",
        "pd.options.display.float_format = '{:.2f}'.format"
      ],
      "metadata": {
        "id": "5EQNzesUCU9E"
      },
      "execution_count": 3,
      "outputs": []
    },
    {
      "cell_type": "markdown",
      "source": [
        "# load data"
      ],
      "metadata": {
        "id": "gEW2j79WCpuc"
      }
    },
    {
      "cell_type": "code",
      "source": [
        "from google.colab import drive\n",
        "drive.mount('/content/drive')"
      ],
      "metadata": {
        "colab": {
          "base_uri": "https://localhost:8080/"
        },
        "id": "vOMbHN-VCWr4",
        "outputId": "8eada2e0-9f43-44ce-cf37-74f004f04cc6"
      },
      "execution_count": 4,
      "outputs": [
        {
          "output_type": "stream",
          "name": "stdout",
          "text": [
            "Mounted at /content/drive\n"
          ]
        }
      ]
    },
    {
      "cell_type": "code",
      "source": [
        "root_path = \"drive/MyDrive/UCI_HAR_Dataset/\""
      ],
      "metadata": {
        "id": "Onwurh0_CW99"
      },
      "execution_count": 10,
      "outputs": []
    },
    {
      "cell_type": "code",
      "source": [
        "class HARDataSetLoader:\n",
        "    def __init__(self, root_path):\n",
        "        self.root = root_path\n",
        "        self.file_dir = '/Inertial Signals/'\n",
        "        self.file_prefix = ['total_acc_', 'body_acc_', 'body_gyro_']\n",
        "        self.feature_type = ['x_', 'y_', 'z_']\n",
        "        self.file_type = '.txt'\n",
        "\n",
        "    def _get_feature_files_full_path(self, file_type:str):\n",
        "        feature_files = []\n",
        "        for prefix in self.file_prefix:\n",
        "            for f_type in self.feature_type:\n",
        "                full_path = f\"{self.root}{file_type}{self.file_dir}\" \\\n",
        "                            + f\"{prefix}{f_type}{file_type}{self.file_type}\"\n",
        "                feature_files.append(full_path)\n",
        "        return feature_files\n",
        "\n",
        "    def _get_label_file_full_path(self, file_type:str):\n",
        "        return f'{self.root}{file_type}/y_{file_type}.txt'\n",
        "\n",
        "    def __load_file(self, file_path:str):\n",
        "        return pd.read_csv(file_path, header=None, delim_whitespace=True).values\n",
        "\n",
        "    def _load_feature(self, feature_files):\n",
        "        features = np.dstack(\n",
        "            [\n",
        "                self.__load_file(f) for f in feature_files\n",
        "            ]\n",
        "        )\n",
        "        return features\n",
        "\n",
        "    def _load_label(self, label_file):\n",
        "        return self.__load_file(label_file) \n",
        "\n",
        "    def _load(self, split_type:str):\n",
        "        feature_file_names = self._get_feature_files_full_path(split_type)\n",
        "        label_file_name = self._get_label_file_full_path(split_type)\n",
        "        print(feature_file_names)\n",
        "        print(label_file_name)\n",
        "        X = self._load_feature(feature_file_names)\n",
        "        y = self._load_label(label_file_name)\n",
        "        print(X.shape, y.shape)\n",
        "        return X, y\n",
        "\n",
        "    def load_train(self):\n",
        "        print('load train data.')\n",
        "        return self._load('train')\n",
        "\n",
        "    def load_test(self):\n",
        "        print('load test data.')\n",
        "        return self._load('test')\n",
        "  "
      ],
      "metadata": {
        "id": "QgCZcFFb6-L-"
      },
      "execution_count": 25,
      "outputs": []
    },
    {
      "cell_type": "code",
      "source": [
        "loader = HARDataSetLoader(root_path=root_path)\n",
        "X_train, y_train = loader.load_train()\n",
        "X_test, y_test = loader.load_test()"
      ],
      "metadata": {
        "colab": {
          "base_uri": "https://localhost:8080/"
        },
        "id": "oM8JQk5TA4wG",
        "outputId": "edc24f49-ff6c-452a-ee53-96e720afbf8c"
      },
      "execution_count": 27,
      "outputs": [
        {
          "output_type": "stream",
          "name": "stdout",
          "text": [
            "load train data.\n",
            "['drive/MyDrive/UCI_HAR_Dataset/train/Inertial Signals/total_acc_x_train.txt', 'drive/MyDrive/UCI_HAR_Dataset/train/Inertial Signals/total_acc_y_train.txt', 'drive/MyDrive/UCI_HAR_Dataset/train/Inertial Signals/total_acc_z_train.txt', 'drive/MyDrive/UCI_HAR_Dataset/train/Inertial Signals/body_acc_x_train.txt', 'drive/MyDrive/UCI_HAR_Dataset/train/Inertial Signals/body_acc_y_train.txt', 'drive/MyDrive/UCI_HAR_Dataset/train/Inertial Signals/body_acc_z_train.txt', 'drive/MyDrive/UCI_HAR_Dataset/train/Inertial Signals/body_gyro_x_train.txt', 'drive/MyDrive/UCI_HAR_Dataset/train/Inertial Signals/body_gyro_y_train.txt', 'drive/MyDrive/UCI_HAR_Dataset/train/Inertial Signals/body_gyro_z_train.txt']\n",
            "drive/MyDrive/UCI_HAR_Dataset/train/y_train.txt\n",
            "(7352, 128, 9) (7352, 1)\n",
            "load test data.\n",
            "['drive/MyDrive/UCI_HAR_Dataset/test/Inertial Signals/total_acc_x_test.txt', 'drive/MyDrive/UCI_HAR_Dataset/test/Inertial Signals/total_acc_y_test.txt', 'drive/MyDrive/UCI_HAR_Dataset/test/Inertial Signals/total_acc_z_test.txt', 'drive/MyDrive/UCI_HAR_Dataset/test/Inertial Signals/body_acc_x_test.txt', 'drive/MyDrive/UCI_HAR_Dataset/test/Inertial Signals/body_acc_y_test.txt', 'drive/MyDrive/UCI_HAR_Dataset/test/Inertial Signals/body_acc_z_test.txt', 'drive/MyDrive/UCI_HAR_Dataset/test/Inertial Signals/body_gyro_x_test.txt', 'drive/MyDrive/UCI_HAR_Dataset/test/Inertial Signals/body_gyro_y_test.txt', 'drive/MyDrive/UCI_HAR_Dataset/test/Inertial Signals/body_gyro_z_test.txt']\n",
            "drive/MyDrive/UCI_HAR_Dataset/test/y_test.txt\n",
            "(2947, 128, 9) (2947, 1)\n"
          ]
        }
      ]
    },
    {
      "cell_type": "markdown",
      "source": [
        "# legacy load code"
      ],
      "metadata": {
        "id": "9t57XO7NGyRb"
      }
    },
    {
      "cell_type": "code",
      "source": [
        "# # load dataset\n",
        "# from numpy import dstack\n",
        "# from pandas import read_csv\n",
        " \n",
        "# # load a single file as a numpy array\n",
        "# def load_file(filepath):\n",
        "#   dataframe = read_csv(filepath, header=None, delim_whitespace=True)\n",
        "#   return dataframe.values\n",
        " \n",
        "# # load a list of files, such as x, y, z data for a given variable\n",
        "# def load_group(filenames, prefix=''):\n",
        "#   loaded = list()\n",
        "#   for name in filenames:\n",
        "#     data = load_file(prefix + name)\n",
        "#     loaded.append(data)\n",
        "#   # stack group so that features are the 3rd dimension\n",
        "#   loaded = dstack(loaded)\n",
        "#   return loaded\n",
        " \n",
        "# # load a dataset group, such as train or test\n",
        "# def load_dataset(group, prefix=''):\n",
        "#   filepath = prefix + group + '/Inertial Signals/'\n",
        "#   # load all 9 files as a single array\n",
        "#   filenames = list()\n",
        "#   # total acceleration\n",
        "#   filenames += ['total_acc_x_'+group+'.txt', 'total_acc_y_'+group+'.txt', 'total_acc_z_'+group+'.txt']\n",
        "#   # body acceleration\n",
        "#   filenames += ['body_acc_x_'+group+'.txt', 'body_acc_y_'+group+'.txt', 'body_acc_z_'+group+'.txt']\n",
        "#   # body gyroscope\n",
        "#   filenames += ['body_gyro_x_'+group+'.txt', 'body_gyro_y_'+group+'.txt', 'body_gyro_z_'+group+'.txt']\n",
        "#   # load input data\n",
        "#   X = load_group(filenames, filepath)\n",
        "#   # load class output\n",
        "#   y = load_file(prefix + group + '/y_'+group+'.txt')\n",
        "#   return X, y\n",
        " \n",
        "# # load all train\n",
        "# trainX, trainy = load_dataset('train', prefix_path)\n",
        "# print(trainX.shape, trainy.shape)\n",
        "# # load all test\n",
        "# testX, testy = load_dataset('test', prefix_path)\n",
        "# print(testX.shape, testy.shape)"
      ],
      "metadata": {
        "colab": {
          "base_uri": "https://localhost:8080/"
        },
        "id": "_lkLCYYnWL9e",
        "outputId": "9b1f738c-af37-4ae2-8426-d9bb7f602818"
      },
      "execution_count": null,
      "outputs": [
        {
          "output_type": "stream",
          "name": "stdout",
          "text": [
            "(7352, 128, 9) (7352, 1)\n",
            "(2947, 128, 9) (2947, 1)\n"
          ]
        }
      ]
    },
    {
      "cell_type": "markdown",
      "source": [
        "# train model"
      ],
      "metadata": {
        "id": "qI_YfxfAXiJ4"
      }
    },
    {
      "cell_type": "code",
      "source": [
        "train_shape = X_train.shape\n",
        "batch_size = train_shape[0]\n",
        "sequence_length = train_shape[1]\n",
        "number_of_features = train_shape[2]\n",
        "print(f\"{batch_size=}, {sequence_length=}, {number_of_features=} \")"
      ],
      "metadata": {
        "colab": {
          "base_uri": "https://localhost:8080/"
        },
        "id": "iOsI6W_UYFsu",
        "outputId": "d15400c5-f377-4792-f966-50acca5f51c3"
      },
      "execution_count": 28,
      "outputs": [
        {
          "output_type": "stream",
          "name": "stdout",
          "text": [
            "batch_size=7352, sequence_length=128, number_of_features=9 \n"
          ]
        }
      ]
    },
    {
      "cell_type": "code",
      "source": [
        "number_of_classes = len(np.unique(y_train))\n",
        "num_classes = number_of_classes\n",
        "print(f\"{number_of_classes=}\")"
      ],
      "metadata": {
        "colab": {
          "base_uri": "https://localhost:8080/"
        },
        "id": "RDkQyoBgacqQ",
        "outputId": "1a2c399b-2432-468c-c9c8-87935eed9adc"
      },
      "execution_count": 29,
      "outputs": [
        {
          "output_type": "stream",
          "name": "stdout",
          "text": [
            "number_of_classes=6\n"
          ]
        }
      ]
    },
    {
      "cell_type": "code",
      "source": [
        "t_y_train = y_train - 1 #trainy.flatten()\n",
        "t_y_test = y_test - 1 #testy.flatten()\n",
        "print(t_y_train)\n",
        "print(t_y_test)"
      ],
      "metadata": {
        "colab": {
          "base_uri": "https://localhost:8080/"
        },
        "id": "cILQ9CEYxDmF",
        "outputId": "e58189aa-f611-4428-bb25-85413db82608"
      },
      "execution_count": 31,
      "outputs": [
        {
          "output_type": "stream",
          "name": "stdout",
          "text": [
            "[[4]\n",
            " [4]\n",
            " [4]\n",
            " ...\n",
            " [1]\n",
            " [1]\n",
            " [1]]\n",
            "[[4]\n",
            " [4]\n",
            " [4]\n",
            " ...\n",
            " [1]\n",
            " [1]\n",
            " [1]]\n"
          ]
        }
      ]
    },
    {
      "cell_type": "code",
      "source": [
        "np.unique(t_y_train)"
      ],
      "metadata": {
        "colab": {
          "base_uri": "https://localhost:8080/"
        },
        "id": "DyWwfgzZyvrz",
        "outputId": "7ed99514-541a-4dcb-deb0-f64e3312cb00"
      },
      "execution_count": 32,
      "outputs": [
        {
          "output_type": "execute_result",
          "data": {
            "text/plain": [
              "array([0, 1, 2, 3, 4, 5])"
            ]
          },
          "metadata": {},
          "execution_count": 32
        }
      ]
    },
    {
      "cell_type": "code",
      "source": [
        "y_train = tf.keras.utils.to_categorical(t_y_train)\n",
        "y_test = tf.keras.utils.to_categorical(t_y_test)"
      ],
      "metadata": {
        "id": "sELin6O4uSlj"
      },
      "execution_count": 33,
      "outputs": []
    },
    {
      "cell_type": "code",
      "source": [
        "y_train[0]"
      ],
      "metadata": {
        "colab": {
          "base_uri": "https://localhost:8080/"
        },
        "id": "JOKPSuzpyHaP",
        "outputId": "975bec0e-dfcc-47f7-cd37-727ff8101a73"
      },
      "execution_count": 34,
      "outputs": [
        {
          "output_type": "execute_result",
          "data": {
            "text/plain": [
              "array([0., 0., 0., 0., 1., 0.], dtype=float32)"
            ]
          },
          "metadata": {},
          "execution_count": 34
        }
      ]
    },
    {
      "cell_type": "code",
      "source": [
        "y_test[0]"
      ],
      "metadata": {
        "colab": {
          "base_uri": "https://localhost:8080/"
        },
        "id": "d2T5ypYR9HB8",
        "outputId": "be97f896-ed3c-47b3-96b6-195777d609a3"
      },
      "execution_count": 35,
      "outputs": [
        {
          "output_type": "execute_result",
          "data": {
            "text/plain": [
              "array([0., 0., 0., 0., 1., 0.], dtype=float32)"
            ]
          },
          "metadata": {},
          "execution_count": 35
        }
      ]
    },
    {
      "cell_type": "code",
      "source": [
        "type(y_train)\n",
        "print(len(y_train), len(y_train[0]))\n",
        "y_train[0]"
      ],
      "metadata": {
        "colab": {
          "base_uri": "https://localhost:8080/"
        },
        "id": "f2ZfSeXvv7EB",
        "outputId": "f053322f-1073-4783-ba1e-a40218e0b14e"
      },
      "execution_count": 36,
      "outputs": [
        {
          "output_type": "stream",
          "name": "stdout",
          "text": [
            "7352 6\n"
          ]
        },
        {
          "output_type": "execute_result",
          "data": {
            "text/plain": [
              "array([0., 0., 0., 0., 1., 0.], dtype=float32)"
            ]
          },
          "metadata": {},
          "execution_count": 36
        }
      ]
    },
    {
      "cell_type": "code",
      "source": [
        "learning_rate = 0.01\n",
        "n_hidden = 32\n",
        "batch_size = 64\n",
        "shuffle_buffer_size = 1000\n",
        "epochs = 30"
      ],
      "metadata": {
        "id": "R-hoNKJdbNiN"
      },
      "execution_count": 37,
      "outputs": []
    },
    {
      "cell_type": "code",
      "source": [
        "model = tf.keras.models.Sequential([\n",
        "  tf.keras.layers.LSTM(32, input_shape=(sequence_length, number_of_features)),\n",
        "  tf.keras.layers.Dropout(0.5),\n",
        "  tf.keras.layers.Dense(number_of_classes, activation=\"softmax\")\n",
        "])\n",
        "\n",
        "# model.build()\n",
        "\n",
        "#Print the model summary \n",
        "model.summary()"
      ],
      "metadata": {
        "colab": {
          "base_uri": "https://localhost:8080/"
        },
        "id": "iAfCUq5-5QSd",
        "outputId": "8e4ebe85-a34e-4d26-9340-d5c325438efd"
      },
      "execution_count": 38,
      "outputs": [
        {
          "output_type": "stream",
          "name": "stdout",
          "text": [
            "Model: \"sequential\"\n",
            "_________________________________________________________________\n",
            " Layer (type)                Output Shape              Param #   \n",
            "=================================================================\n",
            " lstm (LSTM)                 (None, 32)                5376      \n",
            "                                                                 \n",
            " dropout (Dropout)           (None, 32)                0         \n",
            "                                                                 \n",
            " dense (Dense)               (None, 6)                 198       \n",
            "                                                                 \n",
            "=================================================================\n",
            "Total params: 5,574\n",
            "Trainable params: 5,574\n",
            "Non-trainable params: 0\n",
            "_________________________________________________________________\n"
          ]
        }
      ]
    },
    {
      "cell_type": "code",
      "source": [
        "model.compile(\n",
        "    loss='categorical_crossentropy', \n",
        "    optimizer=tf.keras.optimizers.Adam(learning_rate=learning_rate), \n",
        "    metrics=['accuracy']\n",
        "    )"
      ],
      "metadata": {
        "id": "PzbqRSmLWu6C"
      },
      "execution_count": 39,
      "outputs": []
    },
    {
      "cell_type": "code",
      "source": [
        "# Train the model\n",
        "# history = model.fit(trainX, trainy, validation_data=(testX, testy) ,epochs=10)\n",
        "history = model.fit(X_train, y_train ,epochs=30)"
      ],
      "metadata": {
        "colab": {
          "base_uri": "https://localhost:8080/"
        },
        "id": "D68jceAVsS9t",
        "outputId": "98b16d6f-7fdb-4ac9-cfe0-06a47ef278ce"
      },
      "execution_count": 41,
      "outputs": [
        {
          "output_type": "stream",
          "name": "stdout",
          "text": [
            "Epoch 1/30\n",
            "230/230 [==============================] - 12s 42ms/step - loss: 0.9649 - accuracy: 0.5928\n",
            "Epoch 2/30\n",
            "230/230 [==============================] - 10s 41ms/step - loss: 0.5059 - accuracy: 0.7903\n",
            "Epoch 3/30\n",
            "230/230 [==============================] - 10s 42ms/step - loss: 0.3924 - accuracy: 0.8667\n",
            "Epoch 4/30\n",
            "230/230 [==============================] - 10s 42ms/step - loss: 0.3935 - accuracy: 0.8719\n",
            "Epoch 5/30\n",
            "230/230 [==============================] - 10s 45ms/step - loss: 0.2187 - accuracy: 0.9290\n",
            "Epoch 6/30\n",
            "230/230 [==============================] - 10s 42ms/step - loss: 0.1801 - accuracy: 0.9366\n",
            "Epoch 7/30\n",
            "230/230 [==============================] - 10s 42ms/step - loss: 0.1885 - accuracy: 0.9346\n",
            "Epoch 8/30\n",
            "230/230 [==============================] - 10s 42ms/step - loss: 0.1602 - accuracy: 0.9411\n",
            "Epoch 9/30\n",
            "230/230 [==============================] - 10s 42ms/step - loss: 0.2624 - accuracy: 0.9057\n",
            "Epoch 10/30\n",
            "230/230 [==============================] - 10s 42ms/step - loss: 0.1980 - accuracy: 0.9290\n",
            "Epoch 11/30\n",
            "230/230 [==============================] - 10s 42ms/step - loss: 0.1756 - accuracy: 0.9368\n",
            "Epoch 12/30\n",
            "230/230 [==============================] - 12s 51ms/step - loss: 0.1438 - accuracy: 0.9416\n",
            "Epoch 13/30\n",
            "230/230 [==============================] - 10s 41ms/step - loss: 0.4682 - accuracy: 0.8485\n",
            "Epoch 14/30\n",
            "230/230 [==============================] - 10s 41ms/step - loss: 0.2722 - accuracy: 0.9010\n",
            "Epoch 15/30\n",
            "230/230 [==============================] - 10s 41ms/step - loss: 0.2467 - accuracy: 0.9183\n",
            "Epoch 16/30\n",
            "230/230 [==============================] - 10s 42ms/step - loss: 0.1697 - accuracy: 0.9362\n",
            "Epoch 17/30\n",
            "230/230 [==============================] - 10s 41ms/step - loss: 0.1493 - accuracy: 0.9418\n",
            "Epoch 18/30\n",
            "230/230 [==============================] - 10s 41ms/step - loss: 0.5183 - accuracy: 0.8463\n",
            "Epoch 19/30\n",
            "230/230 [==============================] - 10s 42ms/step - loss: 1.7617 - accuracy: 0.4157\n",
            "Epoch 20/30\n",
            "230/230 [==============================] - 10s 42ms/step - loss: 1.4838 - accuracy: 0.3730\n",
            "Epoch 21/30\n",
            "230/230 [==============================] - 9s 41ms/step - loss: 1.3456 - accuracy: 0.4334\n",
            "Epoch 22/30\n",
            "230/230 [==============================] - 10s 42ms/step - loss: 1.2998 - accuracy: 0.4437\n",
            "Epoch 23/30\n",
            "230/230 [==============================] - 10s 42ms/step - loss: 1.2363 - accuracy: 0.4706\n",
            "Epoch 24/30\n",
            "230/230 [==============================] - 10s 41ms/step - loss: 1.2102 - accuracy: 0.4751\n",
            "Epoch 25/30\n",
            "230/230 [==============================] - 10s 42ms/step - loss: 1.1783 - accuracy: 0.4875\n",
            "Epoch 26/30\n",
            "230/230 [==============================] - 10s 41ms/step - loss: 1.1455 - accuracy: 0.5048\n",
            "Epoch 27/30\n",
            "230/230 [==============================] - 10s 41ms/step - loss: 1.0704 - accuracy: 0.5049\n",
            "Epoch 28/30\n",
            "230/230 [==============================] - 10s 42ms/step - loss: 1.0476 - accuracy: 0.4985\n",
            "Epoch 29/30\n",
            "230/230 [==============================] - 12s 52ms/step - loss: 0.9662 - accuracy: 0.5193\n",
            "Epoch 30/30\n",
            "230/230 [==============================] - 9s 41ms/step - loss: 0.9241 - accuracy: 0.5336\n"
          ]
        }
      ]
    },
    {
      "cell_type": "code",
      "source": [
        "def plot_series(x, y, format=\"-\", start=0, end=None, \n",
        "                title=None, xlabel=None, ylabel=None, legend=None ):\n",
        "    \"\"\"\n",
        "    Visualizes time series data\n",
        "\n",
        "    Args:\n",
        "      x (array of int) - contains values for the x-axis\n",
        "      y (array of int or tuple of arrays) - contains the values for the y-axis\n",
        "      format (string) - line style when plotting the graph\n",
        "      start (int) - first time step to plot\n",
        "      end (int) - last time step to plot\n",
        "      title (string) - title of the plot\n",
        "      xlabel (string) - label for the x-axis\n",
        "      ylabel (string) - label for the y-axis\n",
        "      legend (list of strings) - legend for the plot\n",
        "    \"\"\"\n",
        "\n",
        "    # Setup dimensions of the graph figure\n",
        "    plt.figure(figsize=(10, 6))\n",
        "    \n",
        "    # Check if there are more than two series to plot\n",
        "    if type(y) is tuple:\n",
        "\n",
        "      # Loop over the y elements\n",
        "      for y_curr in y:\n",
        "\n",
        "        # Plot the x and current y values\n",
        "        plt.plot(x[start:end], y_curr[start:end], format)\n",
        "\n",
        "    else:\n",
        "      # Plot the x and y values\n",
        "      plt.plot(x[start:end], y[start:end], format)\n",
        "\n",
        "    # Label the x-axis\n",
        "    plt.xlabel(xlabel)\n",
        "\n",
        "    # Label the y-axis\n",
        "    plt.ylabel(ylabel)\n",
        "\n",
        "    # Set the legend\n",
        "    if legend:\n",
        "      plt.legend(legend)\n",
        "\n",
        "    # Set the title\n",
        "    plt.title(title)\n",
        "\n",
        "    # Overlay a grid on the graph\n",
        "    plt.grid(True)\n",
        "\n",
        "    # Draw the graph on screen\n",
        "    # plt.show()"
      ],
      "metadata": {
        "id": "sexJIg0Gerpp"
      },
      "execution_count": 42,
      "outputs": []
    },
    {
      "cell_type": "code",
      "source": [
        "# Get mae and loss from history log\n",
        "mae=history.history['accuracy']\n",
        "loss=history.history['loss']\n",
        "\n",
        "# Get number of epochs\n",
        "epochs=range(len(loss)) \n",
        "\n",
        "# Plot mae and loss\n",
        "plot_series(\n",
        "    x=epochs, \n",
        "    y=(mae, loss), \n",
        "    title='accuracy and Loss', \n",
        "    xlabel='accuracy',\n",
        "    ylabel='Loss',\n",
        "    legend=['accuracy', 'Loss']\n",
        "    )\n",
        "\n",
        "# Only plot the last 80% of the epochs\n",
        "zoom_split = int(epochs[-1] * 0.2)\n",
        "epochs_zoom = epochs[zoom_split:]\n",
        "mae_zoom = mae[zoom_split:]\n",
        "loss_zoom = loss[zoom_split:]\n",
        "\n",
        "# Plot zoomed mae and loss\n",
        "plot_series(\n",
        "    x=epochs_zoom, \n",
        "    y=(mae_zoom, loss_zoom), \n",
        "    title='accuracy and Loss', \n",
        "    xlabel='accuracy',\n",
        "    ylabel='Loss',\n",
        "    legend=['accuracy', 'Loss']\n",
        "    )"
      ],
      "metadata": {
        "colab": {
          "base_uri": "https://localhost:8080/",
          "height": 791
        },
        "id": "0J7C0d-kfr3y",
        "outputId": "c3681644-4c32-404e-89b9-cab0abd6d223"
      },
      "execution_count": 43,
      "outputs": [
        {
          "output_type": "display_data",
          "data": {
            "text/plain": [
              "<Figure size 720x432 with 1 Axes>"
            ],
            "image/png": "[encoded data removed]"
          },
          "metadata": {
            "needs_background": "light"
          }
        },
        {
          "output_type": "display_data",
          "data": {
            "text/plain": [
              "<Figure size 720x432 with 1 Axes>"
            ],
            "image/png": "[encoded data removed]"
          },
          "metadata": {
            "needs_background": "light"
          }
        }
      ]
    },
    {
      "cell_type": "markdown",
      "source": [
        "# evaluation model"
      ],
      "metadata": {
        "id": "hZYS625F4bKa"
      }
    },
    {
      "cell_type": "code",
      "source": [
        "score = model.evaluate(X_test, y_test)\n",
        "score"
      ],
      "metadata": {
        "colab": {
          "base_uri": "https://localhost:8080/"
        },
        "id": "ZRuoiiJs7pEc",
        "outputId": "e6fe1a61-d654-439d-ad66-0a034489aa39"
      },
      "execution_count": 45,
      "outputs": [
        {
          "output_type": "stream",
          "name": "stdout",
          "text": [
            "93/93 [==============================] - 2s 12ms/step - loss: 0.8137 - accuracy: 0.6220\n"
          ]
        },
        {
          "output_type": "execute_result",
          "data": {
            "text/plain": [
              "[0.8137130737304688, 0.6219884753227234]"
            ]
          },
          "metadata": {},
          "execution_count": 45
        }
      ]
    },
    {
      "cell_type": "code",
      "source": [
        "y_pred = model.predict(X_test)"
      ],
      "metadata": {
        "colab": {
          "base_uri": "https://localhost:8080/"
        },
        "id": "ZSQ3tkxIeTN2",
        "outputId": "a69fa6b0-3e2f-487e-b426-dfca924563f6"
      },
      "execution_count": 46,
      "outputs": [
        {
          "output_type": "stream",
          "name": "stdout",
          "text": [
            "93/93 [==============================] - 4s 22ms/step\n"
          ]
        }
      ]
    },
    {
      "cell_type": "code",
      "source": [
        "y_pred_res = tf.argmax(y_pred, axis=1)\n",
        "y_test_res = tf.argmax(y_test, axis=1)"
      ],
      "metadata": {
        "id": "mJT0sFkhwXaH"
      },
      "execution_count": 47,
      "outputs": []
    },
    {
      "cell_type": "code",
      "source": [
        "cm = tf.math.confusion_matrix(y_test_res, y_pred_res, num_classes=num_classes)"
      ],
      "metadata": {
        "id": "X5Vod_6ywXdB"
      },
      "execution_count": 48,
      "outputs": []
    },
    {
      "cell_type": "code",
      "source": [
        "class_names = [ 'WALKING',\n",
        "    'WALKING_UPSTAIRS',\n",
        "     'WALKING_DOWNSTAIRS',\n",
        "     'SITTING',\n",
        "     'STANDING',\n",
        "     'LAYING',\n",
        "]"
      ],
      "metadata": {
        "id": "hlPoixna5Al-"
      },
      "execution_count": 49,
      "outputs": []
    },
    {
      "cell_type": "code",
      "source": [
        "cm = np.array(cm)\n",
        "\n",
        "fig, ax = plt.subplots(figsize=(15,15))\n",
        "im = ax.imshow(cm, interpolation='nearest', cmap=plt.cm.Blues)\n",
        "ax.figure.colorbar(im, ax=ax)\n",
        "ax.set(xticks=np.arange(cm.shape[1]),\n",
        "       yticks=np.arange(cm.shape[0]),\n",
        "       xticklabels=class_names, yticklabels=class_names,\n",
        "       ylabel='True label',\n",
        "       xlabel='Predicted label')\n",
        "\n",
        "# Loop over data dimensions and create text annotations\n",
        "for i in range(cm.shape[0]):\n",
        "    for j in range(cm.shape[1]):\n",
        "        ax.text(j, i, cm[i, j], ha=\"center\", va=\"center\", color=\"black\")"
      ],
      "metadata": {
        "colab": {
          "base_uri": "https://localhost:8080/",
          "height": 853
        },
        "id": "h9Nij5CowXf7",
        "outputId": "38818ba1-1c6f-444a-db8e-dd893a2d339e"
      },
      "execution_count": 50,
      "outputs": [
        {
          "output_type": "display_data",
          "data": {
            "text/plain": [
              "<Figure size 1080x1080 with 2 Axes>"
            ],
            "image/png": "[encoded data removed]"
          },
          "metadata": {
            "needs_background": "light"
          }
        }
      ]
    },
    {
      "cell_type": "markdown",
      "source": [
        "## CNN + LSTM"
      ],
      "metadata": {
        "id": "qpoiUqkFPhEU"
      }
    },
    {
      "cell_type": "code",
      "source": [
        "model = tf.keras.models.Sequential([\n",
        "  tf.keras.layers.LSTM(32, input_shape=(sequence_length, number_of_features)),\n",
        "  tf.keras.layers.Dropout(0.5),\n",
        "  tf.keras.layers.Dense(64, activation=\"relu\"),\n",
        "  tf.keras.layers.Dense(number_of_classes, activation=\"softmax\")\n",
        "])\n",
        "\n",
        "model.summary()\n",
        "\n"
      ],
      "metadata": {
        "colab": {
          "base_uri": "https://localhost:8080/"
        },
        "id": "qJkHLnvg5PWU",
        "outputId": "5cb610b5-f23c-44e5-cdf3-5f7a0f3c11bc"
      },
      "execution_count": 51,
      "outputs": [
        {
          "output_type": "stream",
          "name": "stdout",
          "text": [
            "Model: \"sequential_1\"\n",
            "_________________________________________________________________\n",
            " Layer (type)                Output Shape              Param #   \n",
            "=================================================================\n",
            " conv1d (Conv1D)             (None, 128, 32)           1184      \n",
            "                                                                 \n",
            " lstm_1 (LSTM)               (None, 32)                8320      \n",
            "                                                                 \n",
            " dropout_1 (Dropout)         (None, 32)                0         \n",
            "                                                                 \n",
            " dense_1 (Dense)             (None, 64)                2112      \n",
            "                                                                 \n",
            " dense_2 (Dense)             (None, 6)                 390       \n",
            "                                                                 \n",
            "=================================================================\n",
            "Total params: 12,006\n",
            "Trainable params: 12,006\n",
            "Non-trainable params: 0\n",
            "_________________________________________________________________\n"
          ]
        }
      ]
    },
    {
      "cell_type": "code",
      "source": [
        "model.compile(\n",
        "    loss='categorical_crossentropy', \n",
        "    optimizer=tf.keras.optimizers.Adam(learning_rate=learning_rate), \n",
        "    metrics=['accuracy']\n",
        "    )\n",
        "\n",
        "history = model.fit(X_train, y_train ,epochs=30)"
      ],
      "metadata": {
        "colab": {
          "base_uri": "https://localhost:8080/"
        },
        "id": "JuXHb516PgO0",
        "outputId": "5a72f5c5-3891-46b2-cf3f-191e3e5c8ce6"
      },
      "execution_count": 53,
      "outputs": [
        {
          "output_type": "stream",
          "name": "stdout",
          "text": [
            "Epoch 1/30\n",
            "230/230 [==============================] - 16s 56ms/step - loss: 0.7394 - accuracy: 0.6721\n",
            "Epoch 2/30\n",
            "230/230 [==============================] - 17s 72ms/step - loss: 0.4052 - accuracy: 0.8474\n",
            "Epoch 3/30\n",
            "230/230 [==============================] - 13s 55ms/step - loss: 0.2520 - accuracy: 0.9155\n",
            "Epoch 4/30\n",
            "230/230 [==============================] - 13s 56ms/step - loss: 0.2384 - accuracy: 0.9142\n",
            "Epoch 5/30\n",
            "230/230 [==============================] - 13s 55ms/step - loss: 0.1833 - accuracy: 0.9309\n",
            "Epoch 6/30\n",
            "230/230 [==============================] - 13s 55ms/step - loss: 0.2275 - accuracy: 0.9192\n",
            "Epoch 7/30\n",
            "230/230 [==============================] - 14s 60ms/step - loss: 0.1530 - accuracy: 0.9400\n",
            "Epoch 8/30\n",
            "230/230 [==============================] - 13s 56ms/step - loss: 0.1538 - accuracy: 0.9436\n",
            "Epoch 9/30\n",
            "230/230 [==============================] - 13s 55ms/step - loss: 0.1834 - accuracy: 0.9324\n",
            "Epoch 10/30\n",
            "230/230 [==============================] - 13s 56ms/step - loss: 0.1961 - accuracy: 0.9310\n",
            "Epoch 11/30\n",
            "230/230 [==============================] - 13s 56ms/step - loss: 0.1521 - accuracy: 0.9431\n",
            "Epoch 12/30\n",
            "230/230 [==============================] - 15s 63ms/step - loss: 0.1322 - accuracy: 0.9444\n",
            "Epoch 13/30\n",
            "230/230 [==============================] - 13s 55ms/step - loss: 0.1627 - accuracy: 0.9418\n",
            "Epoch 14/30\n",
            "230/230 [==============================] - 13s 55ms/step - loss: 0.1402 - accuracy: 0.9457\n",
            "Epoch 15/30\n",
            "230/230 [==============================] - 13s 56ms/step - loss: 0.1773 - accuracy: 0.9357\n",
            "Epoch 16/30\n",
            "230/230 [==============================] - 14s 60ms/step - loss: 0.1321 - accuracy: 0.9478\n",
            "Epoch 17/30\n",
            "230/230 [==============================] - 14s 60ms/step - loss: 0.1931 - accuracy: 0.9365\n",
            "Epoch 18/30\n",
            "230/230 [==============================] - 13s 55ms/step - loss: 0.1571 - accuracy: 0.9414\n",
            "Epoch 19/30\n",
            "230/230 [==============================] - 13s 55ms/step - loss: 0.1438 - accuracy: 0.9479\n",
            "Epoch 20/30\n",
            "230/230 [==============================] - 13s 56ms/step - loss: 0.1406 - accuracy: 0.9474\n",
            "Epoch 21/30\n",
            "230/230 [==============================] - 13s 56ms/step - loss: 0.1629 - accuracy: 0.9425\n",
            "Epoch 22/30\n",
            "230/230 [==============================] - 13s 56ms/step - loss: 0.1284 - accuracy: 0.9482\n",
            "Epoch 23/30\n",
            "230/230 [==============================] - 13s 55ms/step - loss: 0.1127 - accuracy: 0.9538\n",
            "Epoch 24/30\n",
            "230/230 [==============================] - 14s 62ms/step - loss: 0.2053 - accuracy: 0.9306\n",
            "Epoch 25/30\n",
            "230/230 [==============================] - 13s 58ms/step - loss: 0.2672 - accuracy: 0.8925\n",
            "Epoch 26/30\n",
            "230/230 [==============================] - 13s 56ms/step - loss: 0.2063 - accuracy: 0.9155\n",
            "Epoch 27/30\n",
            "230/230 [==============================] - 13s 56ms/step - loss: 0.1677 - accuracy: 0.9305\n",
            "Epoch 28/30\n",
            "230/230 [==============================] - 13s 56ms/step - loss: 0.1734 - accuracy: 0.9280\n",
            "Epoch 29/30\n",
            "230/230 [==============================] - 13s 56ms/step - loss: 0.1510 - accuracy: 0.9368\n",
            "Epoch 30/30\n",
            "230/230 [==============================] - 13s 56ms/step - loss: 0.1425 - accuracy: 0.9427\n"
          ]
        }
      ]
    },
    {
      "cell_type": "code",
      "source": [
        "# Get mae and loss from history log\n",
        "mae=history.history['accuracy']\n",
        "loss=history.history['loss']\n",
        "\n",
        "# Get number of epochs\n",
        "epochs=range(len(loss)) \n",
        "\n",
        "# Plot mae and loss\n",
        "plot_series(\n",
        "    x=epochs, \n",
        "    y=(mae, loss), \n",
        "    title='accuracy and Loss', \n",
        "    xlabel='accuracy',\n",
        "    ylabel='Loss',\n",
        "    legend=['accuracy', 'Loss']\n",
        "    )\n",
        "\n",
        "# Only plot the last 80% of the epochs\n",
        "zoom_split = int(epochs[-1] * 0.2)\n",
        "epochs_zoom = epochs[zoom_split:]\n",
        "mae_zoom = mae[zoom_split:]\n",
        "loss_zoom = loss[zoom_split:]\n",
        "\n",
        "# Plot zoomed mae and loss\n",
        "plot_series(\n",
        "    x=epochs_zoom, \n",
        "    y=(mae_zoom, loss_zoom), \n",
        "    title='accuracy and Loss', \n",
        "    xlabel='accuracy',\n",
        "    ylabel='Loss',\n",
        "    legend=['accuracy', 'Loss']\n",
        "    )"
      ],
      "metadata": {
        "colab": {
          "base_uri": "https://localhost:8080/",
          "height": 791
        },
        "outputId": "53732f7a-5973-4b91-a7cb-b4f6a46d0b9a",
        "id": "e6wQ8nvTO-aC"
      },
      "execution_count": 54,
      "outputs": [
        {
          "output_type": "display_data",
          "data": {
            "text/plain": [
              "<Figure size 720x432 with 1 Axes>"
            ],
            "image/png": "[encoded data removed]"
          },
          "metadata": {
            "needs_background": "light"
          }
        },
        {
          "output_type": "display_data",
          "data": {
            "text/plain": [
              "<Figure size 720x432 with 1 Axes>"
            ],
            "image/png": "[encoded data removed]"
          },
          "metadata": {
            "needs_background": "light"
          }
        }
      ]
    },
    {
      "cell_type": "code",
      "source": [
        "score = model.evaluate(X_test, y_test)\n",
        "score"
      ],
      "metadata": {
        "colab": {
          "base_uri": "https://localhost:8080/"
        },
        "id": "_bks-UA2PD8D",
        "outputId": "59bf3ee8-06db-47d0-93f3-b388891ad54e"
      },
      "execution_count": 55,
      "outputs": [
        {
          "output_type": "stream",
          "name": "stdout",
          "text": [
            "93/93 [==============================] - 2s 15ms/step - loss: 0.4770 - accuracy: 0.9097\n"
          ]
        },
        {
          "output_type": "execute_result",
          "data": {
            "text/plain": [
              "[0.4770335853099823, 0.9097387194633484]"
            ]
          },
          "metadata": {},
          "execution_count": 55
        }
      ]
    },
    {
      "cell_type": "code",
      "source": [
        "y_pred = model.predict(X_test)\n",
        "y_pred_res = tf.argmax(y_pred, axis=1)"
      ],
      "metadata": {
        "colab": {
          "base_uri": "https://localhost:8080/"
        },
        "id": "kqa1qm8qP3u7",
        "outputId": "76b6ef4e-afea-4656-a4e6-f778c36b6003"
      },
      "execution_count": 56,
      "outputs": [
        {
          "output_type": "stream",
          "name": "stdout",
          "text": [
            "93/93 [==============================] - 2s 15ms/step\n"
          ]
        }
      ]
    },
    {
      "cell_type": "code",
      "source": [
        "cm = tf.math.confusion_matrix(y_test_res, y_pred_res, num_classes=num_classes)\n",
        "cm = np.array(cm)\n",
        "\n",
        "fig, ax = plt.subplots(figsize=(15,15))\n",
        "im = ax.imshow(cm, interpolation='nearest', cmap=plt.cm.Blues)\n",
        "ax.figure.colorbar(im, ax=ax)\n",
        "ax.set(xticks=np.arange(cm.shape[1]),\n",
        "       yticks=np.arange(cm.shape[0]),\n",
        "       xticklabels=class_names, yticklabels=class_names,\n",
        "       ylabel='True label',\n",
        "       xlabel='Predicted label')\n",
        "\n",
        "# Loop over data dimensions and create text annotations\n",
        "for i in range(cm.shape[0]):\n",
        "    for j in range(cm.shape[1]):\n",
        "        ax.text(j, i, cm[i, j], ha=\"center\", va=\"center\", color=\"black\")"
      ],
      "metadata": {
        "colab": {
          "base_uri": "https://localhost:8080/",
          "height": 852
        },
        "id": "u1pECNdXP9C0",
        "outputId": "cf59d241-58fd-45d6-8cd7-3740220b048a"
      },
      "execution_count": 57,
      "outputs": [
        {
          "output_type": "display_data",
          "data": {
            "text/plain": [
              "<Figure size 1080x1080 with 2 Axes>"
            ],
            "image/png": "[encoded data removed]"
          },
          "metadata": {
            "needs_background": "light"
          }
        }
      ]
    },
    {
      "cell_type": "markdown",
      "source": [
        "# GridSearchCV"
      ],
      "metadata": {
        "id": "GhwM_hR6c2YS"
      }
    },
    {
      "cell_type": "markdown",
      "source": [
        "We can use Grid Search CV to tuning the parameters of model. for example, tunning the regulariztion rate or dropout rate.\n",
        "\n",
        "\n",
        "It takes too long to run thus here is the sample code, "
      ],
      "metadata": {
        "id": "8KcZJq8lmTHy"
      }
    },
    {
      "cell_type": "code",
      "source": [
        "from sklearn.model_selection import GridSearchCV\n",
        "from tensorflow.keras.wrappers.scikit_learn import KerasClassifier\n",
        "from datetime import datetime"
      ],
      "metadata": {
        "id": "MeZUtu9xQLy3"
      },
      "execution_count": 63,
      "outputs": []
    },
    {
      "cell_type": "code",
      "source": [
        "def create_model(l2_rate=0.0):\n",
        "    model = tf.keras.models.Sequential([\n",
        "      tf.keras.layers.Conv1D(filters=32, kernel_size=4,\n",
        "                          strides=1,\n",
        "                          activation=\"relu\",\n",
        "                          padding='causal',\n",
        "                          input_shape=(sequence_length, number_of_features)),\n",
        "      tf.keras.layers.LSTM(32),\n",
        "      tf.keras.layers.Dropout(0.5),\n",
        "      tf.keras.layers.Dense(64, activation=\"relu\", kernel_regularizer=tf.keras.regularizers.l2(l2_rate)),\n",
        "      tf.keras.layers.Dense(number_of_classes, activation=\"softmax\")\n",
        "    ])\n",
        "    model.compile(\n",
        "    loss='categorical_crossentropy', \n",
        "    optimizer=tf.keras.optimizers.Adam(learning_rate=learning_rate), \n",
        "    metrics=['accuracy']\n",
        "    )\n",
        "    return model\n",
        "\n",
        "# create the model\n",
        "model = KerasClassifier(build_fn=create_model, epochs=20, batch_size=32, verbose=0)"
      ],
      "metadata": {
        "colab": {
          "base_uri": "https://localhost:8080/"
        },
        "id": "CFMX8iwkc4Vu",
        "outputId": "9f9dcac9-4253-4ce6-d532-65c2c309fb43"
      },
      "execution_count": 59,
      "outputs": [
        {
          "output_type": "stream",
          "name": "stderr",
          "text": [
            "<ipython-input-59-86912c2ff979>:21: DeprecationWarning: KerasClassifier is deprecated, use Sci-Keras (https://github.com/adriangb/scikeras) instead. See https://www.adriangb.com/scikeras/stable/migration.html for help migrating.\n",
            "  model = KerasClassifier(build_fn=create_model, epochs=20, batch_size=32, verbose=0)\n"
          ]
        }
      ]
    },
    {
      "cell_type": "code",
      "source": [
        "# define the grid search parameters\n",
        "l2_rate = [0.0, 0.1]#[0.0, 0.001, 0.01, 0.1]\n",
        "param_grid = dict(l2_rate=l2_rate)\n",
        "grid = GridSearchCV(estimator=model, param_grid=param_grid, cv=3)"
      ],
      "metadata": {
        "id": "SLxQmiaafCIu"
      },
      "execution_count": 60,
      "outputs": []
    },
    {
      "cell_type": "code",
      "source": [
        "start_time = datetime.now()"
      ],
      "metadata": {
        "id": "v-s2sIDbPoUN"
      },
      "execution_count": 64,
      "outputs": []
    },
    {
      "cell_type": "code",
      "source": [
        "grid_result = grid.fit(X_train, y_train)"
      ],
      "metadata": {
        "id": "dxq5h-qgfHOo"
      },
      "execution_count": null,
      "outputs": []
    },
    {
      "cell_type": "code",
      "source": [
        "print(f'time cost: {datetime.now()-start_time}')"
      ],
      "metadata": {
        "colab": {
          "base_uri": "https://localhost:8080/"
        },
        "id": "6hLmRlQRPsQl",
        "outputId": "111b5e34-429c-4abd-d731-67ec0985a200"
      },
      "execution_count": 65,
      "outputs": [
        {
          "output_type": "stream",
          "name": "stdout",
          "text": [
            "time cost: 0:00:07.428429\n"
          ]
        }
      ]
    },
    {
      "cell_type": "code",
      "source": [
        "# summarize results\n",
        "print(\"Best: %f using %s\" % (grid_result.best_score_, grid_result.best_params_))\n",
        "means = grid_result.cv_results_['mean_test_score']\n",
        "stds = grid_result.cv_results_['std_test_score']\n",
        "params = grid_result.cv_results_['params']\n",
        "for mean, stdev, param in zip(means, stds, params):\n",
        "    print(\"%f (%f) with: %r\" % (mean, stdev, param))"
      ],
      "metadata": {
        "id": "KSf6f8cMdPkO"
      },
      "execution_count": null,
      "outputs": []
    },
    {
      "cell_type": "code",
      "source": [],
      "metadata": {
        "id": "5iUMzvFXfMxI"
      },
      "execution_count": null,
      "outputs": []
    }
  ]
}