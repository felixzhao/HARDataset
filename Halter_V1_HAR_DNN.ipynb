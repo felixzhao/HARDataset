{
  "nbformat": 4,
  "nbformat_minor": 0,
  "metadata": {
    "colab": {
      "provenance": [],
      "authorship_tag": "ABX9TyN2PyZpDFG8eyrQySqUO7sy",
      "include_colab_link": true
    },
    "kernelspec": {
      "name": "python3",
      "display_name": "Python 3"
    },
    "language_info": {
      "name": "python"
    }
  },
  "cells": [
    {
      "cell_type": "markdown",
      "metadata": {
        "id": "view-in-github",
        "colab_type": "text"
      },
      "source": [
        "<a href=\"https://colab.research.google.com/github/felixzhao/HARDataset/blob/main/Halter_V1_HAR_DNN.ipynb\" target=\"_parent\"><img src=\"https://colab.research.google.com/assets/colab-badge.svg\" alt=\"Open In Colab\"/></a>"
      ]
    },
    {
      "cell_type": "code",
      "execution_count": 2,
      "metadata": {
        "id": "fHRzGf4UCCx2"
      },
      "outputs": [],
      "source": [
        "import seaborn as sns\n",
        "import numpy as np\n",
        "import matplotlib.pyplot as plt\n",
        "import plotly.express as px\n",
        "import pandas as pd\n",
        "import statsmodels.api as sm\n",
        "import statsmodels.tsa.api as smt\n",
        "import matplotlib as mpl"
      ]
    },
    {
      "cell_type": "code",
      "source": [
        "import tensorflow as tf"
      ],
      "metadata": {
        "id": "7Tk_xkl8Xn93"
      },
      "execution_count": 3,
      "outputs": []
    },
    {
      "cell_type": "code",
      "source": [
        "pd.set_option('display.max_columns', None)\n",
        "pd.options.display.float_format = '{:.2f}'.format"
      ],
      "metadata": {
        "id": "5EQNzesUCU9E"
      },
      "execution_count": 4,
      "outputs": []
    },
    {
      "cell_type": "markdown",
      "source": [
        "# Utilities"
      ],
      "metadata": {
        "id": "AzS9l1hVSFiV"
      }
    },
    {
      "cell_type": "code",
      "source": [
        "\"\"\"\n",
        "A python class which load Interial Signals data from HAR data set\n",
        "\"\"\"\n",
        "class HARDataSetLoader:\n",
        "    def __init__(self, root_path):\n",
        "        self.root = root_path\n",
        "        self.file_dir = '/Inertial Signals/'\n",
        "        self.file_prefix = ['total_acc_', 'body_acc_', 'body_gyro_']\n",
        "        self.feature_type = ['x_', 'y_', 'z_']\n",
        "        self.file_type = '.txt'\n",
        "        self.num_classes = None\n",
        "\n",
        "    def _get_feature_files_full_path(self, file_type:str):\n",
        "        feature_files = []\n",
        "        for prefix in self.file_prefix:\n",
        "            for f_type in self.feature_type:\n",
        "                full_path = f\"{self.root}{file_type}{self.file_dir}\" \\\n",
        "                            + f\"{prefix}{f_type}{file_type}{self.file_type}\"\n",
        "                feature_files.append(full_path)\n",
        "        return feature_files\n",
        "\n",
        "    def _get_label_file_full_path(self, file_type:str):\n",
        "        return f'{self.root}{file_type}/y_{file_type}.txt'\n",
        "\n",
        "    def __load_file(self, file_path:str):\n",
        "        return pd.read_csv(file_path, header=None, delim_whitespace=True).values\n",
        "\n",
        "    def _load_feature(self, feature_files):\n",
        "        features = np.dstack(\n",
        "            [\n",
        "                self.__load_file(f) for f in feature_files\n",
        "            ]\n",
        "        )\n",
        "        return features\n",
        "\n",
        "    def _load_label(self, label_file):\n",
        "        \"\"\"\n",
        "        load label y from file,\n",
        "        decrease 1 label number, as tensorflow categorical start from 0.\n",
        "        then generate keras categorical of labels as output \n",
        "        \"\"\"\n",
        "        labels = self.__load_file(label_file)\n",
        "        self.num_classes = len(np.unique(labels))\n",
        "        labels = labels - 1\n",
        "        return tf.keras.utils.to_categorical(labels)\n",
        "\n",
        "    def _load(self, split_type:str):\n",
        "        feature_file_names = self._get_feature_files_full_path(split_type)\n",
        "        label_file_name = self._get_label_file_full_path(split_type)\n",
        "        print(feature_file_names)\n",
        "        print(label_file_name)\n",
        "        X = self._load_feature(feature_file_names)\n",
        "        y = self._load_label(label_file_name)\n",
        "        print(X.shape, y.shape)\n",
        "        return X, y\n",
        "\n",
        "    def load_train(self):\n",
        "        print('load train data.')\n",
        "        return self._load('train')\n",
        "\n",
        "    def load_test(self):\n",
        "        print('load test data.')\n",
        "        return self._load('test')\n",
        "  "
      ],
      "metadata": {
        "id": "QgCZcFFb6-L-"
      },
      "execution_count": 5,
      "outputs": []
    },
    {
      "cell_type": "markdown",
      "source": [
        "# load data"
      ],
      "metadata": {
        "id": "gEW2j79WCpuc"
      }
    },
    {
      "cell_type": "code",
      "source": [
        "from google.colab import drive\n",
        "drive.mount('/content/drive')"
      ],
      "metadata": {
        "colab": {
          "base_uri": "https://localhost:8080/"
        },
        "id": "vOMbHN-VCWr4",
        "outputId": "5f485283-aec0-4f52-9f89-fea34646d31a"
      },
      "execution_count": 6,
      "outputs": [
        {
          "output_type": "stream",
          "name": "stdout",
          "text": [
            "Drive already mounted at /content/drive; to attempt to forcibly remount, call drive.mount(\"/content/drive\", force_remount=True).\n"
          ]
        }
      ]
    },
    {
      "cell_type": "code",
      "source": [
        "root_path = \"drive/MyDrive/UCI_HAR_Dataset/\"\n",
        "loader = HARDataSetLoader(root_path=root_path)\n",
        "X_train, y_train = loader.load_train()\n",
        "X_test, y_test = loader.load_test()\n",
        "print(f'{loader.num_classes=}')"
      ],
      "metadata": {
        "colab": {
          "base_uri": "https://localhost:8080/"
        },
        "id": "oM8JQk5TA4wG",
        "outputId": "47271133-4169-4e83-876d-e5b3838fdb0c"
      },
      "execution_count": 7,
      "outputs": [
        {
          "output_type": "stream",
          "name": "stdout",
          "text": [
            "load train data.\n",
            "['drive/MyDrive/UCI_HAR_Dataset/train/Inertial Signals/total_acc_x_train.txt', 'drive/MyDrive/UCI_HAR_Dataset/train/Inertial Signals/total_acc_y_train.txt', 'drive/MyDrive/UCI_HAR_Dataset/train/Inertial Signals/total_acc_z_train.txt', 'drive/MyDrive/UCI_HAR_Dataset/train/Inertial Signals/body_acc_x_train.txt', 'drive/MyDrive/UCI_HAR_Dataset/train/Inertial Signals/body_acc_y_train.txt', 'drive/MyDrive/UCI_HAR_Dataset/train/Inertial Signals/body_acc_z_train.txt', 'drive/MyDrive/UCI_HAR_Dataset/train/Inertial Signals/body_gyro_x_train.txt', 'drive/MyDrive/UCI_HAR_Dataset/train/Inertial Signals/body_gyro_y_train.txt', 'drive/MyDrive/UCI_HAR_Dataset/train/Inertial Signals/body_gyro_z_train.txt']\n",
            "drive/MyDrive/UCI_HAR_Dataset/train/y_train.txt\n",
            "(7352, 128, 9) (7352, 6)\n",
            "load test data.\n",
            "['drive/MyDrive/UCI_HAR_Dataset/test/Inertial Signals/total_acc_x_test.txt', 'drive/MyDrive/UCI_HAR_Dataset/test/Inertial Signals/total_acc_y_test.txt', 'drive/MyDrive/UCI_HAR_Dataset/test/Inertial Signals/total_acc_z_test.txt', 'drive/MyDrive/UCI_HAR_Dataset/test/Inertial Signals/body_acc_x_test.txt', 'drive/MyDrive/UCI_HAR_Dataset/test/Inertial Signals/body_acc_y_test.txt', 'drive/MyDrive/UCI_HAR_Dataset/test/Inertial Signals/body_acc_z_test.txt', 'drive/MyDrive/UCI_HAR_Dataset/test/Inertial Signals/body_gyro_x_test.txt', 'drive/MyDrive/UCI_HAR_Dataset/test/Inertial Signals/body_gyro_y_test.txt', 'drive/MyDrive/UCI_HAR_Dataset/test/Inertial Signals/body_gyro_z_test.txt']\n",
            "drive/MyDrive/UCI_HAR_Dataset/test/y_test.txt\n",
            "(2947, 128, 9) (2947, 6)\n",
            "loader.num_classes=6\n"
          ]
        }
      ]
    },
    {
      "cell_type": "markdown",
      "source": [
        "# Train model"
      ],
      "metadata": {
        "id": "opuqioOxRjw5"
      }
    },
    {
      "cell_type": "code",
      "source": [
        "train_shape = X_train.shape\n",
        "batch_size = train_shape[0]\n",
        "sequence_length = train_shape[1]\n",
        "number_of_features = train_shape[2]\n",
        "num_classes = loader.num_classes\n",
        "print(f\"{batch_size=}, {sequence_length=}, {number_of_features=}, {num_classes=} \")"
      ],
      "metadata": {
        "colab": {
          "base_uri": "https://localhost:8080/"
        },
        "id": "iOsI6W_UYFsu",
        "outputId": "0357c2c0-80ac-4eb3-ca62-b79e9b009b28"
      },
      "execution_count": 8,
      "outputs": [
        {
          "output_type": "stream",
          "name": "stdout",
          "text": [
            "batch_size=7352, sequence_length=128, number_of_features=9, num_classes=6 \n"
          ]
        }
      ]
    },
    {
      "cell_type": "code",
      "source": [
        "learning_rate = 0.01\n",
        "n_hidden = 32\n",
        "batch_size = 64\n",
        "shuffle_buffer_size = 1000\n",
        "epochs = 30"
      ],
      "metadata": {
        "id": "R-hoNKJdbNiN"
      },
      "execution_count": 9,
      "outputs": []
    },
    {
      "cell_type": "markdown",
      "source": [
        "## Train LSTM model"
      ],
      "metadata": {
        "id": "qI_YfxfAXiJ4"
      }
    },
    {
      "cell_type": "code",
      "source": [
        "model = tf.keras.models.Sequential([\n",
        "  tf.keras.layers.LSTM(32, input_shape=(sequence_length, number_of_features)),\n",
        "#   tf.keras.layers.Dropout(0.5),\n",
        "  tf.keras.layers.Dense(num_classes, activation=\"softmax\")\n",
        "])\n",
        "\n",
        "model.compile(\n",
        "    loss='categorical_crossentropy', \n",
        "    optimizer=tf.keras.optimizers.Adam(learning_rate=learning_rate), \n",
        "    metrics=['accuracy']\n",
        "    )\n",
        "\n",
        "#Print the model summary \n",
        "model.summary()"
      ],
      "metadata": {
        "colab": {
          "base_uri": "https://localhost:8080/"
        },
        "id": "iAfCUq5-5QSd",
        "outputId": "8bd52e2d-d4fe-4188-c65f-015fef209cd6"
      },
      "execution_count": null,
      "outputs": [
        {
          "output_type": "stream",
          "name": "stdout",
          "text": [
            "Model: \"sequential\"\n",
            "_________________________________________________________________\n",
            " Layer (type)                Output Shape              Param #   \n",
            "=================================================================\n",
            " lstm (LSTM)                 (None, 32)                5376      \n",
            "                                                                 \n",
            " dense (Dense)               (None, 6)                 198       \n",
            "                                                                 \n",
            "=================================================================\n",
            "Total params: 5,574\n",
            "Trainable params: 5,574\n",
            "Non-trainable params: 0\n",
            "_________________________________________________________________\n"
          ]
        }
      ]
    },
    {
      "cell_type": "code",
      "source": [
        "# Train the model\n",
        "history = model.fit(X_train, y_train, validation_data=(X_test, y_test) ,epochs=epochs)"
      ],
      "metadata": {
        "colab": {
          "base_uri": "https://localhost:8080/"
        },
        "id": "D68jceAVsS9t",
        "outputId": "80dae7ee-7c99-4a3c-a133-b4a3a21e59fc"
      },
      "execution_count": null,
      "outputs": [
        {
          "output_type": "stream",
          "name": "stdout",
          "text": [
            "Epoch 1/30\n",
            "230/230 [==============================] - 7s 31ms/step - loss: 0.1370 - accuracy: 0.9448 - val_loss: 0.4209 - val_accuracy: 0.8914\n",
            "Epoch 2/30\n",
            "230/230 [==============================] - 7s 32ms/step - loss: 0.1148 - accuracy: 0.9513 - val_loss: 0.3753 - val_accuracy: 0.8962\n",
            "Epoch 3/30\n",
            "230/230 [==============================] - 8s 35ms/step - loss: 0.1145 - accuracy: 0.9521 - val_loss: 0.3842 - val_accuracy: 0.8884\n",
            "Epoch 4/30\n",
            "230/230 [==============================] - 8s 34ms/step - loss: 0.1298 - accuracy: 0.9453 - val_loss: 0.3909 - val_accuracy: 0.8941\n",
            "Epoch 5/30\n",
            "230/230 [==============================] - 8s 35ms/step - loss: 0.1103 - accuracy: 0.9528 - val_loss: 0.3608 - val_accuracy: 0.9006\n",
            "Epoch 6/30\n",
            "230/230 [==============================] - 8s 37ms/step - loss: 0.1049 - accuracy: 0.9535 - val_loss: 0.4325 - val_accuracy: 0.8867\n",
            "Epoch 7/30\n",
            "230/230 [==============================] - 7s 32ms/step - loss: 0.1005 - accuracy: 0.9558 - val_loss: 0.4531 - val_accuracy: 0.9036\n",
            "Epoch 8/30\n",
            "230/230 [==============================] - 11s 46ms/step - loss: 0.1016 - accuracy: 0.9533 - val_loss: 0.4163 - val_accuracy: 0.8989\n",
            "Epoch 9/30\n",
            "230/230 [==============================] - 12s 50ms/step - loss: 0.1143 - accuracy: 0.9510 - val_loss: 0.3708 - val_accuracy: 0.8962\n",
            "Epoch 10/30\n",
            "230/230 [==============================] - 12s 51ms/step - loss: 0.1070 - accuracy: 0.9554 - val_loss: 0.4065 - val_accuracy: 0.8884\n",
            "Epoch 11/30\n",
            "230/230 [==============================] - 7s 32ms/step - loss: 0.1232 - accuracy: 0.9509 - val_loss: 1.0569 - val_accuracy: 0.8117\n",
            "Epoch 12/30\n",
            "230/230 [==============================] - 7s 32ms/step - loss: 0.2450 - accuracy: 0.9176 - val_loss: 0.3674 - val_accuracy: 0.8894\n",
            "Epoch 13/30\n",
            "230/230 [==============================] - 7s 31ms/step - loss: 0.1238 - accuracy: 0.9479 - val_loss: 0.4228 - val_accuracy: 0.8795\n",
            "Epoch 14/30\n",
            "230/230 [==============================] - 7s 31ms/step - loss: 0.1084 - accuracy: 0.9531 - val_loss: 0.3607 - val_accuracy: 0.8992\n",
            "Epoch 15/30\n",
            "230/230 [==============================] - 7s 31ms/step - loss: 0.1029 - accuracy: 0.9562 - val_loss: 0.3706 - val_accuracy: 0.9030\n",
            "Epoch 16/30\n",
            "230/230 [==============================] - 7s 31ms/step - loss: 0.0969 - accuracy: 0.9561 - val_loss: 0.4307 - val_accuracy: 0.8897\n",
            "Epoch 17/30\n",
            "230/230 [==============================] - 7s 31ms/step - loss: 0.1028 - accuracy: 0.9529 - val_loss: 0.4167 - val_accuracy: 0.9036\n",
            "Epoch 18/30\n",
            "230/230 [==============================] - 7s 30ms/step - loss: 0.0963 - accuracy: 0.9553 - val_loss: 0.4493 - val_accuracy: 0.8894\n",
            "Epoch 19/30\n",
            "230/230 [==============================] - 7s 31ms/step - loss: 0.0975 - accuracy: 0.9572 - val_loss: 0.4470 - val_accuracy: 0.8982\n",
            "Epoch 20/30\n",
            "230/230 [==============================] - 7s 31ms/step - loss: 0.0990 - accuracy: 0.9578 - val_loss: 0.4607 - val_accuracy: 0.8897\n",
            "Epoch 21/30\n",
            "230/230 [==============================] - 7s 31ms/step - loss: 0.1012 - accuracy: 0.9550 - val_loss: 0.4797 - val_accuracy: 0.8958\n",
            "Epoch 22/30\n",
            "230/230 [==============================] - 7s 31ms/step - loss: 0.0938 - accuracy: 0.9595 - val_loss: 0.4762 - val_accuracy: 0.8948\n",
            "Epoch 23/30\n",
            "230/230 [==============================] - 8s 33ms/step - loss: 0.0962 - accuracy: 0.9546 - val_loss: 0.4657 - val_accuracy: 0.8985\n",
            "Epoch 24/30\n",
            "230/230 [==============================] - 7s 31ms/step - loss: 0.1041 - accuracy: 0.9472 - val_loss: 0.4731 - val_accuracy: 0.9013\n",
            "Epoch 25/30\n",
            "230/230 [==============================] - 7s 31ms/step - loss: 0.0960 - accuracy: 0.9524 - val_loss: 0.4954 - val_accuracy: 0.9043\n",
            "Epoch 26/30\n",
            "230/230 [==============================] - 7s 30ms/step - loss: 0.0956 - accuracy: 0.9577 - val_loss: 0.4154 - val_accuracy: 0.9019\n",
            "Epoch 27/30\n",
            "230/230 [==============================] - 8s 35ms/step - loss: 0.1040 - accuracy: 0.9550 - val_loss: 0.5488 - val_accuracy: 0.8704\n",
            "Epoch 28/30\n",
            "230/230 [==============================] - 7s 30ms/step - loss: 0.1083 - accuracy: 0.9536 - val_loss: 0.4174 - val_accuracy: 0.8982\n",
            "Epoch 29/30\n",
            "230/230 [==============================] - 7s 31ms/step - loss: 0.0866 - accuracy: 0.9623 - val_loss: 0.4979 - val_accuracy: 0.8962\n",
            "Epoch 30/30\n",
            "230/230 [==============================] - 7s 31ms/step - loss: 0.0928 - accuracy: 0.9581 - val_loss: 0.4782 - val_accuracy: 0.8911\n"
          ]
        }
      ]
    },
    {
      "cell_type": "markdown",
      "source": [
        "## evaluate model"
      ],
      "metadata": {
        "id": "hZYS625F4bKa"
      }
    },
    {
      "cell_type": "markdown",
      "source": [
        "The LSTM accuracy from train set is 0.94, but from test set only 0.89.\n",
        "There are 5% difference between accuracy of train and test.\n",
        "It is clearly overfitting.\n"
      ],
      "metadata": {
        "id": "JaZndZs_UExF"
      }
    },
    {
      "cell_type": "code",
      "source": [
        "fig = plt.figure(figsize=(15, 10))\n",
        "\n",
        "plt.plot(history.history['accuracy'])\n",
        "plt.plot(history.history['val_accuracy'])\n",
        "plt.title('Model accuracy')\n",
        "plt.ylabel('Accuracy')\n",
        "plt.xlabel('Epoch')\n",
        "plt.legend(['Train', 'Test'], loc='upper left')\n",
        "plt.show()"
      ],
      "metadata": {
        "colab": {
          "base_uri": "https://localhost:8080/",
          "height": 621
        },
        "id": "ymVlfKvVUy-g",
        "outputId": "5be19095-07d7-4356-b40b-6d0025d8e142"
      },
      "execution_count": null,
      "outputs": [
        {
          "output_type": "display_data",
          "data": {
            "text/plain": [
              "<Figure size 1080x720 with 1 Axes>"
            ],
            "image/png": "[encoded data removed]"
          },
          "metadata": {
            "needs_background": "light"
          }
        }
      ]
    },
    {
      "cell_type": "markdown",
      "source": [
        "# Train CNN + LSTM model"
      ],
      "metadata": {
        "id": "YGTYnu_cUAkd"
      }
    },
    {
      "cell_type": "markdown",
      "source": [
        "In this section, we will try a more complex model and use some regularization methods to prevent overfitting on it.\n",
        "\n",
        "Regularization is a technique used to prevent overfitting in deep neural networks (DNNs). Some common regularization methods include:\n",
        "\n",
        "- L1 regularization: Also known as Lasso regularization, this method adds a penalty term to the loss function that is proportional to the absolute value of the weights. This results in some weights being set to zero, effectively removing those features from the model.\n",
        "\n",
        "- L2 regularization: Also known as Ridge regularization, this method adds a penalty term to the loss function that is proportional to the square of the weights. This results in small, non-zero weights, which can help prevent overfitting.\n",
        "\n",
        "- Dropout: This is a form of regularization that randomly drops out neurons during training, forcing the remaining neurons to learn more robust features.\n",
        "\n",
        "- Early stopping: This method stops training the model before it reaches convergence, in order to prevent overfitting.\n",
        "\n",
        "- Data augmentation: This method artificially increases the size of the training dataset by applying random transformations to the existing data, such as flipping images or adding noise. This can help the model generalize better.\n",
        "\n",
        "- Batch normalization: This method normalizes the activations of the neurons in a batch, which helps to speed up training and reduce the effects of internal covariate shift.\n",
        "\n",
        "- Max norm regularization: This method constrains the weights of the network such that the maximum L2 norm of the weights of a layer is less than a fixed value.\n",
        "\n",
        "- Weight decay: This method is similar to L2 regularization, but instead of adding the penalty term to the loss function, it modifies the learning rate so that the optimizer takes smaller steps when the gradients are high.\n",
        "\n",
        "As we known, in this problem the data is not sparse data. Thus, L2 may the better way than L1, as L1 could removing features. And we will try Dropout and early stopping as well."
      ],
      "metadata": {
        "id": "V5dYuuL1qBGq"
      }
    },
    {
      "cell_type": "markdown",
      "source": [
        "Here we use an CNN + LSTM solution.\n",
        "\n",
        "Convolutional neural networks (CNNs) are commonly used in image and video processing tasks, but they can also be applied to time series data. In particular, a 1D convolutional layer (Conv1D) can be used to extract features from a time series by sliding a kernel (a small matrix of weights) along the sequence, performing a dot product at each position, and applying a non-linear activation function. This allows the model to learn local patterns in the data, such as trends or periodicity, that may be useful for classification. Additionally, Conv1D can also be used in combination with pooling layers to reduce the dimensionality of the data and make the model more robust to noise."
      ],
      "metadata": {
        "id": "kY2aL2DOtDAz"
      }
    },
    {
      "cell_type": "markdown",
      "source": [
        "Long Short-Term Memory (LSTM) networks are a type of recurrent neural network (RNN) that can be used for time series classification tasks. Unlike traditional RNNs, LSTMs have a memory cell that can store information from previous time steps, allowing them to better handle long-term dependencies in the data. This is especially useful for time series data, where patterns may be spread out over a long period of time and traditional RNNs may struggle to capture these dependencies. Additionally, LSTMs have gates (input, output and forget gates) that can selectively choose which information to keep, discard or update in the memory, which helps to prevent the vanishing and exploding gradient problem commonly faced by RNNs. LSTM can learn to recognize patterns, trends and anomalies in sequential data, which is useful in time series classification tasks."
      ],
      "metadata": {
        "id": "TbEpDaKkugSm"
      }
    },
    {
      "cell_type": "markdown",
      "source": [
        "Softmax is a common choice for the final activation function in a neural network when the task is multi-class classification. The function maps the output of the network to a probability distribution over the different classes, allowing the model to make predictions about the most likely class for a given input.\n",
        "\n",
        "\n",
        "\n",
        "\n"
      ],
      "metadata": {
        "id": "o5IQdOO8vZcY"
      }
    },
    {
      "cell_type": "code",
      "source": [
        "\"\"\"\n",
        "padding='causal', \n",
        "    the input tensor is only padded on the left side, \n",
        "    and the output at time t only depends on past observations \n",
        "    and not on future observations. \n",
        "    This is useful in time series analysis.\n",
        "\n",
        "strides=1, \n",
        "    the filter moves one step at a time along the width dimension, \n",
        "    and the output will have the same width as the input. \n",
        "    This means that the filter will be applied to every element of the input tensor, \n",
        "    resulting in the most detailed representation of the input. \n",
        "\n",
        "kernel_regularizer=tf.keras.regularizers.l2(0.001),\n",
        "    the L2 regularizer is being used with a regularization rate of 0.001. \n",
        "    This means that for every weight in the weight matrix, \n",
        "    the square of its value will be multiplied by 0.001 \n",
        "    and added to the overall loss during training, \n",
        "    encouraging the weights to be small and reducing overfitting.\n",
        "\"\"\"\n",
        "model = tf.keras.models.Sequential([\n",
        "  tf.keras.layers.Conv1D(\n",
        "      filters=32, \n",
        "      kernel_size=4,\n",
        "      strides=1,\n",
        "      activation=\"relu\",\n",
        "      padding='causal',\n",
        "      input_shape=(sequence_length, number_of_features),\n",
        "      kernel_regularizer=tf.keras.regularizers.l2(0.001),\n",
        "      ),\n",
        "  tf.keras.layers.LSTM(32),\n",
        "  tf.keras.layers.Dropout(0.5),\n",
        "  tf.keras.layers.Dense(64, activation=\"relu\"),\n",
        "  tf.keras.layers.Dense(num_classes, activation=\"softmax\")\n",
        "])\n",
        "\n",
        "model.compile(\n",
        "    loss='categorical_crossentropy', \n",
        "    optimizer=tf.keras.optimizers.Adam(learning_rate=learning_rate), \n",
        "    metrics=['accuracy']\n",
        "    )\n",
        "\n",
        "#Print the model summary \n",
        "model.summary()"
      ],
      "metadata": {
        "colab": {
          "base_uri": "https://localhost:8080/"
        },
        "outputId": "7e039d14-9184-47e7-a4b1-98cc7e0660d2",
        "id": "P4YSsMiTV7Zf"
      },
      "execution_count": 53,
      "outputs": [
        {
          "output_type": "stream",
          "name": "stdout",
          "text": [
            "Model: \"sequential_3\"\n",
            "_________________________________________________________________\n",
            " Layer (type)                Output Shape              Param #   \n",
            "=================================================================\n",
            " conv1d_3 (Conv1D)           (None, 128, 32)           1184      \n",
            "                                                                 \n",
            " lstm_3 (LSTM)               (None, 32)                8320      \n",
            "                                                                 \n",
            " dropout_3 (Dropout)         (None, 32)                0         \n",
            "                                                                 \n",
            " dense_6 (Dense)             (None, 64)                2112      \n",
            "                                                                 \n",
            " dense_7 (Dense)             (None, 6)                 390       \n",
            "                                                                 \n",
            "=================================================================\n",
            "Total params: 12,006\n",
            "Trainable params: 12,006\n",
            "Non-trainable params: 0\n",
            "_________________________________________________________________\n"
          ]
        }
      ]
    },
    {
      "cell_type": "code",
      "source": [
        "# early_stop_loss = tf.keras.callbacks.EarlyStopping(monitor='val_loss', patience=10, restore_best_weights=True, mode='min')\n",
        "early_stop_acc = tf.keras.callbacks.EarlyStopping(monitor='val_accuracy', patience=10, restore_best_weights=True, mode='max')\n",
        "reduce_lr = tf.keras.callbacks.ReduceLROnPlateau(monitor='val_loss', patience=10, factor=0.5, min_lr=1e-8, verbose=1)\n",
        "\n",
        "\n",
        "# Train the model\n",
        "history = model.fit(X_train, y_train ,validation_data=(X_test, y_test) ,epochs=50, callbacks=[early_stop_acc, reduce_lr])"
      ],
      "metadata": {
        "colab": {
          "base_uri": "https://localhost:8080/"
        },
        "outputId": "e8422d75-2a2d-468b-b7b3-0edfd13f6fce",
        "id": "jWxGI8RrV7Zg"
      },
      "execution_count": 54,
      "outputs": [
        {
          "output_type": "stream",
          "name": "stdout",
          "text": [
            "Epoch 1/50\n",
            "230/230 [==============================] - 11s 39ms/step - loss: 0.8454 - accuracy: 0.6133 - val_loss: 0.6273 - val_accuracy: 0.7211 - lr: 0.0100\n",
            "Epoch 2/50\n",
            "230/230 [==============================] - 9s 37ms/step - loss: 0.5256 - accuracy: 0.7734 - val_loss: 0.5194 - val_accuracy: 0.8310 - lr: 0.0100\n",
            "Epoch 3/50\n",
            "230/230 [==============================] - 9s 38ms/step - loss: 0.3852 - accuracy: 0.8702 - val_loss: 0.7166 - val_accuracy: 0.7391 - lr: 0.0100\n",
            "Epoch 4/50\n",
            "230/230 [==============================] - 10s 42ms/step - loss: 0.3364 - accuracy: 0.8961 - val_loss: 0.6705 - val_accuracy: 0.8493 - lr: 0.0100\n",
            "Epoch 5/50\n",
            "230/230 [==============================] - 9s 37ms/step - loss: 0.3680 - accuracy: 0.9026 - val_loss: 0.5444 - val_accuracy: 0.8748 - lr: 0.0100\n",
            "Epoch 6/50\n",
            "230/230 [==============================] - 9s 38ms/step - loss: 0.2737 - accuracy: 0.9289 - val_loss: 0.4759 - val_accuracy: 0.8904 - lr: 0.0100\n",
            "Epoch 7/50\n",
            "230/230 [==============================] - 9s 38ms/step - loss: 0.2487 - accuracy: 0.9340 - val_loss: 0.4517 - val_accuracy: 0.8856 - lr: 0.0100\n",
            "Epoch 8/50\n",
            "230/230 [==============================] - 9s 38ms/step - loss: 0.2147 - accuracy: 0.9406 - val_loss: 0.4512 - val_accuracy: 0.8778 - lr: 0.0100\n",
            "Epoch 9/50\n",
            "230/230 [==============================] - 9s 38ms/step - loss: 0.2165 - accuracy: 0.9397 - val_loss: 0.3876 - val_accuracy: 0.9114 - lr: 0.0100\n",
            "Epoch 10/50\n",
            "230/230 [==============================] - 9s 37ms/step - loss: 0.2588 - accuracy: 0.9295 - val_loss: 0.5477 - val_accuracy: 0.8802 - lr: 0.0100\n",
            "Epoch 11/50\n",
            "230/230 [==============================] - 9s 37ms/step - loss: 0.2306 - accuracy: 0.9410 - val_loss: 0.3749 - val_accuracy: 0.9118 - lr: 0.0100\n",
            "Epoch 12/50\n",
            "230/230 [==============================] - 9s 38ms/step - loss: 0.1959 - accuracy: 0.9476 - val_loss: 0.6301 - val_accuracy: 0.8663 - lr: 0.0100\n",
            "Epoch 13/50\n",
            "230/230 [==============================] - 9s 38ms/step - loss: 0.2963 - accuracy: 0.9108 - val_loss: 0.4652 - val_accuracy: 0.8775 - lr: 0.0100\n",
            "Epoch 14/50\n",
            "230/230 [==============================] - 9s 37ms/step - loss: 0.2047 - accuracy: 0.9412 - val_loss: 0.5278 - val_accuracy: 0.8619 - lr: 0.0100\n",
            "Epoch 15/50\n",
            "230/230 [==============================] - 8s 37ms/step - loss: 0.1927 - accuracy: 0.9456 - val_loss: 0.4339 - val_accuracy: 0.9104 - lr: 0.0100\n",
            "Epoch 16/50\n",
            "230/230 [==============================] - 9s 37ms/step - loss: 0.2003 - accuracy: 0.9392 - val_loss: 0.4006 - val_accuracy: 0.9046 - lr: 0.0100\n",
            "Epoch 17/50\n",
            "230/230 [==============================] - 9s 37ms/step - loss: 0.1838 - accuracy: 0.9463 - val_loss: 0.4122 - val_accuracy: 0.8982 - lr: 0.0100\n",
            "Epoch 18/50\n",
            "230/230 [==============================] - 9s 38ms/step - loss: 0.2180 - accuracy: 0.9403 - val_loss: 0.3256 - val_accuracy: 0.9108 - lr: 0.0100\n",
            "Epoch 19/50\n",
            "230/230 [==============================] - 10s 43ms/step - loss: 0.2061 - accuracy: 0.9422 - val_loss: 0.3882 - val_accuracy: 0.9091 - lr: 0.0100\n",
            "Epoch 20/50\n",
            "230/230 [==============================] - 9s 37ms/step - loss: 0.1776 - accuracy: 0.9498 - val_loss: 0.4282 - val_accuracy: 0.8979 - lr: 0.0100\n",
            "Epoch 21/50\n",
            "230/230 [==============================] - 9s 38ms/step - loss: 0.1550 - accuracy: 0.9509 - val_loss: 0.4898 - val_accuracy: 0.8955 - lr: 0.0100\n"
          ]
        }
      ]
    },
    {
      "cell_type": "code",
      "source": [
        "fig = plt.figure(figsize=(15, 10))\n",
        "\n",
        "plt.plot(history.history['accuracy'])\n",
        "plt.plot(history.history['val_accuracy'])\n",
        "plt.title('Model accuracy')\n",
        "plt.ylabel('Accuracy')\n",
        "plt.xlabel('Epoch')\n",
        "plt.legend(['Train', 'Test'], loc='upper left')\n",
        "plt.show()"
      ],
      "metadata": {
        "colab": {
          "base_uri": "https://localhost:8080/",
          "height": 621
        },
        "outputId": "ef0cca39-66b3-4e31-ed69-9f3920778f2b",
        "id": "ROagne-8h0SV"
      },
      "execution_count": 55,
      "outputs": [
        {
          "output_type": "display_data",
          "data": {
            "text/plain": [
              "<Figure size 1080x720 with 1 Axes>"
            ],
            "image/png": "[encoded data removed]"
          },
          "metadata": {
            "needs_background": "light"
          }
        }
      ]
    },
    {
      "cell_type": "markdown",
      "source": [
        "# GridSearchCV"
      ],
      "metadata": {
        "id": "GhwM_hR6c2YS"
      }
    },
    {
      "cell_type": "markdown",
      "source": [
        "We can use Grid Search CV to tuning the parameters of model. for example, tunning the regulariztion rate or dropout rate.\n",
        "\n",
        "\n",
        "It takes too long to run thus here is the sample code, "
      ],
      "metadata": {
        "id": "8KcZJq8lmTHy"
      }
    },
    {
      "cell_type": "code",
      "source": [
        "from sklearn.model_selection import GridSearchCV\n",
        "from tensorflow.keras.wrappers.scikit_learn import KerasClassifier\n",
        "from datetime import datetime"
      ],
      "metadata": {
        "id": "MeZUtu9xQLy3"
      },
      "execution_count": null,
      "outputs": []
    },
    {
      "cell_type": "code",
      "source": [
        "def create_model(l2_rate=0.0):\n",
        "    model = tf.keras.models.Sequential([\n",
        "      tf.keras.layers.Conv1D(filters=32, kernel_size=4,\n",
        "                          strides=1,\n",
        "                          activation=\"relu\",\n",
        "                          padding='causal',\n",
        "                          input_shape=(sequence_length, number_of_features)),\n",
        "      tf.keras.layers.LSTM(32),\n",
        "      tf.keras.layers.Dropout(0.5),\n",
        "      tf.keras.layers.Dense(64, activation=\"relu\", kernel_regularizer=tf.keras.regularizers.l2(l2_rate)),\n",
        "      tf.keras.layers.Dense(number_of_classes, activation=\"softmax\")\n",
        "    ])\n",
        "    model.compile(\n",
        "    loss='categorical_crossentropy', \n",
        "    optimizer=tf.keras.optimizers.Adam(learning_rate=learning_rate), \n",
        "    metrics=['accuracy']\n",
        "    )\n",
        "    return model\n",
        "\n",
        "# create the model\n",
        "model_cv = KerasClassifier(build_fn=create_model, epochs=20, batch_size=32, verbose=0)"
      ],
      "metadata": {
        "colab": {
          "base_uri": "https://localhost:8080/"
        },
        "id": "CFMX8iwkc4Vu",
        "outputId": "9f9dcac9-4253-4ce6-d532-65c2c309fb43"
      },
      "execution_count": null,
      "outputs": [
        {
          "output_type": "stream",
          "name": "stderr",
          "text": [
            "<ipython-input-59-86912c2ff979>:21: DeprecationWarning: KerasClassifier is deprecated, use Sci-Keras (https://github.com/adriangb/scikeras) instead. See https://www.adriangb.com/scikeras/stable/migration.html for help migrating.\n",
            "  model = KerasClassifier(build_fn=create_model, epochs=20, batch_size=32, verbose=0)\n"
          ]
        }
      ]
    },
    {
      "cell_type": "code",
      "source": [
        "# define the grid search parameters\n",
        "l2_rate = [0.0, 0.001, 0.01, 0.1]\n",
        "param_grid = dict(l2_rate=l2_rate)\n",
        "grid = GridSearchCV(estimator=model_cv, param_grid=param_grid, cv=3)"
      ],
      "metadata": {
        "id": "SLxQmiaafCIu"
      },
      "execution_count": null,
      "outputs": []
    },
    {
      "cell_type": "code",
      "source": [
        "start_time = datetime.now()"
      ],
      "metadata": {
        "id": "v-s2sIDbPoUN"
      },
      "execution_count": null,
      "outputs": []
    },
    {
      "cell_type": "code",
      "source": [
        "grid_result = grid.fit(X_train, y_train)"
      ],
      "metadata": {
        "id": "dxq5h-qgfHOo"
      },
      "execution_count": null,
      "outputs": []
    },
    {
      "cell_type": "code",
      "source": [
        "print(f'time cost: {datetime.now()-start_time}')"
      ],
      "metadata": {
        "id": "6hLmRlQRPsQl"
      },
      "execution_count": null,
      "outputs": []
    },
    {
      "cell_type": "code",
      "source": [
        "# summarize results\n",
        "print(\"Best: %f using %s\" % (grid_result.best_score_, grid_result.best_params_))\n",
        "means = grid_result.cv_results_['mean_test_score']\n",
        "stds = grid_result.cv_results_['std_test_score']\n",
        "params = grid_result.cv_results_['params']\n",
        "for mean, stdev, param in zip(means, stds, params):\n",
        "    print(\"%f (%f) with: %r\" % (mean, stdev, param))"
      ],
      "metadata": {
        "id": "KSf6f8cMdPkO"
      },
      "execution_count": null,
      "outputs": []
    },
    {
      "cell_type": "markdown",
      "source": [
        "# Experiment Result"
      ],
      "metadata": {
        "id": "wL8Rk-7bwucj"
      }
    },
    {
      "cell_type": "markdown",
      "source": [
        "## confusion matrix"
      ],
      "metadata": {
        "id": "J3aeL_1UsP4F"
      }
    },
    {
      "cell_type": "markdown",
      "source": [
        "In the work CNN + LSTM, test accuracy reach to 91.2%.\n",
        "\n",
        "Based on the Confusion matrix most of the classes are correct.\n",
        "\n",
        "Except \"Standing\" and \"sitting\", which we can do more analysis in future work."
      ],
      "metadata": {
        "id": "6bPj24Srw1o-"
      }
    },
    {
      "cell_type": "code",
      "source": [
        "test_loss, test_acc = model.evaluate(X_test, y_test, verbose=2)\n",
        "print('Test accuracy:', test_acc)"
      ],
      "metadata": {
        "colab": {
          "base_uri": "https://localhost:8080/"
        },
        "id": "ZRuoiiJs7pEc",
        "outputId": "b9fe0b3f-7571-472f-875a-7ed9d0ea451a"
      },
      "execution_count": null,
      "outputs": [
        {
          "output_type": "stream",
          "name": "stdout",
          "text": [
            "93/93 - 1s - loss: 0.3749 - accuracy: 0.9118 - 707ms/epoch - 8ms/step\n",
            "Test accuracy: 0.9117746949195862\n"
          ]
        }
      ]
    },
    {
      "cell_type": "code",
      "source": [
        "y_pred = model.predict(X_test)"
      ],
      "metadata": {
        "colab": {
          "base_uri": "https://localhost:8080/"
        },
        "id": "ZSQ3tkxIeTN2",
        "outputId": "f61277bc-e432-46a8-9cf5-843a7ced4a11"
      },
      "execution_count": 57,
      "outputs": [
        {
          "output_type": "stream",
          "name": "stdout",
          "text": [
            "93/93 [==============================] - 1s 9ms/step\n"
          ]
        }
      ]
    },
    {
      "cell_type": "code",
      "source": [
        "y_pred_res = tf.argmax(y_pred, axis=1)\n",
        "y_test_res = tf.argmax(y_test, axis=1)"
      ],
      "metadata": {
        "id": "mJT0sFkhwXaH"
      },
      "execution_count": 58,
      "outputs": []
    },
    {
      "cell_type": "code",
      "source": [
        "cm = tf.math.confusion_matrix(y_test_res, y_pred_res, num_classes=num_classes)"
      ],
      "metadata": {
        "id": "X5Vod_6ywXdB"
      },
      "execution_count": 59,
      "outputs": []
    },
    {
      "cell_type": "code",
      "source": [
        "class_names = [ 'WALKING',\n",
        "    'WALKING_UPSTAIRS',\n",
        "     'WALKING_DOWNSTAIRS',\n",
        "     'SITTING',\n",
        "     'STANDING',\n",
        "     'LAYING',\n",
        "]"
      ],
      "metadata": {
        "id": "hlPoixna5Al-"
      },
      "execution_count": 60,
      "outputs": []
    },
    {
      "cell_type": "code",
      "source": [
        "cm = np.array(cm)\n",
        "\n",
        "fig, ax = plt.subplots(figsize=(15,15))\n",
        "im = ax.imshow(cm, interpolation='nearest', cmap=plt.cm.Blues)\n",
        "ax.figure.colorbar(im, ax=ax)\n",
        "ax.set(xticks=np.arange(cm.shape[1]),\n",
        "       yticks=np.arange(cm.shape[0]),\n",
        "       xticklabels=class_names, yticklabels=class_names,\n",
        "       ylabel='True label',\n",
        "       xlabel='Predicted label')\n",
        "\n",
        "# Loop over data dimensions and create text annotations\n",
        "for i in range(cm.shape[0]):\n",
        "    for j in range(cm.shape[1]):\n",
        "        ax.text(j, i, cm[i, j], ha=\"center\", va=\"center\", color=\"black\")"
      ],
      "metadata": {
        "colab": {
          "base_uri": "https://localhost:8080/",
          "height": 852
        },
        "id": "h9Nij5CowXf7",
        "outputId": "6f4b4c2b-3b4a-423a-dc33-758733abb282"
      },
      "execution_count": 61,
      "outputs": [
        {
          "output_type": "display_data",
          "data": {
            "text/plain": [
              "<Figure size 1080x1080 with 2 Axes>"
            ],
            "image/png": "[encoded data removed]"
          },
          "metadata": {
            "needs_background": "light"
          }
        }
      ]
    },
    {
      "cell_type": "markdown",
      "source": [
        "# Conculsion"
      ],
      "metadata": {
        "id": "nlGBcr_WsbdN"
      }
    },
    {
      "cell_type": "markdown",
      "source": [
        "In this work, we found simple LSTM not works well and lead to overfitting.\n",
        "\n",
        "We introduce an approach CNN + LSTM with regularzation.\n",
        "\n",
        "The CNN layer allows the model to learn local patterns in the data, such as trends or periodicity, that may be useful for classification. \n",
        "\n",
        "And LSTMs memory information from previous time steps, allowing them to better handle long-term dependencies in the data. And it has abality to prevent the vanishing and exploding gradient problem.\n",
        "\n",
        "\n",
        "in further work, we can combine Conv1D with pooling layers to reduce the dimensionality of the data and make the model more robust to noise."
      ],
      "metadata": {
        "id": "ZvGDxPiDtp4e"
      }
    },
    {
      "cell_type": "markdown",
      "source": [
        "### CNN\n",
        "\n",
        "Pros\n",
        "- They are able to learn features from the input data automatically, without the need for manual feature engineering.\n",
        "\n",
        "Cons\n",
        "- CNNs require a large amount of data and computational resources to train.\n",
        "- They are sensitive to the quality and annotation of the training data, which can lead to overfitting if the data is not diverse or representative enough.\n",
        "- They can be difficult to interpret, as the learned features are often abstract and not directly related to the input data."
      ],
      "metadata": {
        "id": "T_ndZ2_Mv-KO"
      }
    },
    {
      "cell_type": "markdown",
      "source": [
        "### LSTM for time series classification\n",
        "Pros\n",
        "\n",
        "- LSTMs are well suited for time series classification tasks as they are able to effectively capture long-term dependencies in sequential data.\n",
        "- LSTMs are able to handle input sequences of varying lengths, which is useful for handling variable-length time series data.\n",
        "- LSTMs are able to learn the underlying patterns and trends in the time series data, which can be useful for making accurate predictions.\n",
        "\n",
        "\n",
        "Cons\n",
        "\n",
        "- LSTMs can be computationally expensive to train and run, particularly when dealing with large input sequences or large amounts of data.\n",
        "- LSTMs can be difficult to interpret and understand, as they are a complex model with many internal components.\n",
        "- LSTMs can be prone to overfitting if not properly regularized, as they have a large number of parameters that can be adjusted.\n",
        "- LSTMs may not be suitable for time series data with high frequency, as the model might not be able to capture the high-frequency patterns.\n",
        "- LSTMs may not be suitable for time series data with a high degree of noise, as the model might not be able to differentiate between noise and signal."
      ],
      "metadata": {
        "id": "uRh8EzdPJMsn"
      }
    },
    {
      "cell_type": "code",
      "source": [],
      "metadata": {
        "id": "a-lTflATJPu5"
      },
      "execution_count": null,
      "outputs": []
    }
  ]
}